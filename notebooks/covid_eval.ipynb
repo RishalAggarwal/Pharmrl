{
 "cells": [
  {
   "cell_type": "markdown",
   "metadata": {},
   "source": [
    "Setup covid dataset"
   ]
  },
  {
   "cell_type": "code",
   "execution_count": 1,
   "metadata": {},
   "outputs": [],
   "source": [
    "import os\n",
    "os.chdir('../')\n",
    "import pandas as pd"
   ]
  },
  {
   "cell_type": "code",
   "execution_count": 2,
   "metadata": {},
   "outputs": [
    {
     "data": {
      "text/html": [
       "<div>\n",
       "<style scoped>\n",
       "    .dataframe tbody tr th:only-of-type {\n",
       "        vertical-align: middle;\n",
       "    }\n",
       "\n",
       "    .dataframe tbody tr th {\n",
       "        vertical-align: top;\n",
       "    }\n",
       "\n",
       "    .dataframe thead th {\n",
       "        text-align: right;\n",
       "    }\n",
       "</style>\n",
       "<table border=\"1\" class=\"dataframe\">\n",
       "  <thead>\n",
       "    <tr style=\"text-align: right;\">\n",
       "      <th></th>\n",
       "      <th>SMILES</th>\n",
       "      <th>CID</th>\n",
       "      <th>canonical_CID</th>\n",
       "      <th>r_inhibition_at_20_uM</th>\n",
       "      <th>r_inhibition_at_50_uM</th>\n",
       "      <th>r_avg_IC50</th>\n",
       "      <th>f_inhibition_at_20_uM</th>\n",
       "      <th>f_inhibition_at_50_uM</th>\n",
       "      <th>f_avg_IC50</th>\n",
       "      <th>f_avg_pIC50</th>\n",
       "      <th>relative_solubility_at_20_uM</th>\n",
       "      <th>relative_solubility_at_100_uM</th>\n",
       "      <th>trypsin_IC50</th>\n",
       "      <th>NMR_std_ratio</th>\n",
       "      <th>acrylamide</th>\n",
       "      <th>chloroacetamide</th>\n",
       "      <th>series</th>\n",
       "      <th>frag_id</th>\n",
       "    </tr>\n",
       "  </thead>\n",
       "  <tbody>\n",
       "    <tr>\n",
       "      <th>0</th>\n",
       "      <td>CCNC(=O)CN1CC2(CCN(c3cncc4ccccc34)C2=O)c2cc(Cl...</td>\n",
       "      <td>LUO-POS-e1dab717-11</td>\n",
       "      <td>LUO-POS-e1dab717-11</td>\n",
       "      <td>NaN</td>\n",
       "      <td>NaN</td>\n",
       "      <td>NaN</td>\n",
       "      <td>NaN</td>\n",
       "      <td>NaN</td>\n",
       "      <td>0.275118</td>\n",
       "      <td>NaN</td>\n",
       "      <td>NaN</td>\n",
       "      <td>NaN</td>\n",
       "      <td>NaN</td>\n",
       "      <td>NaN</td>\n",
       "      <td>False</td>\n",
       "      <td>False</td>\n",
       "      <td>3-aminopyridine-like</td>\n",
       "      <td>NaN</td>\n",
       "    </tr>\n",
       "    <tr>\n",
       "      <th>1</th>\n",
       "      <td>O=C(CN1CC2(CCN(c3cncc4ccccc34)C2=O)c2cc(Cl)ccc...</td>\n",
       "      <td>LUO-POS-e1dab717-12</td>\n",
       "      <td>LUO-POS-e1dab717-12</td>\n",
       "      <td>NaN</td>\n",
       "      <td>NaN</td>\n",
       "      <td>NaN</td>\n",
       "      <td>NaN</td>\n",
       "      <td>NaN</td>\n",
       "      <td>0.202767</td>\n",
       "      <td>NaN</td>\n",
       "      <td>NaN</td>\n",
       "      <td>NaN</td>\n",
       "      <td>NaN</td>\n",
       "      <td>NaN</td>\n",
       "      <td>False</td>\n",
       "      <td>False</td>\n",
       "      <td>3-aminopyridine-like</td>\n",
       "      <td>NaN</td>\n",
       "    </tr>\n",
       "    <tr>\n",
       "      <th>2</th>\n",
       "      <td>CNC(=O)C1(N2C[C@]3(CCN(c4cncc5ccccc45)C3=O)c3c...</td>\n",
       "      <td>MAT-POS-e48723dc-1</td>\n",
       "      <td>MAT-POS-e48723dc-1</td>\n",
       "      <td>NaN</td>\n",
       "      <td>NaN</td>\n",
       "      <td>NaN</td>\n",
       "      <td>NaN</td>\n",
       "      <td>NaN</td>\n",
       "      <td>55.453947</td>\n",
       "      <td>NaN</td>\n",
       "      <td>NaN</td>\n",
       "      <td>NaN</td>\n",
       "      <td>NaN</td>\n",
       "      <td>NaN</td>\n",
       "      <td>False</td>\n",
       "      <td>False</td>\n",
       "      <td>Ugi</td>\n",
       "      <td>NaN</td>\n",
       "    </tr>\n",
       "    <tr>\n",
       "      <th>3</th>\n",
       "      <td>CNC(=O)C1(N2C[C@@]3(CCN(c4cncc5ccccc45)C3=O)c3...</td>\n",
       "      <td>MAT-POS-e48723dc-2</td>\n",
       "      <td>MAT-POS-e48723dc-2</td>\n",
       "      <td>NaN</td>\n",
       "      <td>NaN</td>\n",
       "      <td>NaN</td>\n",
       "      <td>NaN</td>\n",
       "      <td>NaN</td>\n",
       "      <td>0.050000</td>\n",
       "      <td>NaN</td>\n",
       "      <td>NaN</td>\n",
       "      <td>NaN</td>\n",
       "      <td>NaN</td>\n",
       "      <td>NaN</td>\n",
       "      <td>False</td>\n",
       "      <td>False</td>\n",
       "      <td>Ugi</td>\n",
       "      <td>NaN</td>\n",
       "    </tr>\n",
       "    <tr>\n",
       "      <th>4</th>\n",
       "      <td>CNC(=O)CN1C[C@@]2(CCN(c3cncc4ccccc34)C2=O)c2cc...</td>\n",
       "      <td>LUO-POS-9931618f-2</td>\n",
       "      <td>LUO-POS-9931618f-2</td>\n",
       "      <td>NaN</td>\n",
       "      <td>NaN</td>\n",
       "      <td>NaN</td>\n",
       "      <td>NaN</td>\n",
       "      <td>NaN</td>\n",
       "      <td>0.052757</td>\n",
       "      <td>NaN</td>\n",
       "      <td>NaN</td>\n",
       "      <td>NaN</td>\n",
       "      <td>NaN</td>\n",
       "      <td>NaN</td>\n",
       "      <td>False</td>\n",
       "      <td>False</td>\n",
       "      <td>Ugi</td>\n",
       "      <td>NaN</td>\n",
       "    </tr>\n",
       "  </tbody>\n",
       "</table>\n",
       "</div>"
      ],
      "text/plain": [
       "                                              SMILES                  CID  \\\n",
       "0  CCNC(=O)CN1CC2(CCN(c3cncc4ccccc34)C2=O)c2cc(Cl...  LUO-POS-e1dab717-11   \n",
       "1  O=C(CN1CC2(CCN(c3cncc4ccccc34)C2=O)c2cc(Cl)ccc...  LUO-POS-e1dab717-12   \n",
       "2  CNC(=O)C1(N2C[C@]3(CCN(c4cncc5ccccc45)C3=O)c3c...   MAT-POS-e48723dc-1   \n",
       "3  CNC(=O)C1(N2C[C@@]3(CCN(c4cncc5ccccc45)C3=O)c3...   MAT-POS-e48723dc-2   \n",
       "4  CNC(=O)CN1C[C@@]2(CCN(c3cncc4ccccc34)C2=O)c2cc...   LUO-POS-9931618f-2   \n",
       "\n",
       "         canonical_CID  r_inhibition_at_20_uM  r_inhibition_at_50_uM  \\\n",
       "0  LUO-POS-e1dab717-11                    NaN                    NaN   \n",
       "1  LUO-POS-e1dab717-12                    NaN                    NaN   \n",
       "2   MAT-POS-e48723dc-1                    NaN                    NaN   \n",
       "3   MAT-POS-e48723dc-2                    NaN                    NaN   \n",
       "4   LUO-POS-9931618f-2                    NaN                    NaN   \n",
       "\n",
       "   r_avg_IC50  f_inhibition_at_20_uM  f_inhibition_at_50_uM  f_avg_IC50  \\\n",
       "0         NaN                    NaN                    NaN    0.275118   \n",
       "1         NaN                    NaN                    NaN    0.202767   \n",
       "2         NaN                    NaN                    NaN   55.453947   \n",
       "3         NaN                    NaN                    NaN    0.050000   \n",
       "4         NaN                    NaN                    NaN    0.052757   \n",
       "\n",
       "   f_avg_pIC50  relative_solubility_at_20_uM  relative_solubility_at_100_uM  \\\n",
       "0          NaN                           NaN                            NaN   \n",
       "1          NaN                           NaN                            NaN   \n",
       "2          NaN                           NaN                            NaN   \n",
       "3          NaN                           NaN                            NaN   \n",
       "4          NaN                           NaN                            NaN   \n",
       "\n",
       "   trypsin_IC50  NMR_std_ratio acrylamide chloroacetamide  \\\n",
       "0           NaN            NaN      False           False   \n",
       "1           NaN            NaN      False           False   \n",
       "2           NaN            NaN      False           False   \n",
       "3           NaN            NaN      False           False   \n",
       "4           NaN            NaN      False           False   \n",
       "\n",
       "                 series frag_id  \n",
       "0  3-aminopyridine-like     NaN  \n",
       "1  3-aminopyridine-like     NaN  \n",
       "2                   Ugi     NaN  \n",
       "3                   Ugi     NaN  \n",
       "4                   Ugi     NaN  "
      ]
     },
     "execution_count": 2,
     "metadata": {},
     "output_type": "execute_result"
    }
   ],
   "source": [
    "df=pd.read_csv('data/covid_moonshot/activity_data.csv')\n",
    "df.head()"
   ]
  },
  {
   "cell_type": "code",
   "execution_count": 3,
   "metadata": {},
   "outputs": [
    {
     "name": "stdout",
     "output_type": "stream",
     "text": [
      "37.92434529582929\n"
     ]
    }
   ],
   "source": [
    "df_actives_smiles=df[['SMILES','CID']][df['f_avg_IC50']<=5]\n",
    "df_actives_smiles.head()\n",
    "print(len(df_actives_smiles)/len(df)*100)"
   ]
  },
  {
   "cell_type": "code",
   "execution_count": null,
   "metadata": {},
   "outputs": [],
   "source": [
    "df_actives_smiles.to_csv('data/covid_moonshot/actives_smiles.ism',index=False,sep=' ')\n",
    "df_decoys_smiles=df[['SMILES','CID']][df['f_avg_IC50']>5]\n",
    "df_decoys_smiles.to_csv('data/covid_moonshot/decoys_smiles.ism',index=False,sep=' ')"
   ]
  },
  {
   "cell_type": "code",
   "execution_count": null,
   "metadata": {},
   "outputs": [],
   "source": [
    "import prody\n",
    "import os"
   ]
  },
  {
   "cell_type": "code",
   "execution_count": null,
   "metadata": {},
   "outputs": [],
   "source": [
    "pdb_dir='/home/rishal/pharmnn_rl/data/Mpro_XChem_screen_active_site_11-May-2020'\n",
    "for file in os.listdir(pdb_dir):\n",
    "    pdb=prody.parsePDB(pdb_dir+'/'+file)\n",
    "    #remove water\n",
    "    pdb=pdb.select('not water')\n",
    "    #write out ligand to different pdb file\n",
    "    ligand=pdb.select('resname LIG')\n",
    "    prody.writePDB(pdb_dir+'/'+file.split('.pdb')[0]+'_lig.pdb',ligand)\n",
    "    pdb=pdb.select('not resname LIG')\n",
    "    prody.writePDB(pdb_dir+'/'+file.split('.pdb')[0]+'_nowat.pdb',pdb)"
   ]
  },
  {
   "cell_type": "code",
   "execution_count": null,
   "metadata": {},
   "outputs": [],
   "source": [
    "from rdkit.Chem import AllChem\n",
    "from rdkit import Chem\n",
    "\n",
    "def fix_bond_order(template, pdb_ligand):\n",
    "    #load molecule from template smiles\n",
    "    template_mol=Chem.MolFromSmiles(template)\n",
    "    #load molecule from pdb ligand\n",
    "    pdb_ligand_mol=Chem.MolFromPDBFile(pdb_ligand)\n",
    "    fixed_mol=AllChem.AssignBondOrdersFromTemplate(template_mol,pdb_ligand_mol)\n",
    "    with Chem.SDWriter(pdb_ligand.split('.pdb')[0]+'_fixed.sdf') as w:\n",
    "        w.write(fixed_mol)"
   ]
  },
  {
   "cell_type": "code",
   "execution_count": null,
   "metadata": {},
   "outputs": [],
   "source": [
    "dataset_df=pd.read_excel('/home/rishal/pharmnn_rl/data/Mpro full XChem screen - hits summary - ver-2020-06-12.xlsx')\n",
    "dataset_df.head()"
   ]
  },
  {
   "cell_type": "code",
   "execution_count": null,
   "metadata": {},
   "outputs": [],
   "source": [
    "for file in os.listdir(pdb_dir):\n",
    "    if file.endswith('lig.pdb'):\n",
    "        mpro_id=file.split('_')[0]\n",
    "        smiles=dataset_df['Compound SMILES'][dataset_df['Dataset']==mpro_id].values[0]\n",
    "        try:\n",
    "            fix_bond_order(smiles,pdb_dir+'/'+file)\n",
    "        except:\n",
    "            print(file)"
   ]
  },
  {
   "cell_type": "code",
   "execution_count": null,
   "metadata": {},
   "outputs": [],
   "source": [
    "import openbabel as ob\n",
    "from openbabel import pybel"
   ]
  },
  {
   "cell_type": "code",
   "execution_count": null,
   "metadata": {},
   "outputs": [],
   "source": [
    "\n",
    "#infer aromaticity from molecules in sdf file\n",
    "def infer_aromaticity(sdf_file):\n",
    "    mol=pybel.readfile('sdf',sdf_file)\n",
    "    for m in mol:\n",
    "        m.write('sdf',sdf_file.split('.sdf')[0]+'_arom.sdf',overwrite=True)"
   ]
  },
  {
   "cell_type": "code",
   "execution_count": null,
   "metadata": {},
   "outputs": [],
   "source": [
    "for file in os.listdir(pdb_dir):\n",
    "    if file.endswith('fixed.sdf'):\n",
    "        infer_aromaticity(pdb_dir+'/'+file)"
   ]
  },
  {
   "cell_type": "markdown",
   "metadata": {},
   "source": [
    "Extract pharmacophores from all the ligand files"
   ]
  },
  {
   "cell_type": "code",
   "execution_count": 15,
   "metadata": {},
   "outputs": [],
   "source": [
    "pdb_dir='/home/rishal/pharmnn_rl/data/Mpro_XChem_screen_active_site_11-May-2020'"
   ]
  },
  {
   "cell_type": "code",
   "execution_count": null,
   "metadata": {},
   "outputs": [],
   "source": [
    "\n",
    "for file in os.listdir(pdb_dir):\n",
    "    if file.endswith('arom.sdf'):\n",
    "        os.system(pdb_dir+'/pharmit.2023 pharma -in '+pdb_dir+'/'+file+' -out '+pdb_dir+'/'+file.split('.sdf')[0]+'.json')"
   ]
  },
  {
   "cell_type": "code",
   "execution_count": 12,
   "metadata": {},
   "outputs": [],
   "source": [
    "import json\n",
    "import pandas as pd"
   ]
  },
  {
   "cell_type": "code",
   "execution_count": 17,
   "metadata": {},
   "outputs": [],
   "source": [
    "def extract_json(json_file):\n",
    "    \"\"\"Takes a json files as input and returns a pandas dataframe with the headers as the keys of the json file\"\"\"\n",
    "    with open(json_file) as f:\n",
    "        data = json.load(f)\n",
    "    data=data['points']\n",
    "    df = pd.DataFrame(data)\n",
    "    df=df[df['enabled']==True]\n",
    "    return df"
   ]
  },
  {
   "cell_type": "code",
   "execution_count": 18,
   "metadata": {},
   "outputs": [
    {
     "name": "stderr",
     "output_type": "stream",
     "text": [
      "/tmp/ipykernel_406364/3856936148.py:8: FutureWarning: The frame.append method is deprecated and will be removed from pandas in a future version. Use pandas.concat instead.\n",
      "  df_big=df_big.append(df)\n",
      "/tmp/ipykernel_406364/3856936148.py:8: FutureWarning: The frame.append method is deprecated and will be removed from pandas in a future version. Use pandas.concat instead.\n",
      "  df_big=df_big.append(df)\n",
      "/tmp/ipykernel_406364/3856936148.py:8: FutureWarning: The frame.append method is deprecated and will be removed from pandas in a future version. Use pandas.concat instead.\n",
      "  df_big=df_big.append(df)\n",
      "/tmp/ipykernel_406364/3856936148.py:8: FutureWarning: The frame.append method is deprecated and will be removed from pandas in a future version. Use pandas.concat instead.\n",
      "  df_big=df_big.append(df)\n",
      "/tmp/ipykernel_406364/3856936148.py:8: FutureWarning: The frame.append method is deprecated and will be removed from pandas in a future version. Use pandas.concat instead.\n",
      "  df_big=df_big.append(df)\n",
      "/tmp/ipykernel_406364/3856936148.py:8: FutureWarning: The frame.append method is deprecated and will be removed from pandas in a future version. Use pandas.concat instead.\n",
      "  df_big=df_big.append(df)\n",
      "/tmp/ipykernel_406364/3856936148.py:8: FutureWarning: The frame.append method is deprecated and will be removed from pandas in a future version. Use pandas.concat instead.\n",
      "  df_big=df_big.append(df)\n",
      "/tmp/ipykernel_406364/3856936148.py:8: FutureWarning: The frame.append method is deprecated and will be removed from pandas in a future version. Use pandas.concat instead.\n",
      "  df_big=df_big.append(df)\n",
      "/tmp/ipykernel_406364/3856936148.py:8: FutureWarning: The frame.append method is deprecated and will be removed from pandas in a future version. Use pandas.concat instead.\n",
      "  df_big=df_big.append(df)\n",
      "/tmp/ipykernel_406364/3856936148.py:8: FutureWarning: The frame.append method is deprecated and will be removed from pandas in a future version. Use pandas.concat instead.\n",
      "  df_big=df_big.append(df)\n",
      "/tmp/ipykernel_406364/3856936148.py:8: FutureWarning: The frame.append method is deprecated and will be removed from pandas in a future version. Use pandas.concat instead.\n",
      "  df_big=df_big.append(df)\n",
      "/tmp/ipykernel_406364/3856936148.py:8: FutureWarning: The frame.append method is deprecated and will be removed from pandas in a future version. Use pandas.concat instead.\n",
      "  df_big=df_big.append(df)\n",
      "/tmp/ipykernel_406364/3856936148.py:8: FutureWarning: The frame.append method is deprecated and will be removed from pandas in a future version. Use pandas.concat instead.\n",
      "  df_big=df_big.append(df)\n",
      "/tmp/ipykernel_406364/3856936148.py:8: FutureWarning: The frame.append method is deprecated and will be removed from pandas in a future version. Use pandas.concat instead.\n",
      "  df_big=df_big.append(df)\n",
      "/tmp/ipykernel_406364/3856936148.py:8: FutureWarning: The frame.append method is deprecated and will be removed from pandas in a future version. Use pandas.concat instead.\n",
      "  df_big=df_big.append(df)\n",
      "/tmp/ipykernel_406364/3856936148.py:8: FutureWarning: The frame.append method is deprecated and will be removed from pandas in a future version. Use pandas.concat instead.\n",
      "  df_big=df_big.append(df)\n",
      "/tmp/ipykernel_406364/3856936148.py:8: FutureWarning: The frame.append method is deprecated and will be removed from pandas in a future version. Use pandas.concat instead.\n",
      "  df_big=df_big.append(df)\n",
      "/tmp/ipykernel_406364/3856936148.py:8: FutureWarning: The frame.append method is deprecated and will be removed from pandas in a future version. Use pandas.concat instead.\n",
      "  df_big=df_big.append(df)\n",
      "/tmp/ipykernel_406364/3856936148.py:8: FutureWarning: The frame.append method is deprecated and will be removed from pandas in a future version. Use pandas.concat instead.\n",
      "  df_big=df_big.append(df)\n",
      "/tmp/ipykernel_406364/3856936148.py:8: FutureWarning: The frame.append method is deprecated and will be removed from pandas in a future version. Use pandas.concat instead.\n",
      "  df_big=df_big.append(df)\n",
      "/tmp/ipykernel_406364/3856936148.py:8: FutureWarning: The frame.append method is deprecated and will be removed from pandas in a future version. Use pandas.concat instead.\n",
      "  df_big=df_big.append(df)\n"
     ]
    }
   ],
   "source": [
    "df_big=None\n",
    "for file in os.listdir(pdb_dir):\n",
    "    if file.endswith('fixed_arom_pharmit.json'):\n",
    "        df=extract_json(pdb_dir+'/'+file)\n",
    "        if df_big is None:\n",
    "            df_big=df\n",
    "        else:\n",
    "            df_big=df_big.append(df)"
   ]
  },
  {
   "cell_type": "code",
   "execution_count": 48,
   "metadata": {},
   "outputs": [
    {
     "name": "stdout",
     "output_type": "stream",
     "text": [
      "   enabled              name  radius          x      y          z  size\n",
      "0     True          Aromatic     1.0   9.530833 -1.109  23.749667   NaN\n",
      "1     True       Hydrophobic     1.0   9.530833 -1.109  23.749667   NaN\n",
      "2     True  HydrogenAcceptor     0.5   8.909000 -6.307  25.819000   NaN\n",
      "3     True     HydrogenDonor     0.5   8.909000 -6.307  25.819000   NaN\n",
      "4     True       Hydrophobic     1.0  10.807000  2.680  23.586000   NaN\n"
     ]
    }
   ],
   "source": [
    "print(df_big.tail())"
   ]
  },
  {
   "cell_type": "markdown",
   "metadata": {},
   "source": [
    "Cluster extracted pharmacophore points"
   ]
  },
  {
   "cell_type": "code",
   "execution_count": 20,
   "metadata": {},
   "outputs": [
    {
     "name": "stderr",
     "output_type": "stream",
     "text": [
      "/home/rishal/.conda/envs/pharmnn/lib/python3.9/site-packages/scipy/__init__.py:138: UserWarning: A NumPy version >=1.16.5 and <1.23.0 is required for this version of SciPy (detected version 1.24.3)\n",
      "  warnings.warn(f\"A NumPy version >={np_minversion} and <{np_maxversion} is required for this version of \"\n"
     ]
    }
   ],
   "source": [
    "from sklearn.cluster import AgglomerativeClustering\n",
    "import numpy as np"
   ]
  },
  {
   "cell_type": "code",
   "execution_count": 21,
   "metadata": {},
   "outputs": [],
   "source": [
    "def cluster_xyz(feat_to_coords,distance_threshold=1.5):\n",
    "\n",
    "    clustering = AgglomerativeClustering(n_clusters=None,compute_full_tree=True,linkage='average',distance_threshold=distance_threshold)\n",
    "    for category in feat_to_coords.keys():\n",
    "        if len(feat_to_coords[category])<2:\n",
    "            continue\n",
    "        final_xyz=[]\n",
    "        coord_array=np.array(feat_to_coords[category])\n",
    "        clustering.fit(coord_array)\n",
    "        clusters=clustering.labels_\n",
    "        for n in np.unique(clusters):\n",
    "            cluster_center=coord_array[clusters==n].mean(axis=0)\n",
    "            final_xyz.append(cluster_center)\n",
    "        feat_to_coords[category]=final_xyz\n",
    "    return feat_to_coords"
   ]
  },
  {
   "cell_type": "code",
   "execution_count": 22,
   "metadata": {},
   "outputs": [],
   "source": [
    "def write_xyz(feat_to_coords,xyz_file_name,pdb_dir):\n",
    "    for feat in feat_to_coords:\n",
    "        with open(pdb_dir+'/'+feat+'_'+xyz_file_name,'w') as f:\n",
    "            for coord in feat_to_coords[feat]:\n",
    "                f.write('H '+str(coord[0])+' '+str(coord[1])+' '+str(coord[2])+'\\n')"
   ]
  },
  {
   "cell_type": "code",
   "execution_count": 23,
   "metadata": {},
   "outputs": [],
   "source": [
    "feat_to_coords={}\n",
    "for feat,x,y,z in zip(df_big['name'],df_big['x'],df_big['y'],df_big['z']):\n",
    "    if feat not in feat_to_coords.keys():\n",
    "        feat_to_coords[feat]=[]\n",
    "    coords=np.array([x,y,z])\n",
    "    feat_to_coords[feat].append(coords)"
   ]
  },
  {
   "cell_type": "code",
   "execution_count": 24,
   "metadata": {},
   "outputs": [],
   "source": [
    "write_xyz(feat_to_coords,'original_unclustered_enabled.xyz',pdb_dir)"
   ]
  },
  {
   "cell_type": "code",
   "execution_count": 25,
   "metadata": {},
   "outputs": [
    {
     "name": "stdout",
     "output_type": "stream",
     "text": [
      "dict_keys(['HydrogenAcceptor', 'Aromatic', 'Hydrophobic', 'HydrogenDonor'])\n",
      "30\n"
     ]
    }
   ],
   "source": [
    "print(feat_to_coords.keys())\n",
    "print(len(feat_to_coords['Hydrophobic']))"
   ]
  },
  {
   "cell_type": "code",
   "execution_count": 26,
   "metadata": {},
   "outputs": [
    {
     "name": "stdout",
     "output_type": "stream",
     "text": [
      "7\n"
     ]
    }
   ],
   "source": [
    "feat_to_coords=cluster_xyz(feat_to_coords,distance_threshold=1.5)\n",
    "print(len(feat_to_coords['Aromatic']))"
   ]
  },
  {
   "cell_type": "code",
   "execution_count": 28,
   "metadata": {},
   "outputs": [],
   "source": [
    "write_xyz(feat_to_coords,'original_clustered_enabled.xyz',pdb_dir)"
   ]
  },
  {
   "cell_type": "code",
   "execution_count": 29,
   "metadata": {},
   "outputs": [
    {
     "name": "stdout",
     "output_type": "stream",
     "text": [
      "14\n"
     ]
    }
   ],
   "source": [
    "print(len(feat_to_coords['Hydrophobic']))"
   ]
  },
  {
   "cell_type": "code",
   "execution_count": 14,
   "metadata": {},
   "outputs": [],
   "source": [
    "pdb_dir='/home/rishal/pharmnn_rl/data/Mpro_XChem_screen_active_site_11-May-2020'"
   ]
  },
  {
   "cell_type": "code",
   "execution_count": 30,
   "metadata": {},
   "outputs": [],
   "source": [
    "\n",
    "lines=[]\n",
    "file_write=open('data/covid_moonshot_enabled.txt','w')\n",
    "for file in os.listdir(pdb_dir):\n",
    "    if 'json' in file:\n",
    "        if 'query' in file:\n",
    "            continue\n",
    "        df=extract_json(pdb_dir+'/'+file)\n",
    "        for name,x,y,z in zip(df['name'],df['x'],df['y'],df['z']):\n",
    "            file_write.write(name+','+str(x)+','+str(y)+','+str(z)+','+file.split('.json')[0] + '.sdf,' +file.split('_lig')[0]+'_nowat.pdb'+'\\n')"
   ]
  },
  {
   "cell_type": "code",
   "execution_count": 12,
   "metadata": {},
   "outputs": [],
   "source": [
    "example_ligand='Mpro-x0354_0_lig_fixed_arom.sdf'\n",
    "example_protein='Mpro-x0354_0_nowat.pdb'"
   ]
  },
  {
   "cell_type": "code",
   "execution_count": 15,
   "metadata": {},
   "outputs": [],
   "source": [
    "def get_points_from_xyz(file):\n",
    "    points=[]\n",
    "    with open(file) as f:\n",
    "        for line in f:\n",
    "            points.append(line.split())\n",
    "    return points"
   ]
  },
  {
   "cell_type": "code",
   "execution_count": 18,
   "metadata": {},
   "outputs": [],
   "source": [
    "file_write=open('data/covid_moonshot_clustered_enabled.txt','w')\n",
    "for file in os.listdir(pdb_dir):\n",
    "    if \"original_clustered_enabled.xyz\" in file:\n",
    "        feature=file.split('_')[0]\n",
    "        points=get_points_from_xyz(pdb_dir+'/'+file)\n",
    "        for point in points:\n",
    "            file_write.write(feature+','+point[1]+','+point[2]+','+point[3]+','+example_ligand+','+example_protein+'\\n')"
   ]
  },
  {
   "cell_type": "markdown",
   "metadata": {},
   "source": [
    "Put clustered points into a single json file"
   ]
  },
  {
   "cell_type": "code",
   "execution_count": 19,
   "metadata": {},
   "outputs": [
    {
     "data": {
      "text/html": [
       "<div>\n",
       "<style scoped>\n",
       "    .dataframe tbody tr th:only-of-type {\n",
       "        vertical-align: middle;\n",
       "    }\n",
       "\n",
       "    .dataframe tbody tr th {\n",
       "        vertical-align: top;\n",
       "    }\n",
       "\n",
       "    .dataframe thead th {\n",
       "        text-align: right;\n",
       "    }\n",
       "</style>\n",
       "<table border=\"1\" class=\"dataframe\">\n",
       "  <thead>\n",
       "    <tr style=\"text-align: right;\">\n",
       "      <th></th>\n",
       "      <th>feature</th>\n",
       "      <th>x</th>\n",
       "      <th>y</th>\n",
       "      <th>z</th>\n",
       "      <th>ligand</th>\n",
       "      <th>protein</th>\n",
       "    </tr>\n",
       "  </thead>\n",
       "  <tbody>\n",
       "    <tr>\n",
       "      <th>0</th>\n",
       "      <td>HydrogenDonor</td>\n",
       "      <td>9.1225</td>\n",
       "      <td>-0.916</td>\n",
       "      <td>22.5115</td>\n",
       "      <td>Mpro-x0354_0_lig_fixed_arom.sdf</td>\n",
       "      <td>Mpro-x0354_0_nowat.pdb</td>\n",
       "    </tr>\n",
       "    <tr>\n",
       "      <th>1</th>\n",
       "      <td>HydrogenDonor</td>\n",
       "      <td>8.9090</td>\n",
       "      <td>-6.307</td>\n",
       "      <td>25.8190</td>\n",
       "      <td>Mpro-x0354_0_lig_fixed_arom.sdf</td>\n",
       "      <td>Mpro-x0354_0_nowat.pdb</td>\n",
       "    </tr>\n",
       "    <tr>\n",
       "      <th>2</th>\n",
       "      <td>HydrogenDonor</td>\n",
       "      <td>10.3530</td>\n",
       "      <td>1.571</td>\n",
       "      <td>24.3790</td>\n",
       "      <td>Mpro-x0354_0_lig_fixed_arom.sdf</td>\n",
       "      <td>Mpro-x0354_0_nowat.pdb</td>\n",
       "    </tr>\n",
       "    <tr>\n",
       "      <th>3</th>\n",
       "      <td>HydrogenDonor</td>\n",
       "      <td>9.3040</td>\n",
       "      <td>-4.215</td>\n",
       "      <td>27.8200</td>\n",
       "      <td>Mpro-x0354_0_lig_fixed_arom.sdf</td>\n",
       "      <td>Mpro-x0354_0_nowat.pdb</td>\n",
       "    </tr>\n",
       "    <tr>\n",
       "      <th>4</th>\n",
       "      <td>HydrogenDonor</td>\n",
       "      <td>9.3520</td>\n",
       "      <td>5.175</td>\n",
       "      <td>22.9550</td>\n",
       "      <td>Mpro-x0354_0_lig_fixed_arom.sdf</td>\n",
       "      <td>Mpro-x0354_0_nowat.pdb</td>\n",
       "    </tr>\n",
       "  </tbody>\n",
       "</table>\n",
       "</div>"
      ],
      "text/plain": [
       "         feature        x      y        z                           ligand  \\\n",
       "0  HydrogenDonor   9.1225 -0.916  22.5115  Mpro-x0354_0_lig_fixed_arom.sdf   \n",
       "1  HydrogenDonor   8.9090 -6.307  25.8190  Mpro-x0354_0_lig_fixed_arom.sdf   \n",
       "2  HydrogenDonor  10.3530  1.571  24.3790  Mpro-x0354_0_lig_fixed_arom.sdf   \n",
       "3  HydrogenDonor   9.3040 -4.215  27.8200  Mpro-x0354_0_lig_fixed_arom.sdf   \n",
       "4  HydrogenDonor   9.3520  5.175  22.9550  Mpro-x0354_0_lig_fixed_arom.sdf   \n",
       "\n",
       "                  protein  \n",
       "0  Mpro-x0354_0_nowat.pdb  \n",
       "1  Mpro-x0354_0_nowat.pdb  \n",
       "2  Mpro-x0354_0_nowat.pdb  \n",
       "3  Mpro-x0354_0_nowat.pdb  \n",
       "4  Mpro-x0354_0_nowat.pdb  "
      ]
     },
     "execution_count": 19,
     "metadata": {},
     "output_type": "execute_result"
    }
   ],
   "source": [
    "file_with_points='data/covid_moonshot_clustered_enabled.txt'\n",
    "df=pd.read_csv(file_with_points,header=None)\n",
    "df.columns=['feature','x','y','z','ligand','protein']\n",
    "df.head()"
   ]
  },
  {
   "cell_type": "code",
   "execution_count": 20,
   "metadata": {},
   "outputs": [
    {
     "name": "stdout",
     "output_type": "stream",
     "text": [
      "14\n"
     ]
    }
   ],
   "source": [
    "print(len(df[df['feature']=='Hydrophobic']))"
   ]
  },
  {
   "cell_type": "code",
   "execution_count": 21,
   "metadata": {},
   "outputs": [],
   "source": [
    "import json\n",
    "json_file='data/covid_moonshot_clustered_enabled.json'\n",
    "json_dict={}\n",
    "json_dict['points']=[]\n",
    "for row in df.iterrows():\n",
    "    points_dict={}\n",
    "    points_dict['name']=row[1]['feature']\n",
    "    points_dict['x']=row[1]['x']\n",
    "    points_dict['y']=row[1]['y']\n",
    "    points_dict['z']=row[1]['z']\n",
    "    points_dict['enabled']=True\n",
    "    points_dict['radius']=1\n",
    "    json_dict['points'].append(points_dict)\n",
    "\n",
    "ligand=open('data/Mpro_XChem_screen_active_site_11-May-2020/'+ example_ligand).read()\n",
    "protein=open('data/Mpro_XChem_screen_active_site_11-May-2020/'+example_protein).read()\n",
    "json_dict['ligand']=ligand\n",
    "json_dict['receptor']=protein\n",
    "json_dict['recname']=example_protein\n",
    "json_dict['ligname']=example_ligand\n",
    "json_dict['ligandFormat']='sdf'\n",
    "json.dump(json_dict,open(json_file,'w'))"
   ]
  },
  {
   "cell_type": "markdown",
   "metadata": {},
   "source": [
    "Generate pharmacophore Queries"
   ]
  },
  {
   "cell_type": "code",
   "execution_count": 50,
   "metadata": {},
   "outputs": [],
   "source": [
    "import json, sys, os\n",
    "from itertools import combinations\n",
    "\n",
    "def genqueries(fname):\n",
    "    prefix,ext = os.path.splitext(fname)\n",
    "    q = json.load(open(fname))\n",
    "    features = [feat for feat in q['points'] if feat['enabled']]\n",
    "\n",
    "    for i in range(3,len(features)+1):\n",
    "        for j,combo in enumerate(combinations(features,i)):\n",
    "            query = {\"points\": combo}\n",
    "            json.dump(query, open(f'{prefix}_{i}_{j}_enabled.json','w'))"
   ]
  },
  {
   "cell_type": "code",
   "execution_count": 51,
   "metadata": {},
   "outputs": [],
   "source": [
    "pdb_dir='/home/rishal/pharmnn_rl/data/Mpro_XChem_screen_active_site_11-May-2020'\n",
    "\n",
    "for file in os.listdir(pdb_dir):\n",
    "    if 'fixed_arom_pharmit.json' in file:\n",
    "        if 'query' in file:\n",
    "            continue\n",
    "        genqueries(pdb_dir+'/'+file)"
   ]
  },
  {
   "cell_type": "markdown",
   "metadata": {},
   "source": [
    "Setup Fresco benchmark"
   ]
  },
  {
   "cell_type": "code",
   "execution_count": null,
   "metadata": {},
   "outputs": [],
   "source": [
    "import pandas as pd\n",
    "df_activity =pd.read_csv('data/fresco_moonshot/covid_moonshot_activity_data.csv')\n",
    "df_activity.tail()"
   ]
  },
  {
   "cell_type": "code",
   "execution_count": null,
   "metadata": {},
   "outputs": [],
   "source": [
    "len(df_activity)"
   ]
  },
  {
   "cell_type": "code",
   "execution_count": null,
   "metadata": {},
   "outputs": [],
   "source": [
    "df_dates=pd.read_csv('data/fresco_moonshot/covid_moonshot_submission_dates.csv')\n",
    "df_dates.head()\n",
    "len(df_dates)"
   ]
  },
  {
   "cell_type": "code",
   "execution_count": null,
   "metadata": {},
   "outputs": [],
   "source": [
    "\n",
    "df_dates=df_dates.sort_values(by='date')\n",
    "df_dates.head()"
   ]
  },
  {
   "cell_type": "code",
   "execution_count": null,
   "metadata": {},
   "outputs": [],
   "source": [
    "df_dates=df_dates[df_dates['date']<=20200901]\n",
    "print(len(df_dates))"
   ]
  },
  {
   "cell_type": "code",
   "execution_count": null,
   "metadata": {},
   "outputs": [],
   "source": [
    "df_dates=df_dates[df_dates['year']<=2020]\n",
    "print(len(df_dates))"
   ]
  },
  {
   "cell_type": "code",
   "execution_count": null,
   "metadata": {},
   "outputs": [],
   "source": [
    "df_dates=df_dates[df_dates['month']<=9]\n",
    "print(len(df_dates))"
   ]
  },
  {
   "cell_type": "code",
   "execution_count": null,
   "metadata": {},
   "outputs": [],
   "source": [
    "print(df_dates.head())\n",
    "print(df_dates.tail())"
   ]
  },
  {
   "cell_type": "code",
   "execution_count": null,
   "metadata": {},
   "outputs": [],
   "source": [
    "df_activity.head()\n",
    "df_activity['canonical_CID']=df_activity['canonical_CID'].apply(lambda x: '-'.join(x.split('-')[:-1]))\n",
    "df_activity.head()\n"
   ]
  },
  {
   "cell_type": "code",
   "execution_count": null,
   "metadata": {},
   "outputs": [],
   "source": [
    "print(df_dates.head())"
   ]
  },
  {
   "cell_type": "code",
   "execution_count": null,
   "metadata": {},
   "outputs": [],
   "source": [
    "df_activity_final=None\n",
    "for submission in df_dates['submission_id']:\n",
    "    df_temp=df_activity[df_activity['canonical_CID'].str.contains(submission)]\n",
    "    if df_activity_final is None:\n",
    "        df_activity_final=df_temp\n",
    "    else:\n",
    "        df_activity_final=df_activity_final.append(df_temp)"
   ]
  },
  {
   "cell_type": "code",
   "execution_count": null,
   "metadata": {},
   "outputs": [],
   "source": [
    "df_activity_final.head()"
   ]
  },
  {
   "cell_type": "code",
   "execution_count": null,
   "metadata": {},
   "outputs": [],
   "source": [
    "len(df_activity_final)"
   ]
  },
  {
   "cell_type": "code",
   "execution_count": null,
   "metadata": {},
   "outputs": [],
   "source": [
    "print(len(df_activity_final[df_activity_final['f_avg_IC50']<=0.5]))"
   ]
  },
  {
   "cell_type": "code",
   "execution_count": null,
   "metadata": {},
   "outputs": [],
   "source": [
    "print(df_activity_final[df_activity_final['canonical_CID']=='DAR-DIA-23aa0b97'])"
   ]
  },
  {
   "cell_type": "code",
   "execution_count": null,
   "metadata": {},
   "outputs": [],
   "source": [
    "from rdkit.Chem import PandasTools\n",
    "\n",
    "sdfFile = 'data/fresco_moonshot/covid_moonshot_docked_mols.sdf'\n",
    "df_docking = PandasTools.LoadSDF(\n",
    "    sdfFile, idName='canonical_CID', smilesName='SMILES', molColName='mol')"
   ]
  },
  {
   "cell_type": "code",
   "execution_count": null,
   "metadata": {},
   "outputs": [],
   "source": [
    "from distutils.util import strtobool\n",
    "df_docking = df_docking.dropna(subset=['acrylamide'])\n",
    "df_docking['acrylamide'] = df_docking['acrylamide'].apply(\n",
    "    strtobool).astype(bool)\n",
    "df_docking['chloroacetamide'] = df_docking['chloroacetamide'].apply(\n",
    "    strtobool).astype(bool)\n",
    "\n",
    "df_docking = df_docking.query('~chloroacetamide & ~acrylamide').reset_index()\n",
    "df_docking"
   ]
  },
  {
   "cell_type": "code",
   "execution_count": null,
   "metadata": {},
   "outputs": [],
   "source": [
    "\n",
    "df_docking.f_avg_IC50 = df_docking.f_avg_IC50.astype(float)\n",
    "df_docking['Chemgauss4 Score'] = df_docking['Chemgauss4 Score'].astype(float)\n",
    "\n",
    "columns_to_keep = ['canonical_CID', 'Chemgauss4 Score', 'f_avg_IC50','SMILES']\n",
    "df_docking = df_docking[columns_to_keep]\n",
    "df_docking_grouped = df_docking.groupby(by=df_docking.canonical_CID)\n",
    "df_docking_grouped = df_docking_grouped.agg({'SMILES':'first', 'Chemgauss4 Score':'mean', 'f_avg_IC50':'mean'})\n",
    "df_docking_grouped['canonical_CID'] = df_docking_grouped.index\n",
    "\n",
    "df_docking_grouped['hit'] = df_docking_grouped['f_avg_IC50'] < 5"
   ]
  },
  {
   "cell_type": "code",
   "execution_count": null,
   "metadata": {},
   "outputs": [],
   "source": [
    "print(len(df_docking_grouped[df_docking_grouped['hit'] == True]))"
   ]
  },
  {
   "cell_type": "code",
   "execution_count": null,
   "metadata": {},
   "outputs": [],
   "source": [
    "print(len(df_docking_grouped))"
   ]
  },
  {
   "cell_type": "code",
   "execution_count": null,
   "metadata": {},
   "outputs": [],
   "source": [
    "print(df_docking_grouped.head())"
   ]
  },
  {
   "cell_type": "code",
   "execution_count": null,
   "metadata": {},
   "outputs": [],
   "source": [
    "def remove_suffix(id):\n",
    "    id_separated = id.split('-')[:-1]\n",
    "    new_id = '-'.join(id_separated)\n",
    "    return new_id\n",
    "df_docking_grouped['submission_id'] = df_docking_grouped['canonical_CID'].apply(remove_suffix)\n",
    "df_merged = df_docking_grouped.merge(df_dates, on='submission_id')\n",
    "df_merged['Neg Dock Score'] = df_merged['Chemgauss4 Score']*-1"
   ]
  },
  {
   "cell_type": "code",
   "execution_count": null,
   "metadata": {},
   "outputs": [],
   "source": [
    "print(len(df_docking_grouped))"
   ]
  },
  {
   "cell_type": "code",
   "execution_count": null,
   "metadata": {},
   "outputs": [],
   "source": [
    "print(df_merged.head())\n",
    "print(df_merged.tail())"
   ]
  },
  {
   "cell_type": "code",
   "execution_count": null,
   "metadata": {},
   "outputs": [],
   "source": [
    "df_merged.sort_values(by='date', ascending=False).head()"
   ]
  },
  {
   "cell_type": "code",
   "execution_count": null,
   "metadata": {},
   "outputs": [],
   "source": [
    "print(len(df_merged))"
   ]
  },
  {
   "cell_type": "code",
   "execution_count": null,
   "metadata": {},
   "outputs": [],
   "source": [
    "year = '2020'\n",
    "month = '09'\n",
    "day = '01'\n",
    "date_to_plot = int(f'{year}{month}{day}')\n",
    "ic50_threshold = 5\n",
    "\n",
    "#df_filtered_by_date = df_merged.query('date < @date_to_plot').copy()\n",
    "df_filtered_by_date=df_merged[df_merged['date']<20200901]\n",
    "df_filtered_by_date['hit'] = df_filtered_by_date['f_avg_IC50'] < ic50_threshold\n",
    "print(len(df_filtered_by_date))"
   ]
  },
  {
   "cell_type": "code",
   "execution_count": null,
   "metadata": {},
   "outputs": [],
   "source": [
    "print(len(df_filtered_by_date[df_filtered_by_date['hit'] == True]))"
   ]
  },
  {
   "cell_type": "code",
   "execution_count": null,
   "metadata": {},
   "outputs": [],
   "source": [
    "df_actives=df_filtered_by_date[df_filtered_by_date['hit'] == True]\n",
    "df_actives.head()"
   ]
  },
  {
   "cell_type": "code",
   "execution_count": null,
   "metadata": {},
   "outputs": [],
   "source": [
    "df_actives=df_actives[['SMILES','canonical_CID']]\n",
    "df_actives.head()"
   ]
  },
  {
   "cell_type": "code",
   "execution_count": null,
   "metadata": {},
   "outputs": [],
   "source": [
    "df_actives.to_csv('data/fresco_moonshot/actives_smiles.ism',index=False,sep=' ')"
   ]
  },
  {
   "cell_type": "code",
   "execution_count": null,
   "metadata": {},
   "outputs": [],
   "source": [
    "df_decoys=df_filtered_by_date[df_filtered_by_date['hit'] == False]\n",
    "df_decoys=df_decoys[['SMILES','canonical_CID']]\n",
    "df_decoys.to_csv('data/fresco_moonshot/decoys_smiles.ism',index=False,sep=' ')"
   ]
  },
  {
   "cell_type": "markdown",
   "metadata": {},
   "source": [
    "Evaluate generated pharmacophores"
   ]
  },
  {
   "cell_type": "code",
   "execution_count": 53,
   "metadata": {},
   "outputs": [
    {
     "name": "stdout",
     "output_type": "stream",
     "text": [
      "Mpro-x1077\n",
      "Mpro-x0434\n",
      "pharmit\n",
      "Mpro-x0967\n",
      "Mpro-x1093\n",
      "Mpro-x0395\n",
      "Mpro-x0104\n",
      "query\n",
      "Mpro-x0397\n",
      "Mpro-x0195\n",
      "Mpro-x0946\n",
      "Mpro-x0161\n",
      "Mpro-x0107\n",
      "Mpro-x0874\n",
      "Mpro-x0354\n",
      "Mpro-x0995\n",
      "Mpro-x0305\n",
      "HydrogenDonor\n",
      "Mpro-x0540\n",
      "Mpro-x0426\n",
      "Mpro-x2193\n",
      "Mpro-x1249\n",
      "Mpro-x0678\n",
      "Mpro-x0387\n",
      "Mpro-x0072\n",
      "pharmit.2023\n",
      "hydrogen.pdb\n",
      "HydrogenAcceptor\n",
      "Mpro-x0991\n",
      "Hydrophobic\n",
      "Aromatic\n",
      "query.json\n"
     ]
    }
   ],
   "source": [
    "import subprocess\n",
    "import pandas as pd\n",
    "systems=[]\n",
    "for file in os.listdir(pdb_dir):\n",
    "    system=file.split('_')[0]\n",
    "    if system not in systems:\n",
    "        systems.append(system)\n",
    "        scores={}\n",
    "        for file in os.listdir(pdb_dir):\n",
    "            if system in file:\n",
    "                if '_enabled.json' in file and 'clustered' not in file:\n",
    "                    output=subprocess.check_output('python getf1.py '+pdb_dir+'/'+file+' data/covid_moonshot/covid_moonshot/ --actives data/covid_moonshot/actives_smiles.ism --decoys data/covid_moonshot/decoys_smiles.ism',shell=True)\n",
    "                    output=output.decode()\n",
    "                    output=output.split(' ')\n",
    "                    f1=output[1]\n",
    "                    scores[file]=f1   \n",
    "            else:\n",
    "                continue\n",
    "        df=pd.DataFrame.from_dict(scores,orient='index')\n",
    "        df.to_csv(pdb_dir+'/'+system+'_enabled_scores.csv')\n",
    "        print(system)\n",
    "    else:\n",
    "        continue"
   ]
  },
  {
   "cell_type": "code",
   "execution_count": 58,
   "metadata": {},
   "outputs": [
    {
     "name": "stderr",
     "output_type": "stream",
     "text": [
      "/tmp/ipykernel_406364/3317182660.py:15: FutureWarning: The frame.append method is deprecated and will be removed from pandas in a future version. Use pandas.concat instead.\n",
      "  df_big=df_big.append(df)\n",
      "/tmp/ipykernel_406364/3317182660.py:15: FutureWarning: The frame.append method is deprecated and will be removed from pandas in a future version. Use pandas.concat instead.\n",
      "  df_big=df_big.append(df)\n",
      "/tmp/ipykernel_406364/3317182660.py:15: FutureWarning: The frame.append method is deprecated and will be removed from pandas in a future version. Use pandas.concat instead.\n",
      "  df_big=df_big.append(df)\n",
      "/tmp/ipykernel_406364/3317182660.py:15: FutureWarning: The frame.append method is deprecated and will be removed from pandas in a future version. Use pandas.concat instead.\n",
      "  df_big=df_big.append(df)\n",
      "/tmp/ipykernel_406364/3317182660.py:15: FutureWarning: The frame.append method is deprecated and will be removed from pandas in a future version. Use pandas.concat instead.\n",
      "  df_big=df_big.append(df)\n",
      "/tmp/ipykernel_406364/3317182660.py:15: FutureWarning: The frame.append method is deprecated and will be removed from pandas in a future version. Use pandas.concat instead.\n",
      "  df_big=df_big.append(df)\n",
      "/tmp/ipykernel_406364/3317182660.py:15: FutureWarning: The frame.append method is deprecated and will be removed from pandas in a future version. Use pandas.concat instead.\n",
      "  df_big=df_big.append(df)\n",
      "/tmp/ipykernel_406364/3317182660.py:15: FutureWarning: The frame.append method is deprecated and will be removed from pandas in a future version. Use pandas.concat instead.\n",
      "  df_big=df_big.append(df)\n",
      "/tmp/ipykernel_406364/3317182660.py:15: FutureWarning: The frame.append method is deprecated and will be removed from pandas in a future version. Use pandas.concat instead.\n",
      "  df_big=df_big.append(df)\n",
      "/tmp/ipykernel_406364/3317182660.py:15: FutureWarning: The frame.append method is deprecated and will be removed from pandas in a future version. Use pandas.concat instead.\n",
      "  df_big=df_big.append(df)\n",
      "/tmp/ipykernel_406364/3317182660.py:15: FutureWarning: The frame.append method is deprecated and will be removed from pandas in a future version. Use pandas.concat instead.\n",
      "  df_big=df_big.append(df)\n",
      "/tmp/ipykernel_406364/3317182660.py:15: FutureWarning: The frame.append method is deprecated and will be removed from pandas in a future version. Use pandas.concat instead.\n",
      "  df_big=df_big.append(df)\n",
      "/tmp/ipykernel_406364/3317182660.py:15: FutureWarning: The frame.append method is deprecated and will be removed from pandas in a future version. Use pandas.concat instead.\n",
      "  df_big=df_big.append(df)\n"
     ]
    },
    {
     "name": "stdout",
     "output_type": "stream",
     "text": [
      "                                          Unnamed: 0         0\n",
      "1  Mpro-x0354_0_lig_fixed_arom_pharmit_3_0_enable...  0.585920\n",
      "2  Mpro-x0354_0_lig_fixed_arom_pharmit_3_1_enable...  0.577396\n",
      "3  Mpro-x0354_0_lig_fixed_arom_pharmit_3_3_enable...  0.555771\n",
      "0  Mpro-x0354_0_lig_fixed_arom_pharmit_4_0_enable...  0.539837\n",
      "4  Mpro-x0354_0_lig_fixed_arom_pharmit_3_2_enable...  0.539037\n",
      "0.643917\n"
     ]
    },
    {
     "name": "stderr",
     "output_type": "stream",
     "text": [
      "/tmp/ipykernel_406364/3317182660.py:15: FutureWarning: The frame.append method is deprecated and will be removed from pandas in a future version. Use pandas.concat instead.\n",
      "  df_big=df_big.append(df)\n",
      "/tmp/ipykernel_406364/3317182660.py:15: FutureWarning: The frame.append method is deprecated and will be removed from pandas in a future version. Use pandas.concat instead.\n",
      "  df_big=df_big.append(df)\n",
      "/tmp/ipykernel_406364/3317182660.py:15: FutureWarning: The frame.append method is deprecated and will be removed from pandas in a future version. Use pandas.concat instead.\n",
      "  df_big=df_big.append(df)\n",
      "/tmp/ipykernel_406364/3317182660.py:15: FutureWarning: The frame.append method is deprecated and will be removed from pandas in a future version. Use pandas.concat instead.\n",
      "  df_big=df_big.append(df)\n",
      "/tmp/ipykernel_406364/3317182660.py:15: FutureWarning: The frame.append method is deprecated and will be removed from pandas in a future version. Use pandas.concat instead.\n",
      "  df_big=df_big.append(df)\n",
      "/tmp/ipykernel_406364/3317182660.py:15: FutureWarning: The frame.append method is deprecated and will be removed from pandas in a future version. Use pandas.concat instead.\n",
      "  df_big=df_big.append(df)\n",
      "/tmp/ipykernel_406364/3317182660.py:15: FutureWarning: The frame.append method is deprecated and will be removed from pandas in a future version. Use pandas.concat instead.\n",
      "  df_big=df_big.append(df)\n",
      "/tmp/ipykernel_406364/3317182660.py:15: FutureWarning: The frame.append method is deprecated and will be removed from pandas in a future version. Use pandas.concat instead.\n",
      "  df_big=df_big.append(df)\n",
      "/tmp/ipykernel_406364/3317182660.py:15: FutureWarning: The frame.append method is deprecated and will be removed from pandas in a future version. Use pandas.concat instead.\n",
      "  df_big=df_big.append(df)\n"
     ]
    }
   ],
   "source": [
    "import os\n",
    "import pandas as pd\n",
    "pdb_dir='/home/rishal/pharmnn_rl/data/Mpro_XChem_screen_active_site_11-May-2020'\n",
    "df_big=None\n",
    "for file in os.listdir(pdb_dir):\n",
    "    if \"_enabled_scores.csv\" in file and 'fresco' not in file:\n",
    "        df=pd.read_csv(pdb_dir+'/'+file)\n",
    "        try:\n",
    "            df=df.sort_values(by='0',ascending=False)\n",
    "        except:\n",
    "            continue\n",
    "        if df_big is None:\n",
    "            df_big=df\n",
    "        else:\n",
    "            df_big=df_big.append(df)\n",
    "print(df_big.head())\n",
    "print(df_big['0'].max())"
   ]
  },
  {
   "cell_type": "code",
   "execution_count": 59,
   "metadata": {},
   "outputs": [
    {
     "name": "stdout",
     "output_type": "stream",
     "text": [
      "Mpro-x1077\n",
      "Mpro-x0434\n",
      "pharmit\n",
      "Mpro-x0967\n",
      "Mpro-x1093\n",
      "Mpro-x0395\n",
      "Mpro-x0104\n",
      "query\n",
      "Mpro-x0397\n",
      "Mpro-x0195\n",
      "Mpro-x0946\n",
      "Mpro-x0161\n",
      "Mpro-x0107\n",
      "Aromatic\n",
      "Mpro-x0874\n",
      "Mpro-x0354\n",
      "Mpro-x0995\n",
      "Mpro-x0305\n",
      "HydrogenDonor\n",
      "Mpro-x0540\n",
      "Mpro-x0426\n",
      "Mpro-x2193\n",
      "Mpro-x1249\n",
      "Mpro-x0678\n",
      "Mpro-x0387\n",
      "Mpro-x0072\n",
      "pharmit.2023\n",
      "hydrogen.pdb\n",
      "HydrogenAcceptor\n",
      "Mpro-x0991\n",
      "Hydrophobic\n",
      "query.json\n"
     ]
    }
   ],
   "source": [
    "import subprocess\n",
    "import pandas as pd\n",
    "systems=[]\n",
    "for file in os.listdir(pdb_dir):\n",
    "    system=file.split('_')[0]\n",
    "    if system not in systems:\n",
    "        systems.append(system)\n",
    "        scores={}\n",
    "        for file in os.listdir(pdb_dir):\n",
    "            if system in file:\n",
    "                if '_enabled.json' in file and 'clustered' not in file:\n",
    "                    output=subprocess.check_output('python getf1.py '+pdb_dir+'/'+file+' data/fresco_moonshot/fresco_moonshot/ --actives data/fresco_moonshot/actives_smiles.ism --decoys data/fresco_moonshot/decoys_smiles.ism',shell=True)\n",
    "                    output=output.decode()\n",
    "                    output=output.split(' ')\n",
    "                    f1=output[1]\n",
    "                    scores[file]=f1   \n",
    "            else:\n",
    "                continue\n",
    "        df=pd.DataFrame.from_dict(scores,orient='index')\n",
    "        df.to_csv(pdb_dir+'/'+system+'fresco_enabled_scores.csv')\n",
    "        print(system)\n",
    "    else:\n",
    "        continue"
   ]
  },
  {
   "cell_type": "code",
   "execution_count": 60,
   "metadata": {},
   "outputs": [
    {
     "name": "stdout",
     "output_type": "stream",
     "text": [
      "                                          Unnamed: 0         0\n",
      "3  Mpro-x1093_0_lig_fixed_arom_pharmit_3_0_enable...  0.120000\n",
      "1  Mpro-x1093_0_lig_fixed_arom_pharmit_3_3_enable...  0.116486\n",
      "0  Mpro-x1093_0_lig_fixed_arom_pharmit_3_1_enable...  0.104110\n",
      "2  Mpro-x1093_0_lig_fixed_arom_pharmit_3_2_enable...  0.098701\n",
      "4  Mpro-x1093_0_lig_fixed_arom_pharmit_4_0_enable...  0.088154\n",
      "0.175\n"
     ]
    },
    {
     "name": "stderr",
     "output_type": "stream",
     "text": [
      "/tmp/ipykernel_406364/868032147.py:15: FutureWarning: The frame.append method is deprecated and will be removed from pandas in a future version. Use pandas.concat instead.\n",
      "  df_big=df_big.append(df)\n",
      "/tmp/ipykernel_406364/868032147.py:15: FutureWarning: The frame.append method is deprecated and will be removed from pandas in a future version. Use pandas.concat instead.\n",
      "  df_big=df_big.append(df)\n",
      "/tmp/ipykernel_406364/868032147.py:15: FutureWarning: The frame.append method is deprecated and will be removed from pandas in a future version. Use pandas.concat instead.\n",
      "  df_big=df_big.append(df)\n",
      "/tmp/ipykernel_406364/868032147.py:15: FutureWarning: The frame.append method is deprecated and will be removed from pandas in a future version. Use pandas.concat instead.\n",
      "  df_big=df_big.append(df)\n",
      "/tmp/ipykernel_406364/868032147.py:15: FutureWarning: The frame.append method is deprecated and will be removed from pandas in a future version. Use pandas.concat instead.\n",
      "  df_big=df_big.append(df)\n",
      "/tmp/ipykernel_406364/868032147.py:15: FutureWarning: The frame.append method is deprecated and will be removed from pandas in a future version. Use pandas.concat instead.\n",
      "  df_big=df_big.append(df)\n",
      "/tmp/ipykernel_406364/868032147.py:15: FutureWarning: The frame.append method is deprecated and will be removed from pandas in a future version. Use pandas.concat instead.\n",
      "  df_big=df_big.append(df)\n",
      "/tmp/ipykernel_406364/868032147.py:15: FutureWarning: The frame.append method is deprecated and will be removed from pandas in a future version. Use pandas.concat instead.\n",
      "  df_big=df_big.append(df)\n",
      "/tmp/ipykernel_406364/868032147.py:15: FutureWarning: The frame.append method is deprecated and will be removed from pandas in a future version. Use pandas.concat instead.\n",
      "  df_big=df_big.append(df)\n",
      "/tmp/ipykernel_406364/868032147.py:15: FutureWarning: The frame.append method is deprecated and will be removed from pandas in a future version. Use pandas.concat instead.\n",
      "  df_big=df_big.append(df)\n",
      "/tmp/ipykernel_406364/868032147.py:15: FutureWarning: The frame.append method is deprecated and will be removed from pandas in a future version. Use pandas.concat instead.\n",
      "  df_big=df_big.append(df)\n",
      "/tmp/ipykernel_406364/868032147.py:15: FutureWarning: The frame.append method is deprecated and will be removed from pandas in a future version. Use pandas.concat instead.\n",
      "  df_big=df_big.append(df)\n",
      "/tmp/ipykernel_406364/868032147.py:15: FutureWarning: The frame.append method is deprecated and will be removed from pandas in a future version. Use pandas.concat instead.\n",
      "  df_big=df_big.append(df)\n",
      "/tmp/ipykernel_406364/868032147.py:15: FutureWarning: The frame.append method is deprecated and will be removed from pandas in a future version. Use pandas.concat instead.\n",
      "  df_big=df_big.append(df)\n",
      "/tmp/ipykernel_406364/868032147.py:15: FutureWarning: The frame.append method is deprecated and will be removed from pandas in a future version. Use pandas.concat instead.\n",
      "  df_big=df_big.append(df)\n",
      "/tmp/ipykernel_406364/868032147.py:15: FutureWarning: The frame.append method is deprecated and will be removed from pandas in a future version. Use pandas.concat instead.\n",
      "  df_big=df_big.append(df)\n",
      "/tmp/ipykernel_406364/868032147.py:15: FutureWarning: The frame.append method is deprecated and will be removed from pandas in a future version. Use pandas.concat instead.\n",
      "  df_big=df_big.append(df)\n",
      "/tmp/ipykernel_406364/868032147.py:15: FutureWarning: The frame.append method is deprecated and will be removed from pandas in a future version. Use pandas.concat instead.\n",
      "  df_big=df_big.append(df)\n",
      "/tmp/ipykernel_406364/868032147.py:15: FutureWarning: The frame.append method is deprecated and will be removed from pandas in a future version. Use pandas.concat instead.\n",
      "  df_big=df_big.append(df)\n",
      "/tmp/ipykernel_406364/868032147.py:15: FutureWarning: The frame.append method is deprecated and will be removed from pandas in a future version. Use pandas.concat instead.\n",
      "  df_big=df_big.append(df)\n",
      "/tmp/ipykernel_406364/868032147.py:15: FutureWarning: The frame.append method is deprecated and will be removed from pandas in a future version. Use pandas.concat instead.\n",
      "  df_big=df_big.append(df)\n",
      "/tmp/ipykernel_406364/868032147.py:15: FutureWarning: The frame.append method is deprecated and will be removed from pandas in a future version. Use pandas.concat instead.\n",
      "  df_big=df_big.append(df)\n"
     ]
    }
   ],
   "source": [
    "import os\n",
    "import pandas as pd\n",
    "pdb_dir='/home/rishal/pharmnn_rl/data/Mpro_XChem_screen_active_site_11-May-2020'\n",
    "df_big=None\n",
    "for file in os.listdir(pdb_dir):\n",
    "    if \"fresco_enabled_scores.csv\" in file:\n",
    "        df=pd.read_csv(pdb_dir+'/'+file)\n",
    "        try:\n",
    "            df=df.sort_values(by='0',ascending=False)\n",
    "        except:\n",
    "            continue\n",
    "        if df_big is None:\n",
    "            df_big=df\n",
    "        else:\n",
    "            df_big=df_big.append(df)\n",
    "print(df_big.head())\n",
    "print(df_big['0'].max())"
   ]
  },
  {
   "cell_type": "code",
   "execution_count": 64,
   "metadata": {},
   "outputs": [],
   "source": [
    "def lines_to_pharmit_query(lines,pdb_file):\n",
    "    query = {}\n",
    "    query['points'] = []\n",
    "    for line in lines:\n",
    "        line = line.split(',')\n",
    "        point = {}\n",
    "        point['name'] = line[0]\n",
    "        point['x'] = float(line[1])\n",
    "        point['y'] = float(line[2])\n",
    "        point['z'] = float(line[3])\n",
    "        query['points'].append(point)\n",
    "    #query[\"exselect\"] = \"receptor\"\n",
    "    #query[\"extolerance\"] = 1\n",
    "    #query[\"recname\"] = line[5]\n",
    "    #query[\"receptor\"] = pdb_file\n",
    "    return query"
   ]
  },
  {
   "cell_type": "code",
   "execution_count": 65,
   "metadata": {},
   "outputs": [
    {
     "name": "stdout",
     "output_type": "stream",
     "text": [
      "0\n",
      "100\n",
      "200\n",
      "300\n",
      "400\n",
      "500\n",
      "600\n",
      "700\n",
      "800\n",
      "900\n",
      "1000\n",
      "1100\n",
      "1200\n",
      "1300\n",
      "1400\n",
      "1500\n",
      "1600\n",
      "1700\n",
      "1800\n",
      "1900\n",
      "2000\n",
      "2100\n",
      "2200\n",
      "2300\n",
      "2400\n",
      "2500\n",
      "2600\n",
      "2700\n",
      "2800\n",
      "2900\n",
      "3000\n",
      "3100\n",
      "3200\n",
      "3300\n",
      "3400\n",
      "3500\n",
      "3600\n",
      "3700\n",
      "3800\n",
      "3900\n",
      "4000\n",
      "4100\n",
      "4200\n",
      "4300\n",
      "4400\n",
      "4500\n",
      "4600\n",
      "4700\n",
      "4800\n",
      "4900\n",
      "5000\n",
      "5100\n",
      "5200\n",
      "5300\n",
      "5400\n",
      "5500\n",
      "5600\n",
      "5700\n",
      "5800\n",
      "5900\n",
      "6000\n",
      "6100\n",
      "6200\n",
      "6300\n",
      "6400\n",
      "6500\n",
      "6600\n",
      "6700\n",
      "6800\n",
      "6900\n",
      "7000\n",
      "7100\n",
      "7200\n",
      "7300\n",
      "7400\n",
      "7500\n",
      "7600\n",
      "7700\n",
      "7800\n",
      "7900\n",
      "8000\n",
      "8100\n",
      "8200\n",
      "8300\n",
      "8400\n",
      "8500\n",
      "8600\n",
      "8700\n",
      "8800\n",
      "8900\n",
      "9000\n",
      "9100\n",
      "9200\n",
      "9300\n",
      "9400\n",
      "9500\n",
      "9600\n",
      "9700\n",
      "9800\n",
      "9900\n"
     ]
    },
    {
     "ename": "UFuncTypeError",
     "evalue": "ufunc 'add' did not contain a loop with signature matching types (dtype('<U8'), dtype('<U8')) -> None",
     "output_type": "error",
     "traceback": [
      "\u001b[0;31m---------------------------------------------------------------------------\u001b[0m",
      "\u001b[0;31mUFuncTypeError\u001b[0m                            Traceback (most recent call last)",
      "Cell \u001b[0;32mIn[65], line 31\u001b[0m\n\u001b[1;32m     29\u001b[0m     fresco_f1\u001b[38;5;241m=\u001b[39moutput[\u001b[38;5;241m1\u001b[39m]\n\u001b[1;32m     30\u001b[0m     fresco_f1s\u001b[38;5;241m.\u001b[39mappend(fresco_f1)\n\u001b[0;32m---> 31\u001b[0m \u001b[38;5;28mprint\u001b[39m(\u001b[43mnp\u001b[49m\u001b[38;5;241;43m.\u001b[39;49m\u001b[43mmean\u001b[49m\u001b[43m(\u001b[49m\u001b[43mcovid_f1s\u001b[49m\u001b[43m)\u001b[49m)\n\u001b[1;32m     32\u001b[0m \u001b[38;5;28mprint\u001b[39m(np\u001b[38;5;241m.\u001b[39mmean(fresco_f1s))\n",
      "File \u001b[0;32m<__array_function__ internals>:200\u001b[0m, in \u001b[0;36mmean\u001b[0;34m(*args, **kwargs)\u001b[0m\n",
      "File \u001b[0;32m~/.conda/envs/pharmnn/lib/python3.9/site-packages/numpy/core/fromnumeric.py:3464\u001b[0m, in \u001b[0;36mmean\u001b[0;34m(a, axis, dtype, out, keepdims, where)\u001b[0m\n\u001b[1;32m   3461\u001b[0m     \u001b[38;5;28;01melse\u001b[39;00m:\n\u001b[1;32m   3462\u001b[0m         \u001b[38;5;28;01mreturn\u001b[39;00m mean(axis\u001b[38;5;241m=\u001b[39maxis, dtype\u001b[38;5;241m=\u001b[39mdtype, out\u001b[38;5;241m=\u001b[39mout, \u001b[38;5;241m*\u001b[39m\u001b[38;5;241m*\u001b[39mkwargs)\n\u001b[0;32m-> 3464\u001b[0m \u001b[38;5;28;01mreturn\u001b[39;00m \u001b[43m_methods\u001b[49m\u001b[38;5;241;43m.\u001b[39;49m\u001b[43m_mean\u001b[49m\u001b[43m(\u001b[49m\u001b[43ma\u001b[49m\u001b[43m,\u001b[49m\u001b[43m \u001b[49m\u001b[43maxis\u001b[49m\u001b[38;5;241;43m=\u001b[39;49m\u001b[43maxis\u001b[49m\u001b[43m,\u001b[49m\u001b[43m \u001b[49m\u001b[43mdtype\u001b[49m\u001b[38;5;241;43m=\u001b[39;49m\u001b[43mdtype\u001b[49m\u001b[43m,\u001b[49m\n\u001b[1;32m   3465\u001b[0m \u001b[43m                      \u001b[49m\u001b[43mout\u001b[49m\u001b[38;5;241;43m=\u001b[39;49m\u001b[43mout\u001b[49m\u001b[43m,\u001b[49m\u001b[43m \u001b[49m\u001b[38;5;241;43m*\u001b[39;49m\u001b[38;5;241;43m*\u001b[39;49m\u001b[43mkwargs\u001b[49m\u001b[43m)\u001b[49m\n",
      "File \u001b[0;32m~/.conda/envs/pharmnn/lib/python3.9/site-packages/numpy/core/_methods.py:181\u001b[0m, in \u001b[0;36m_mean\u001b[0;34m(a, axis, dtype, out, keepdims, where)\u001b[0m\n\u001b[1;32m    178\u001b[0m         dtype \u001b[38;5;241m=\u001b[39m mu\u001b[38;5;241m.\u001b[39mdtype(\u001b[38;5;124m'\u001b[39m\u001b[38;5;124mf4\u001b[39m\u001b[38;5;124m'\u001b[39m)\n\u001b[1;32m    179\u001b[0m         is_float16_result \u001b[38;5;241m=\u001b[39m \u001b[38;5;28;01mTrue\u001b[39;00m\n\u001b[0;32m--> 181\u001b[0m ret \u001b[38;5;241m=\u001b[39m \u001b[43mumr_sum\u001b[49m\u001b[43m(\u001b[49m\u001b[43marr\u001b[49m\u001b[43m,\u001b[49m\u001b[43m \u001b[49m\u001b[43maxis\u001b[49m\u001b[43m,\u001b[49m\u001b[43m \u001b[49m\u001b[43mdtype\u001b[49m\u001b[43m,\u001b[49m\u001b[43m \u001b[49m\u001b[43mout\u001b[49m\u001b[43m,\u001b[49m\u001b[43m \u001b[49m\u001b[43mkeepdims\u001b[49m\u001b[43m,\u001b[49m\u001b[43m \u001b[49m\u001b[43mwhere\u001b[49m\u001b[38;5;241;43m=\u001b[39;49m\u001b[43mwhere\u001b[49m\u001b[43m)\u001b[49m\n\u001b[1;32m    182\u001b[0m \u001b[38;5;28;01mif\u001b[39;00m \u001b[38;5;28misinstance\u001b[39m(ret, mu\u001b[38;5;241m.\u001b[39mndarray):\n\u001b[1;32m    183\u001b[0m     \u001b[38;5;28;01mwith\u001b[39;00m _no_nep50_warning():\n",
      "\u001b[0;31mUFuncTypeError\u001b[0m: ufunc 'add' did not contain a loop with signature matching types (dtype('<U8'), dtype('<U8')) -> None"
     ]
    }
   ],
   "source": [
    "import random\n",
    "import os\n",
    "import subprocess\n",
    "import json\n",
    "file = open('data/covid_moonshot_enabled.txt','r')\n",
    "pdb_file=open('data/Mpro_XChem_screen_active_site_11-May-2020/Mpro-x0072_0_nowat.pdb','r').readlines()\n",
    "pdb_file=\"\".join(pdb_file)\n",
    "lines = file.readlines()\n",
    "\n",
    "pharmacophore_lengths=[3,4,5]\n",
    "covid_f1s=[]\n",
    "fresco_f1s=[]\n",
    "for i in range(10000):\n",
    "    if i%100==0:\n",
    "        print(i)\n",
    "    pharm_len=random.choice(pharmacophore_lengths)\n",
    "    random_lines=random.sample(lines, pharm_len)\n",
    "    query=lines_to_pharmit_query(random_lines,pdb_file)\n",
    "    with open('data/covid_moonshot_cnn_clustered_test_query.json','w') as f:\n",
    "        json.dump(query,f)\n",
    "    output=subprocess.check_output('python getf1.py data/covid_moonshot_cnn_clustered_test_query.json data/covid_moonshot/covid_moonshot/ --actives data/covid_moonshot/actives_smiles.ism --decoys data/covid_moonshot/decoys_smiles.ism',shell=True)\n",
    "    output=output.decode()\n",
    "    output=output.split(' ')\n",
    "    covid_f1=output[1]\n",
    "    covid_f1s.append(covid_f1)\n",
    "    output=subprocess.check_output('python getf1.py data/covid_moonshot_cnn_clustered_test_query.json data/fresco_moonshot/fresco_moonshot/ --actives data/fresco_moonshot/actives_smiles.ism --decoys data/covid_moonshot/decoys_smiles.ism',shell=True)\n",
    "    output=output.decode()\n",
    "    output=output.split(' ')\n",
    "    fresco_f1=output[1]\n",
    "    fresco_f1s.append(fresco_f1)\n",
    "print(np.mean(covid_f1s))\n",
    "print(np.mean(fresco_f1s))\n",
    "    \n"
   ]
  },
  {
   "cell_type": "code",
   "execution_count": 66,
   "metadata": {},
   "outputs": [
    {
     "name": "stdout",
     "output_type": "stream",
     "text": [
      "0.010905257799999998\n",
      "0.004909029800000001\n"
     ]
    }
   ],
   "source": [
    "covid_f1s=[float(i) for i in covid_f1s]\n",
    "fresco_f1s=[float(i) for i in fresco_f1s]\n",
    "covid_f1s=np.array(covid_f1s)\n",
    "fresco_f1s=np.array(fresco_f1s)\n",
    "print(np.mean(covid_f1s))\n",
    "print(np.mean(fresco_f1s))"
   ]
  },
  {
   "cell_type": "code",
   "execution_count": 67,
   "metadata": {},
   "outputs": [
    {
     "name": "stdout",
     "output_type": "stream",
     "text": [
      "0.636595\n",
      "0.207547\n"
     ]
    }
   ],
   "source": [
    "print(np.max(covid_f1s))\n",
    "print(np.max(fresco_f1s))"
   ]
  },
  {
   "cell_type": "markdown",
   "metadata": {},
   "source": [
    "Get pharmnn_rl predictions and results"
   ]
  },
  {
   "cell_type": "code",
   "execution_count": 3,
   "metadata": {},
   "outputs": [],
   "source": [
    "import os\n",
    "os.chdir('../')\n",
    "import subprocess\n"
   ]
  },
  {
   "cell_type": "code",
   "execution_count": 2,
   "metadata": {},
   "outputs": [
    {
     "name": "stderr",
     "output_type": "stream",
     "text": [
      "/home/rishal/.conda/envs/pharmnn/lib/python3.9/site-packages/scipy/__init__.py:138: UserWarning: A NumPy version >=1.16.5 and <1.23.0 is required for this version of SciPy (detected version 1.24.3)\n",
      "  warnings.warn(f\"A NumPy version >={np_minversion} and <{np_maxversion} is required for this version of \"\n",
      "/home/rishal/pharmnn_rl/Pharmnn/dataset.py:314: SettingWithCopyWarning: \n",
      "A value is trying to be set on a copy of a slice from a DataFrame.\n",
      "Try using .loc[row_indexer,col_indexer] = value instead\n",
      "\n",
      "See the caveats in the documentation: https://pandas.pydata.org/pandas-docs/stable/user_guide/indexing.html#returning-a-view-versus-a-copy\n",
      "  df_subset['Cluster']=clustering.labels_\n",
      "/home/rishal/pharmnn_rl/Pharmnn/dataset.py:316: FutureWarning: Dropping invalid columns in DataFrameGroupBy.mean is deprecated. In a future version, a TypeError will be raised. Before calling .mean, select only columns which should be valid for the function.\n",
      "  df_subset_new=df_subset.groupby('Cluster').mean(numeric_only=False)\n",
      "/home/rishal/pharmnn_rl/Pharmnn/dataset.py:314: SettingWithCopyWarning: \n",
      "A value is trying to be set on a copy of a slice from a DataFrame.\n",
      "Try using .loc[row_indexer,col_indexer] = value instead\n",
      "\n",
      "See the caveats in the documentation: https://pandas.pydata.org/pandas-docs/stable/user_guide/indexing.html#returning-a-view-versus-a-copy\n",
      "  df_subset['Cluster']=clustering.labels_\n",
      "/home/rishal/pharmnn_rl/Pharmnn/dataset.py:316: FutureWarning: Dropping invalid columns in DataFrameGroupBy.mean is deprecated. In a future version, a TypeError will be raised. Before calling .mean, select only columns which should be valid for the function.\n",
      "  df_subset_new=df_subset.groupby('Cluster').mean(numeric_only=False)\n",
      "/home/rishal/pharmnn_rl/Pharmnn/dataset.py:337: FutureWarning: The frame.append method is deprecated and will be removed from pandas in a future version. Use pandas.concat instead.\n",
      "  df_new=df_new.append(df_subset)\n",
      "/home/rishal/pharmnn_rl/Pharmnn/dataset.py:314: SettingWithCopyWarning: \n",
      "A value is trying to be set on a copy of a slice from a DataFrame.\n",
      "Try using .loc[row_indexer,col_indexer] = value instead\n",
      "\n",
      "See the caveats in the documentation: https://pandas.pydata.org/pandas-docs/stable/user_guide/indexing.html#returning-a-view-versus-a-copy\n",
      "  df_subset['Cluster']=clustering.labels_\n",
      "/home/rishal/pharmnn_rl/Pharmnn/dataset.py:316: FutureWarning: Dropping invalid columns in DataFrameGroupBy.mean is deprecated. In a future version, a TypeError will be raised. Before calling .mean, select only columns which should be valid for the function.\n",
      "  df_subset_new=df_subset.groupby('Cluster').mean(numeric_only=False)\n",
      "/home/rishal/pharmnn_rl/Pharmnn/dataset.py:337: FutureWarning: The frame.append method is deprecated and will be removed from pandas in a future version. Use pandas.concat instead.\n",
      "  df_new=df_new.append(df_subset)\n",
      "/home/rishal/pharmnn_rl/Pharmnn/dataset.py:314: SettingWithCopyWarning: \n",
      "A value is trying to be set on a copy of a slice from a DataFrame.\n",
      "Try using .loc[row_indexer,col_indexer] = value instead\n",
      "\n",
      "See the caveats in the documentation: https://pandas.pydata.org/pandas-docs/stable/user_guide/indexing.html#returning-a-view-versus-a-copy\n",
      "  df_subset['Cluster']=clustering.labels_\n",
      "/home/rishal/pharmnn_rl/Pharmnn/dataset.py:316: FutureWarning: Dropping invalid columns in DataFrameGroupBy.mean is deprecated. In a future version, a TypeError will be raised. Before calling .mean, select only columns which should be valid for the function.\n",
      "  df_subset_new=df_subset.groupby('Cluster').mean(numeric_only=False)\n",
      "/home/rishal/pharmnn_rl/Pharmnn/dataset.py:337: FutureWarning: The frame.append method is deprecated and will be removed from pandas in a future version. Use pandas.concat instead.\n",
      "  df_new=df_new.append(df_subset)\n",
      "/home/rishal/.conda/envs/pharmnn/lib/python3.9/site-packages/torch/jit/_check.py:181: UserWarning: The TorchScript type system doesn't support instance-level annotations on empty non-base types in `__init__`. Instead, either 1) use a type annotation in the class body, or 2) wrap the type in `torch.jit.Attribute`.\n",
      "  warnings.warn(\"The TorchScript type system doesn't support \"\n",
      "/home/rishal/.conda/envs/pharmnn/lib/python3.9/site-packages/torch_geometric/deprecation.py:12: UserWarning: 'data.DataLoader' is deprecated, use 'loader.DataLoader' instead\n",
      "  warnings.warn(out)\n",
      "/home/rishal/.conda/envs/pharmnn/lib/python3.9/site-packages/scipy/__init__.py:138: UserWarning: A NumPy version >=1.16.5 and <1.23.0 is required for this version of SciPy (detected version 1.24.3)\n",
      "  warnings.warn(f\"A NumPy version >={np_minversion} and <{np_maxversion} is required for this version of \"\n",
      "/home/rishal/pharmnn_rl/Pharmnn/dataset.py:314: SettingWithCopyWarning: \n",
      "A value is trying to be set on a copy of a slice from a DataFrame.\n",
      "Try using .loc[row_indexer,col_indexer] = value instead\n",
      "\n",
      "See the caveats in the documentation: https://pandas.pydata.org/pandas-docs/stable/user_guide/indexing.html#returning-a-view-versus-a-copy\n",
      "  df_subset['Cluster']=clustering.labels_\n",
      "/home/rishal/pharmnn_rl/Pharmnn/dataset.py:316: FutureWarning: Dropping invalid columns in DataFrameGroupBy.mean is deprecated. In a future version, a TypeError will be raised. Before calling .mean, select only columns which should be valid for the function.\n",
      "  df_subset_new=df_subset.groupby('Cluster').mean(numeric_only=False)\n",
      "/home/rishal/pharmnn_rl/Pharmnn/dataset.py:314: SettingWithCopyWarning: \n",
      "A value is trying to be set on a copy of a slice from a DataFrame.\n",
      "Try using .loc[row_indexer,col_indexer] = value instead\n",
      "\n",
      "See the caveats in the documentation: https://pandas.pydata.org/pandas-docs/stable/user_guide/indexing.html#returning-a-view-versus-a-copy\n",
      "  df_subset['Cluster']=clustering.labels_\n",
      "/home/rishal/pharmnn_rl/Pharmnn/dataset.py:316: FutureWarning: Dropping invalid columns in DataFrameGroupBy.mean is deprecated. In a future version, a TypeError will be raised. Before calling .mean, select only columns which should be valid for the function.\n",
      "  df_subset_new=df_subset.groupby('Cluster').mean(numeric_only=False)\n",
      "/home/rishal/pharmnn_rl/Pharmnn/dataset.py:337: FutureWarning: The frame.append method is deprecated and will be removed from pandas in a future version. Use pandas.concat instead.\n",
      "  df_new=df_new.append(df_subset)\n",
      "/home/rishal/pharmnn_rl/Pharmnn/dataset.py:314: SettingWithCopyWarning: \n",
      "A value is trying to be set on a copy of a slice from a DataFrame.\n",
      "Try using .loc[row_indexer,col_indexer] = value instead\n",
      "\n",
      "See the caveats in the documentation: https://pandas.pydata.org/pandas-docs/stable/user_guide/indexing.html#returning-a-view-versus-a-copy\n",
      "  df_subset['Cluster']=clustering.labels_\n",
      "/home/rishal/pharmnn_rl/Pharmnn/dataset.py:316: FutureWarning: Dropping invalid columns in DataFrameGroupBy.mean is deprecated. In a future version, a TypeError will be raised. Before calling .mean, select only columns which should be valid for the function.\n",
      "  df_subset_new=df_subset.groupby('Cluster').mean(numeric_only=False)\n",
      "/home/rishal/pharmnn_rl/Pharmnn/dataset.py:337: FutureWarning: The frame.append method is deprecated and will be removed from pandas in a future version. Use pandas.concat instead.\n",
      "  df_new=df_new.append(df_subset)\n",
      "/home/rishal/pharmnn_rl/Pharmnn/dataset.py:314: SettingWithCopyWarning: \n",
      "A value is trying to be set on a copy of a slice from a DataFrame.\n",
      "Try using .loc[row_indexer,col_indexer] = value instead\n",
      "\n",
      "See the caveats in the documentation: https://pandas.pydata.org/pandas-docs/stable/user_guide/indexing.html#returning-a-view-versus-a-copy\n",
      "  df_subset['Cluster']=clustering.labels_\n",
      "/home/rishal/pharmnn_rl/Pharmnn/dataset.py:316: FutureWarning: Dropping invalid columns in DataFrameGroupBy.mean is deprecated. In a future version, a TypeError will be raised. Before calling .mean, select only columns which should be valid for the function.\n",
      "  df_subset_new=df_subset.groupby('Cluster').mean(numeric_only=False)\n",
      "/home/rishal/pharmnn_rl/Pharmnn/dataset.py:337: FutureWarning: The frame.append method is deprecated and will be removed from pandas in a future version. Use pandas.concat instead.\n",
      "  df_new=df_new.append(df_subset)\n",
      "/home/rishal/.conda/envs/pharmnn/lib/python3.9/site-packages/torch/jit/_check.py:181: UserWarning: The TorchScript type system doesn't support instance-level annotations on empty non-base types in `__init__`. Instead, either 1) use a type annotation in the class body, or 2) wrap the type in `torch.jit.Attribute`.\n",
      "  warnings.warn(\"The TorchScript type system doesn't support \"\n",
      "/home/rishal/.conda/envs/pharmnn/lib/python3.9/site-packages/torch_geometric/deprecation.py:12: UserWarning: 'data.DataLoader' is deprecated, use 'loader.DataLoader' instead\n",
      "  warnings.warn(out)\n",
      "/home/rishal/.conda/envs/pharmnn/lib/python3.9/site-packages/scipy/__init__.py:138: UserWarning: A NumPy version >=1.16.5 and <1.23.0 is required for this version of SciPy (detected version 1.24.3)\n",
      "  warnings.warn(f\"A NumPy version >={np_minversion} and <{np_maxversion} is required for this version of \"\n",
      "/home/rishal/pharmnn_rl/Pharmnn/dataset.py:314: SettingWithCopyWarning: \n",
      "A value is trying to be set on a copy of a slice from a DataFrame.\n",
      "Try using .loc[row_indexer,col_indexer] = value instead\n",
      "\n",
      "See the caveats in the documentation: https://pandas.pydata.org/pandas-docs/stable/user_guide/indexing.html#returning-a-view-versus-a-copy\n",
      "  df_subset['Cluster']=clustering.labels_\n",
      "/home/rishal/pharmnn_rl/Pharmnn/dataset.py:316: FutureWarning: Dropping invalid columns in DataFrameGroupBy.mean is deprecated. In a future version, a TypeError will be raised. Before calling .mean, select only columns which should be valid for the function.\n",
      "  df_subset_new=df_subset.groupby('Cluster').mean(numeric_only=False)\n",
      "/home/rishal/pharmnn_rl/Pharmnn/dataset.py:337: FutureWarning: The frame.append method is deprecated and will be removed from pandas in a future version. Use pandas.concat instead.\n",
      "  df_new=df_new.append(df_subset)\n",
      "/home/rishal/pharmnn_rl/Pharmnn/dataset.py:314: SettingWithCopyWarning: \n",
      "A value is trying to be set on a copy of a slice from a DataFrame.\n",
      "Try using .loc[row_indexer,col_indexer] = value instead\n",
      "\n",
      "See the caveats in the documentation: https://pandas.pydata.org/pandas-docs/stable/user_guide/indexing.html#returning-a-view-versus-a-copy\n",
      "  df_subset['Cluster']=clustering.labels_\n",
      "/home/rishal/pharmnn_rl/Pharmnn/dataset.py:316: FutureWarning: Dropping invalid columns in DataFrameGroupBy.mean is deprecated. In a future version, a TypeError will be raised. Before calling .mean, select only columns which should be valid for the function.\n",
      "  df_subset_new=df_subset.groupby('Cluster').mean(numeric_only=False)\n",
      "/home/rishal/pharmnn_rl/Pharmnn/dataset.py:337: FutureWarning: The frame.append method is deprecated and will be removed from pandas in a future version. Use pandas.concat instead.\n",
      "  df_new=df_new.append(df_subset)\n",
      "/home/rishal/pharmnn_rl/Pharmnn/dataset.py:314: SettingWithCopyWarning: \n",
      "A value is trying to be set on a copy of a slice from a DataFrame.\n",
      "Try using .loc[row_indexer,col_indexer] = value instead\n",
      "\n",
      "See the caveats in the documentation: https://pandas.pydata.org/pandas-docs/stable/user_guide/indexing.html#returning-a-view-versus-a-copy\n",
      "  df_subset['Cluster']=clustering.labels_\n",
      "/home/rishal/pharmnn_rl/Pharmnn/dataset.py:316: FutureWarning: Dropping invalid columns in DataFrameGroupBy.mean is deprecated. In a future version, a TypeError will be raised. Before calling .mean, select only columns which should be valid for the function.\n",
      "  df_subset_new=df_subset.groupby('Cluster').mean(numeric_only=False)\n",
      "/home/rishal/pharmnn_rl/Pharmnn/dataset.py:337: FutureWarning: The frame.append method is deprecated and will be removed from pandas in a future version. Use pandas.concat instead.\n",
      "  df_new=df_new.append(df_subset)\n",
      "/home/rishal/pharmnn_rl/Pharmnn/dataset.py:337: FutureWarning: The frame.append method is deprecated and will be removed from pandas in a future version. Use pandas.concat instead.\n",
      "  df_new=df_new.append(df_subset)\n",
      "/home/rishal/.conda/envs/pharmnn/lib/python3.9/site-packages/torch/jit/_check.py:181: UserWarning: The TorchScript type system doesn't support instance-level annotations on empty non-base types in `__init__`. Instead, either 1) use a type annotation in the class body, or 2) wrap the type in `torch.jit.Attribute`.\n",
      "  warnings.warn(\"The TorchScript type system doesn't support \"\n",
      "/home/rishal/.conda/envs/pharmnn/lib/python3.9/site-packages/torch_geometric/deprecation.py:12: UserWarning: 'data.DataLoader' is deprecated, use 'loader.DataLoader' instead\n",
      "  warnings.warn(out)\n",
      "/home/rishal/.conda/envs/pharmnn/lib/python3.9/site-packages/scipy/__init__.py:138: UserWarning: A NumPy version >=1.16.5 and <1.23.0 is required for this version of SciPy (detected version 1.24.3)\n",
      "  warnings.warn(f\"A NumPy version >={np_minversion} and <{np_maxversion} is required for this version of \"\n",
      "/home/rishal/pharmnn_rl/Pharmnn/dataset.py:314: SettingWithCopyWarning: \n",
      "A value is trying to be set on a copy of a slice from a DataFrame.\n",
      "Try using .loc[row_indexer,col_indexer] = value instead\n",
      "\n",
      "See the caveats in the documentation: https://pandas.pydata.org/pandas-docs/stable/user_guide/indexing.html#returning-a-view-versus-a-copy\n",
      "  df_subset['Cluster']=clustering.labels_\n",
      "/home/rishal/pharmnn_rl/Pharmnn/dataset.py:316: FutureWarning: Dropping invalid columns in DataFrameGroupBy.mean is deprecated. In a future version, a TypeError will be raised. Before calling .mean, select only columns which should be valid for the function.\n",
      "  df_subset_new=df_subset.groupby('Cluster').mean(numeric_only=False)\n",
      "/home/rishal/pharmnn_rl/Pharmnn/dataset.py:337: FutureWarning: The frame.append method is deprecated and will be removed from pandas in a future version. Use pandas.concat instead.\n",
      "  df_new=df_new.append(df_subset)\n",
      "/home/rishal/pharmnn_rl/Pharmnn/dataset.py:314: SettingWithCopyWarning: \n",
      "A value is trying to be set on a copy of a slice from a DataFrame.\n",
      "Try using .loc[row_indexer,col_indexer] = value instead\n",
      "\n",
      "See the caveats in the documentation: https://pandas.pydata.org/pandas-docs/stable/user_guide/indexing.html#returning-a-view-versus-a-copy\n",
      "  df_subset['Cluster']=clustering.labels_\n",
      "/home/rishal/pharmnn_rl/Pharmnn/dataset.py:316: FutureWarning: Dropping invalid columns in DataFrameGroupBy.mean is deprecated. In a future version, a TypeError will be raised. Before calling .mean, select only columns which should be valid for the function.\n",
      "  df_subset_new=df_subset.groupby('Cluster').mean(numeric_only=False)\n",
      "/home/rishal/pharmnn_rl/Pharmnn/dataset.py:337: FutureWarning: The frame.append method is deprecated and will be removed from pandas in a future version. Use pandas.concat instead.\n",
      "  df_new=df_new.append(df_subset)\n",
      "/home/rishal/pharmnn_rl/Pharmnn/dataset.py:314: SettingWithCopyWarning: \n",
      "A value is trying to be set on a copy of a slice from a DataFrame.\n",
      "Try using .loc[row_indexer,col_indexer] = value instead\n",
      "\n",
      "See the caveats in the documentation: https://pandas.pydata.org/pandas-docs/stable/user_guide/indexing.html#returning-a-view-versus-a-copy\n",
      "  df_subset['Cluster']=clustering.labels_\n",
      "/home/rishal/pharmnn_rl/Pharmnn/dataset.py:316: FutureWarning: Dropping invalid columns in DataFrameGroupBy.mean is deprecated. In a future version, a TypeError will be raised. Before calling .mean, select only columns which should be valid for the function.\n",
      "  df_subset_new=df_subset.groupby('Cluster').mean(numeric_only=False)\n",
      "/home/rishal/pharmnn_rl/Pharmnn/dataset.py:337: FutureWarning: The frame.append method is deprecated and will be removed from pandas in a future version. Use pandas.concat instead.\n",
      "  df_new=df_new.append(df_subset)\n",
      "/home/rishal/pharmnn_rl/Pharmnn/dataset.py:337: FutureWarning: The frame.append method is deprecated and will be removed from pandas in a future version. Use pandas.concat instead.\n",
      "  df_new=df_new.append(df_subset)\n",
      "/home/rishal/.conda/envs/pharmnn/lib/python3.9/site-packages/torch/jit/_check.py:181: UserWarning: The TorchScript type system doesn't support instance-level annotations on empty non-base types in `__init__`. Instead, either 1) use a type annotation in the class body, or 2) wrap the type in `torch.jit.Attribute`.\n",
      "  warnings.warn(\"The TorchScript type system doesn't support \"\n",
      "/home/rishal/.conda/envs/pharmnn/lib/python3.9/site-packages/torch_geometric/deprecation.py:12: UserWarning: 'data.DataLoader' is deprecated, use 'loader.DataLoader' instead\n",
      "  warnings.warn(out)\n"
     ]
    },
    {
     "data": {
      "text/plain": [
       "0"
      ]
     },
     "execution_count": 2,
     "metadata": {},
     "output_type": "execute_result"
    }
   ],
   "source": [
    "os.system('python predict.py --input_json data/covid_moonshot_clustered_enabled.json --features ligand_only --output_prefix data/covid_fragments_pharmacophore_min_3 --min_features 3')\n",
    "os.system('python predict.py --input_json data/covid_moonshot_clustered_enabled.json --features ligand_only --output_prefix data/covid_fragments_pharmacophore_min_4 --min_features 4')\n",
    "os.system('python predict.py --receptor data/Mpro_XChem_screen_active_site_11-May-2020/Mpro-x0354_0_nowat.pdb --ligand data/Mpro_XChem_screen_active_site_11-May-2020/Mpro-x0354_0_lig_fixed_arom.sdf --features cnn_only --output_prefix data/covid_cnn_pharmacophore_min_3 --min_features 3 --autobox_extend 4')\n",
    "os.system('python predict.py --receptor data/Mpro_XChem_screen_active_site_11-May-2020/Mpro-x0354_0_nowat.pdb --ligand data/Mpro_XChem_screen_active_site_11-May-2020/Mpro-x0354_0_lig_fixed_arom.sdf --features cnn_only --output_prefix data/covid_cnn_pharmacophore_min_4 --min_features 4 --autobox_extend 4')"
   ]
  },
  {
   "cell_type": "code",
   "execution_count": 31,
   "metadata": {},
   "outputs": [
    {
     "name": "stdout",
     "output_type": "stream",
     "text": [
      "data/covid_fragments_pharmacophore_min_3_model_cnn_1_predicted_pharmacophores.json\n"
     ]
    },
    {
     "name": "stderr",
     "output_type": "stream",
     "text": [
      "/tmp/ipykernel_1501840/3113971103.py:28: FutureWarning: The frame.append method is deprecated and will be removed from pandas in a future version. Use pandas.concat instead.\n",
      "  df=df.append({'system':'fresco','num_feats':feat,'model':model,'precision':precision,'recall':recall,'f1':f1,'enrichment':enrichment,'hit_rate':hit_rate,'features':pharm_features},ignore_index=True)\n",
      "/tmp/ipykernel_1501840/3113971103.py:37: FutureWarning: The frame.append method is deprecated and will be removed from pandas in a future version. Use pandas.concat instead.\n",
      "  df=df.append({'system':'covid','num_feats':feat,'model':model,'precision':precision,'recall':recall,'f1':f1,'enrichment':enrichment,'hit_rate':hit_rate,'features':pharm_features},ignore_index=True)\n",
      "/tmp/ipykernel_1501840/3113971103.py:28: FutureWarning: The frame.append method is deprecated and will be removed from pandas in a future version. Use pandas.concat instead.\n",
      "  df=df.append({'system':'fresco','num_feats':feat,'model':model,'precision':precision,'recall':recall,'f1':f1,'enrichment':enrichment,'hit_rate':hit_rate,'features':pharm_features},ignore_index=True)\n"
     ]
    },
    {
     "name": "stdout",
     "output_type": "stream",
     "text": [
      "data/covid_fragments_pharmacophore_min_3_model_cnn_2_predicted_pharmacophores.json\n"
     ]
    },
    {
     "name": "stderr",
     "output_type": "stream",
     "text": [
      "/tmp/ipykernel_1501840/3113971103.py:37: FutureWarning: The frame.append method is deprecated and will be removed from pandas in a future version. Use pandas.concat instead.\n",
      "  df=df.append({'system':'covid','num_feats':feat,'model':model,'precision':precision,'recall':recall,'f1':f1,'enrichment':enrichment,'hit_rate':hit_rate,'features':pharm_features},ignore_index=True)\n",
      "/tmp/ipykernel_1501840/3113971103.py:28: FutureWarning: The frame.append method is deprecated and will be removed from pandas in a future version. Use pandas.concat instead.\n",
      "  df=df.append({'system':'fresco','num_feats':feat,'model':model,'precision':precision,'recall':recall,'f1':f1,'enrichment':enrichment,'hit_rate':hit_rate,'features':pharm_features},ignore_index=True)\n"
     ]
    },
    {
     "name": "stdout",
     "output_type": "stream",
     "text": [
      "data/covid_fragments_pharmacophore_min_3_model_cnn_3_predicted_pharmacophores.json\n"
     ]
    },
    {
     "name": "stderr",
     "output_type": "stream",
     "text": [
      "/tmp/ipykernel_1501840/3113971103.py:37: FutureWarning: The frame.append method is deprecated and will be removed from pandas in a future version. Use pandas.concat instead.\n",
      "  df=df.append({'system':'covid','num_feats':feat,'model':model,'precision':precision,'recall':recall,'f1':f1,'enrichment':enrichment,'hit_rate':hit_rate,'features':pharm_features},ignore_index=True)\n",
      "/tmp/ipykernel_1501840/3113971103.py:28: FutureWarning: The frame.append method is deprecated and will be removed from pandas in a future version. Use pandas.concat instead.\n",
      "  df=df.append({'system':'fresco','num_feats':feat,'model':model,'precision':precision,'recall':recall,'f1':f1,'enrichment':enrichment,'hit_rate':hit_rate,'features':pharm_features},ignore_index=True)\n"
     ]
    },
    {
     "name": "stdout",
     "output_type": "stream",
     "text": [
      "data/covid_fragments_pharmacophore_min_3_model_cnn_4_predicted_pharmacophores.json\n"
     ]
    },
    {
     "name": "stderr",
     "output_type": "stream",
     "text": [
      "/tmp/ipykernel_1501840/3113971103.py:37: FutureWarning: The frame.append method is deprecated and will be removed from pandas in a future version. Use pandas.concat instead.\n",
      "  df=df.append({'system':'covid','num_feats':feat,'model':model,'precision':precision,'recall':recall,'f1':f1,'enrichment':enrichment,'hit_rate':hit_rate,'features':pharm_features},ignore_index=True)\n",
      "/tmp/ipykernel_1501840/3113971103.py:28: FutureWarning: The frame.append method is deprecated and will be removed from pandas in a future version. Use pandas.concat instead.\n",
      "  df=df.append({'system':'fresco','num_feats':feat,'model':model,'precision':precision,'recall':recall,'f1':f1,'enrichment':enrichment,'hit_rate':hit_rate,'features':pharm_features},ignore_index=True)\n"
     ]
    },
    {
     "name": "stdout",
     "output_type": "stream",
     "text": [
      "data/covid_fragments_pharmacophore_min_3_model_cnn_5_predicted_pharmacophores.json\n"
     ]
    },
    {
     "name": "stderr",
     "output_type": "stream",
     "text": [
      "/tmp/ipykernel_1501840/3113971103.py:37: FutureWarning: The frame.append method is deprecated and will be removed from pandas in a future version. Use pandas.concat instead.\n",
      "  df=df.append({'system':'covid','num_feats':feat,'model':model,'precision':precision,'recall':recall,'f1':f1,'enrichment':enrichment,'hit_rate':hit_rate,'features':pharm_features},ignore_index=True)\n",
      "/tmp/ipykernel_1501840/3113971103.py:28: FutureWarning: The frame.append method is deprecated and will be removed from pandas in a future version. Use pandas.concat instead.\n",
      "  df=df.append({'system':'fresco','num_feats':feat,'model':model,'precision':precision,'recall':recall,'f1':f1,'enrichment':enrichment,'hit_rate':hit_rate,'features':pharm_features},ignore_index=True)\n"
     ]
    },
    {
     "name": "stdout",
     "output_type": "stream",
     "text": [
      "data/covid_fragments_pharmacophore_min_4_model_cnn_1_predicted_pharmacophores.json\n"
     ]
    },
    {
     "name": "stderr",
     "output_type": "stream",
     "text": [
      "/tmp/ipykernel_1501840/3113971103.py:37: FutureWarning: The frame.append method is deprecated and will be removed from pandas in a future version. Use pandas.concat instead.\n",
      "  df=df.append({'system':'covid','num_feats':feat,'model':model,'precision':precision,'recall':recall,'f1':f1,'enrichment':enrichment,'hit_rate':hit_rate,'features':pharm_features},ignore_index=True)\n",
      "/tmp/ipykernel_1501840/3113971103.py:28: FutureWarning: The frame.append method is deprecated and will be removed from pandas in a future version. Use pandas.concat instead.\n",
      "  df=df.append({'system':'fresco','num_feats':feat,'model':model,'precision':precision,'recall':recall,'f1':f1,'enrichment':enrichment,'hit_rate':hit_rate,'features':pharm_features},ignore_index=True)\n"
     ]
    },
    {
     "name": "stdout",
     "output_type": "stream",
     "text": [
      "data/covid_fragments_pharmacophore_min_4_model_cnn_2_predicted_pharmacophores.json\n"
     ]
    },
    {
     "name": "stderr",
     "output_type": "stream",
     "text": [
      "/tmp/ipykernel_1501840/3113971103.py:37: FutureWarning: The frame.append method is deprecated and will be removed from pandas in a future version. Use pandas.concat instead.\n",
      "  df=df.append({'system':'covid','num_feats':feat,'model':model,'precision':precision,'recall':recall,'f1':f1,'enrichment':enrichment,'hit_rate':hit_rate,'features':pharm_features},ignore_index=True)\n",
      "/tmp/ipykernel_1501840/3113971103.py:28: FutureWarning: The frame.append method is deprecated and will be removed from pandas in a future version. Use pandas.concat instead.\n",
      "  df=df.append({'system':'fresco','num_feats':feat,'model':model,'precision':precision,'recall':recall,'f1':f1,'enrichment':enrichment,'hit_rate':hit_rate,'features':pharm_features},ignore_index=True)\n"
     ]
    },
    {
     "name": "stdout",
     "output_type": "stream",
     "text": [
      "data/covid_fragments_pharmacophore_min_4_model_cnn_3_predicted_pharmacophores.json\n"
     ]
    },
    {
     "name": "stderr",
     "output_type": "stream",
     "text": [
      "/tmp/ipykernel_1501840/3113971103.py:37: FutureWarning: The frame.append method is deprecated and will be removed from pandas in a future version. Use pandas.concat instead.\n",
      "  df=df.append({'system':'covid','num_feats':feat,'model':model,'precision':precision,'recall':recall,'f1':f1,'enrichment':enrichment,'hit_rate':hit_rate,'features':pharm_features},ignore_index=True)\n",
      "/tmp/ipykernel_1501840/3113971103.py:28: FutureWarning: The frame.append method is deprecated and will be removed from pandas in a future version. Use pandas.concat instead.\n",
      "  df=df.append({'system':'fresco','num_feats':feat,'model':model,'precision':precision,'recall':recall,'f1':f1,'enrichment':enrichment,'hit_rate':hit_rate,'features':pharm_features},ignore_index=True)\n"
     ]
    },
    {
     "name": "stdout",
     "output_type": "stream",
     "text": [
      "data/covid_fragments_pharmacophore_min_4_model_cnn_4_predicted_pharmacophores.json\n"
     ]
    },
    {
     "name": "stderr",
     "output_type": "stream",
     "text": [
      "/tmp/ipykernel_1501840/3113971103.py:37: FutureWarning: The frame.append method is deprecated and will be removed from pandas in a future version. Use pandas.concat instead.\n",
      "  df=df.append({'system':'covid','num_feats':feat,'model':model,'precision':precision,'recall':recall,'f1':f1,'enrichment':enrichment,'hit_rate':hit_rate,'features':pharm_features},ignore_index=True)\n",
      "/tmp/ipykernel_1501840/3113971103.py:28: FutureWarning: The frame.append method is deprecated and will be removed from pandas in a future version. Use pandas.concat instead.\n",
      "  df=df.append({'system':'fresco','num_feats':feat,'model':model,'precision':precision,'recall':recall,'f1':f1,'enrichment':enrichment,'hit_rate':hit_rate,'features':pharm_features},ignore_index=True)\n"
     ]
    },
    {
     "name": "stdout",
     "output_type": "stream",
     "text": [
      "data/covid_fragments_pharmacophore_min_4_model_cnn_5_predicted_pharmacophores.json\n"
     ]
    },
    {
     "name": "stderr",
     "output_type": "stream",
     "text": [
      "/tmp/ipykernel_1501840/3113971103.py:37: FutureWarning: The frame.append method is deprecated and will be removed from pandas in a future version. Use pandas.concat instead.\n",
      "  df=df.append({'system':'covid','num_feats':feat,'model':model,'precision':precision,'recall':recall,'f1':f1,'enrichment':enrichment,'hit_rate':hit_rate,'features':pharm_features},ignore_index=True)\n",
      "/tmp/ipykernel_1501840/3113971103.py:28: FutureWarning: The frame.append method is deprecated and will be removed from pandas in a future version. Use pandas.concat instead.\n",
      "  df=df.append({'system':'fresco','num_feats':feat,'model':model,'precision':precision,'recall':recall,'f1':f1,'enrichment':enrichment,'hit_rate':hit_rate,'features':pharm_features},ignore_index=True)\n"
     ]
    },
    {
     "name": "stdout",
     "output_type": "stream",
     "text": [
      "data/covid_cnn_pharmacophore_min_3_model_cnn_1_predicted_pharmacophores.json\n"
     ]
    },
    {
     "name": "stderr",
     "output_type": "stream",
     "text": [
      "/tmp/ipykernel_1501840/3113971103.py:37: FutureWarning: The frame.append method is deprecated and will be removed from pandas in a future version. Use pandas.concat instead.\n",
      "  df=df.append({'system':'covid','num_feats':feat,'model':model,'precision':precision,'recall':recall,'f1':f1,'enrichment':enrichment,'hit_rate':hit_rate,'features':pharm_features},ignore_index=True)\n",
      "/tmp/ipykernel_1501840/3113971103.py:28: FutureWarning: The frame.append method is deprecated and will be removed from pandas in a future version. Use pandas.concat instead.\n",
      "  df=df.append({'system':'fresco','num_feats':feat,'model':model,'precision':precision,'recall':recall,'f1':f1,'enrichment':enrichment,'hit_rate':hit_rate,'features':pharm_features},ignore_index=True)\n"
     ]
    },
    {
     "name": "stdout",
     "output_type": "stream",
     "text": [
      "data/covid_cnn_pharmacophore_min_3_model_cnn_2_predicted_pharmacophores.json\n"
     ]
    },
    {
     "name": "stderr",
     "output_type": "stream",
     "text": [
      "/tmp/ipykernel_1501840/3113971103.py:37: FutureWarning: The frame.append method is deprecated and will be removed from pandas in a future version. Use pandas.concat instead.\n",
      "  df=df.append({'system':'covid','num_feats':feat,'model':model,'precision':precision,'recall':recall,'f1':f1,'enrichment':enrichment,'hit_rate':hit_rate,'features':pharm_features},ignore_index=True)\n",
      "/tmp/ipykernel_1501840/3113971103.py:28: FutureWarning: The frame.append method is deprecated and will be removed from pandas in a future version. Use pandas.concat instead.\n",
      "  df=df.append({'system':'fresco','num_feats':feat,'model':model,'precision':precision,'recall':recall,'f1':f1,'enrichment':enrichment,'hit_rate':hit_rate,'features':pharm_features},ignore_index=True)\n"
     ]
    },
    {
     "name": "stdout",
     "output_type": "stream",
     "text": [
      "data/covid_cnn_pharmacophore_min_3_model_cnn_3_predicted_pharmacophores.json\n"
     ]
    },
    {
     "name": "stderr",
     "output_type": "stream",
     "text": [
      "/tmp/ipykernel_1501840/3113971103.py:37: FutureWarning: The frame.append method is deprecated and will be removed from pandas in a future version. Use pandas.concat instead.\n",
      "  df=df.append({'system':'covid','num_feats':feat,'model':model,'precision':precision,'recall':recall,'f1':f1,'enrichment':enrichment,'hit_rate':hit_rate,'features':pharm_features},ignore_index=True)\n",
      "/tmp/ipykernel_1501840/3113971103.py:28: FutureWarning: The frame.append method is deprecated and will be removed from pandas in a future version. Use pandas.concat instead.\n",
      "  df=df.append({'system':'fresco','num_feats':feat,'model':model,'precision':precision,'recall':recall,'f1':f1,'enrichment':enrichment,'hit_rate':hit_rate,'features':pharm_features},ignore_index=True)\n"
     ]
    },
    {
     "name": "stdout",
     "output_type": "stream",
     "text": [
      "data/covid_cnn_pharmacophore_min_3_model_cnn_4_predicted_pharmacophores.json\n"
     ]
    },
    {
     "name": "stderr",
     "output_type": "stream",
     "text": [
      "/tmp/ipykernel_1501840/3113971103.py:37: FutureWarning: The frame.append method is deprecated and will be removed from pandas in a future version. Use pandas.concat instead.\n",
      "  df=df.append({'system':'covid','num_feats':feat,'model':model,'precision':precision,'recall':recall,'f1':f1,'enrichment':enrichment,'hit_rate':hit_rate,'features':pharm_features},ignore_index=True)\n",
      "/tmp/ipykernel_1501840/3113971103.py:28: FutureWarning: The frame.append method is deprecated and will be removed from pandas in a future version. Use pandas.concat instead.\n",
      "  df=df.append({'system':'fresco','num_feats':feat,'model':model,'precision':precision,'recall':recall,'f1':f1,'enrichment':enrichment,'hit_rate':hit_rate,'features':pharm_features},ignore_index=True)\n"
     ]
    },
    {
     "name": "stdout",
     "output_type": "stream",
     "text": [
      "data/covid_cnn_pharmacophore_min_3_model_cnn_5_predicted_pharmacophores.json\n"
     ]
    },
    {
     "name": "stderr",
     "output_type": "stream",
     "text": [
      "/tmp/ipykernel_1501840/3113971103.py:37: FutureWarning: The frame.append method is deprecated and will be removed from pandas in a future version. Use pandas.concat instead.\n",
      "  df=df.append({'system':'covid','num_feats':feat,'model':model,'precision':precision,'recall':recall,'f1':f1,'enrichment':enrichment,'hit_rate':hit_rate,'features':pharm_features},ignore_index=True)\n",
      "/tmp/ipykernel_1501840/3113971103.py:28: FutureWarning: The frame.append method is deprecated and will be removed from pandas in a future version. Use pandas.concat instead.\n",
      "  df=df.append({'system':'fresco','num_feats':feat,'model':model,'precision':precision,'recall':recall,'f1':f1,'enrichment':enrichment,'hit_rate':hit_rate,'features':pharm_features},ignore_index=True)\n"
     ]
    },
    {
     "name": "stdout",
     "output_type": "stream",
     "text": [
      "data/covid_cnn_pharmacophore_min_4_model_cnn_1_predicted_pharmacophores.json\n"
     ]
    },
    {
     "name": "stderr",
     "output_type": "stream",
     "text": [
      "/tmp/ipykernel_1501840/3113971103.py:37: FutureWarning: The frame.append method is deprecated and will be removed from pandas in a future version. Use pandas.concat instead.\n",
      "  df=df.append({'system':'covid','num_feats':feat,'model':model,'precision':precision,'recall':recall,'f1':f1,'enrichment':enrichment,'hit_rate':hit_rate,'features':pharm_features},ignore_index=True)\n",
      "/tmp/ipykernel_1501840/3113971103.py:28: FutureWarning: The frame.append method is deprecated and will be removed from pandas in a future version. Use pandas.concat instead.\n",
      "  df=df.append({'system':'fresco','num_feats':feat,'model':model,'precision':precision,'recall':recall,'f1':f1,'enrichment':enrichment,'hit_rate':hit_rate,'features':pharm_features},ignore_index=True)\n"
     ]
    },
    {
     "name": "stdout",
     "output_type": "stream",
     "text": [
      "data/covid_cnn_pharmacophore_min_4_model_cnn_2_predicted_pharmacophores.json\n"
     ]
    },
    {
     "name": "stderr",
     "output_type": "stream",
     "text": [
      "/tmp/ipykernel_1501840/3113971103.py:37: FutureWarning: The frame.append method is deprecated and will be removed from pandas in a future version. Use pandas.concat instead.\n",
      "  df=df.append({'system':'covid','num_feats':feat,'model':model,'precision':precision,'recall':recall,'f1':f1,'enrichment':enrichment,'hit_rate':hit_rate,'features':pharm_features},ignore_index=True)\n",
      "/tmp/ipykernel_1501840/3113971103.py:28: FutureWarning: The frame.append method is deprecated and will be removed from pandas in a future version. Use pandas.concat instead.\n",
      "  df=df.append({'system':'fresco','num_feats':feat,'model':model,'precision':precision,'recall':recall,'f1':f1,'enrichment':enrichment,'hit_rate':hit_rate,'features':pharm_features},ignore_index=True)\n"
     ]
    },
    {
     "name": "stdout",
     "output_type": "stream",
     "text": [
      "data/covid_cnn_pharmacophore_min_4_model_cnn_3_predicted_pharmacophores.json\n"
     ]
    },
    {
     "name": "stderr",
     "output_type": "stream",
     "text": [
      "/tmp/ipykernel_1501840/3113971103.py:37: FutureWarning: The frame.append method is deprecated and will be removed from pandas in a future version. Use pandas.concat instead.\n",
      "  df=df.append({'system':'covid','num_feats':feat,'model':model,'precision':precision,'recall':recall,'f1':f1,'enrichment':enrichment,'hit_rate':hit_rate,'features':pharm_features},ignore_index=True)\n",
      "/tmp/ipykernel_1501840/3113971103.py:28: FutureWarning: The frame.append method is deprecated and will be removed from pandas in a future version. Use pandas.concat instead.\n",
      "  df=df.append({'system':'fresco','num_feats':feat,'model':model,'precision':precision,'recall':recall,'f1':f1,'enrichment':enrichment,'hit_rate':hit_rate,'features':pharm_features},ignore_index=True)\n"
     ]
    },
    {
     "name": "stdout",
     "output_type": "stream",
     "text": [
      "data/covid_cnn_pharmacophore_min_4_model_cnn_4_predicted_pharmacophores.json\n"
     ]
    },
    {
     "name": "stderr",
     "output_type": "stream",
     "text": [
      "/tmp/ipykernel_1501840/3113971103.py:37: FutureWarning: The frame.append method is deprecated and will be removed from pandas in a future version. Use pandas.concat instead.\n",
      "  df=df.append({'system':'covid','num_feats':feat,'model':model,'precision':precision,'recall':recall,'f1':f1,'enrichment':enrichment,'hit_rate':hit_rate,'features':pharm_features},ignore_index=True)\n"
     ]
    },
    {
     "name": "stdout",
     "output_type": "stream",
     "text": [
      "data/covid_cnn_pharmacophore_min_4_model_cnn_5_predicted_pharmacophores.json\n"
     ]
    },
    {
     "name": "stderr",
     "output_type": "stream",
     "text": [
      "/tmp/ipykernel_1501840/3113971103.py:28: FutureWarning: The frame.append method is deprecated and will be removed from pandas in a future version. Use pandas.concat instead.\n",
      "  df=df.append({'system':'fresco','num_feats':feat,'model':model,'precision':precision,'recall':recall,'f1':f1,'enrichment':enrichment,'hit_rate':hit_rate,'features':pharm_features},ignore_index=True)\n",
      "/tmp/ipykernel_1501840/3113971103.py:37: FutureWarning: The frame.append method is deprecated and will be removed from pandas in a future version. Use pandas.concat instead.\n",
      "  df=df.append({'system':'covid','num_feats':feat,'model':model,'precision':precision,'recall':recall,'f1':f1,'enrichment':enrichment,'hit_rate':hit_rate,'features':pharm_features},ignore_index=True)\n"
     ]
    }
   ],
   "source": [
    "import numpy as np\n",
    "import pandas as pd\n",
    "\n",
    "df=pd.DataFrame(columns=['system','num_feats','model','precision','recall','f1','enrichment','hit_rate','features'])\n",
    "num_feats=[3,4]\n",
    "prefixes=['covid_fragments_pharmacophore_min_','covid_cnn_pharmacophore_min_']\n",
    "for prefix in prefixes:\n",
    "    if 'fragments' in prefix:\n",
    "        pharm_features='fragments'\n",
    "    else:\n",
    "        pharm_features='cnn'\n",
    "    for feat in num_feats:\n",
    "        model_list=[]\n",
    "        # if 'fragments' in prefix:\n",
    "        #     model_list.append('model_ligand')\n",
    "        model_list+=['model_cnn_1','model_cnn_2','model_cnn_3','model_cnn_4','model_cnn_5']\n",
    "        for model in model_list:\n",
    "            pharmacophore_file='data/'+prefix+str(feat)+'_'+model+'_predicted_pharmacophores.json'\n",
    "            print(pharmacophore_file)\n",
    "            output=subprocess.check_output('python getf1.py '+pharmacophore_file+ ' data/fresco_moonshot/fresco_moonshot  --actives data/fresco_moonshot/actives_smiles.ism --decoys data/fresco_moonshot/decoys_smiles.ism ' ,shell=True)\n",
    "            output=output.decode('utf-8')\n",
    "            results=output.split()\n",
    "            f1=float(results[1])\n",
    "            recall=float(results[3])\n",
    "            precision=float(results[5])\n",
    "            hit_rate=float(results[8])\n",
    "            enrichment=float(results[11])\n",
    "            df=df.append({'system':'fresco','num_feats':feat,'model':model,'precision':precision,'recall':recall,'f1':f1,'enrichment':enrichment,'hit_rate':hit_rate,'features':pharm_features},ignore_index=True)\n",
    "            output=subprocess.check_output('python getf1.py '+pharmacophore_file+ ' data/covid_moonshot/covid_moonshot  --actives data/covid_moonshot/actives_smiles.ism --decoys data/covid_moonshot/decoys_smiles.ism ' ,shell=True)\n",
    "            output=output.decode('utf-8')\n",
    "            results=output.split()\n",
    "            f1=float(results[1])\n",
    "            recall=float(results[3])\n",
    "            precision=float(results[5])\n",
    "            hit_rate=float(results[8])\n",
    "            enrichment=float(results[11])\n",
    "            df=df.append({'system':'covid','num_feats':feat,'model':model,'precision':precision,'recall':recall,'f1':f1,'enrichment':enrichment,'hit_rate':hit_rate,'features':pharm_features},ignore_index=True)\n",
    "        "
   ]
  },
  {
   "cell_type": "markdown",
   "metadata": {},
   "source": [
    "# Table time"
   ]
  },
  {
   "cell_type": "code",
   "execution_count": 32,
   "metadata": {},
   "outputs": [
    {
     "name": "stdout",
     "output_type": "stream",
     "text": [
      "system        object\n",
      "num_feats     object\n",
      "model         object\n",
      "precision     object\n",
      "recall        object\n",
      "f1            object\n",
      "enrichment    object\n",
      "hit_rate      object\n",
      "features      object\n",
      "dtype: object\n",
      "\\begin{tabular}{lllrrrrr}\n",
      "\\toprule\n",
      "            &             &   &  precision &  recall &    f1 &  enrichment &  hit\\_rate \\\\\n",
      "system & model & num\\_feats &            &         &       &             &           \\\\\n",
      "\\midrule\n",
      "Full dataset & model\\_cnn\\_1 & 3 &      0.451 &   0.950 & 0.612 &       1.110 &     0.856 \\\\\n",
      "            &             & 4 &      0.451 &   0.950 & 0.612 &       1.110 &     0.856 \\\\\n",
      "            & model\\_cnn\\_2 & 3 &      0.425 &   0.908 & 0.579 &       1.046 &     0.868 \\\\\n",
      "            &             & 4 &      0.296 &   0.097 & 0.146 &       0.728 &     0.133 \\\\\n",
      "            & model\\_cnn\\_3 & 3 &      0.299 &   0.055 & 0.093 &       0.735 &     0.075 \\\\\n",
      "            &             & 4 &      0.299 &   0.055 & 0.093 &       0.735 &     0.075 \\\\\n",
      "            & model\\_cnn\\_4 & 3 &      0.377 &   0.369 & 0.373 &       0.929 &     0.397 \\\\\n",
      "            &             & 4 &      0.371 &   0.305 & 0.335 &       0.912 &     0.335 \\\\\n",
      "            & model\\_cnn\\_5 & 3 &      0.000 &   0.000 & 0.000 &       0.000 &     0.000 \\\\\n",
      "            &             & 4 &      0.000 &   0.000 & 0.000 &       0.000 &     0.000 \\\\\n",
      "Hit-to-lead & model\\_cnn\\_1 & 3 &      0.084 &   0.783 & 0.151 &       1.370 &     0.572 \\\\\n",
      "            &             & 4 &      0.084 &   0.783 & 0.151 &       1.370 &     0.572 \\\\\n",
      "            & model\\_cnn\\_2 & 3 &      0.076 &   0.867 & 0.140 &       1.247 &     0.695 \\\\\n",
      "            &             & 4 &      0.112 &   0.200 & 0.144 &       1.834 &     0.109 \\\\\n",
      "            & model\\_cnn\\_3 & 3 &      0.068 &   0.133 & 0.090 &       1.108 &     0.120 \\\\\n",
      "            &             & 4 &      0.068 &   0.133 & 0.090 &       1.108 &     0.120 \\\\\n",
      "            & model\\_cnn\\_4 & 3 &      0.072 &   0.267 & 0.113 &       1.173 &     0.227 \\\\\n",
      "            &             & 4 &      0.056 &   0.183 & 0.086 &       0.922 &     0.199 \\\\\n",
      "            & model\\_cnn\\_5 & 3 &      0.000 &   0.000 & 0.000 &       0.000 &     0.000 \\\\\n",
      "            &             & 4 &      0.000 &   0.000 & 0.000 &       0.000 &     0.000 \\\\\n",
      "\\bottomrule\n",
      "\\end{tabular}\n",
      "\n"
     ]
    },
    {
     "name": "stderr",
     "output_type": "stream",
     "text": [
      "/tmp/ipykernel_1501840/832569923.py:10: SettingWithCopyWarning: \n",
      "A value is trying to be set on a copy of a slice from a DataFrame\n",
      "\n",
      "See the caveats in the documentation: https://pandas.pydata.org/pandas-docs/stable/user_guide/indexing.html#returning-a-view-versus-a-copy\n",
      "  df_fragments.drop(columns='features',inplace=True)\n",
      "/tmp/ipykernel_1501840/832569923.py:12: SettingWithCopyWarning: \n",
      "A value is trying to be set on a copy of a slice from a DataFrame\n",
      "\n",
      "See the caveats in the documentation: https://pandas.pydata.org/pandas-docs/stable/user_guide/indexing.html#returning-a-view-versus-a-copy\n",
      "  df_cnn.drop(columns='features',inplace=True)\n",
      "/tmp/ipykernel_1501840/832569923.py:13: FutureWarning: In future versions `DataFrame.to_latex` is expected to utilise the base implementation of `Styler.to_latex` for formatting and rendering. The arguments signature may therefore change. It is recommended instead to use `DataFrame.style.to_latex` which also contains additional functionality.\n",
      "  print(df_fragments.to_latex(index=True,float_format=\"%.3f\"))\n"
     ]
    }
   ],
   "source": [
    "#\n",
    "print(df.dtypes)\n",
    "dtypes={'system':'object','model':'object','num_feats':int,'precision':float,'recall':float,'f1':float,'enrichment':float,'hit_rate':float,'features':'object'}\n",
    "df=df.astype(dtypes)\n",
    "df.loc[df['system']=='covid','system']='Full dataset'\n",
    "df.loc[df['system']=='fresco','system']='Hit-to-lead'\n",
    "df.set_index(['system','model','num_feats'],inplace=True)\n",
    "df.sort_index(inplace=True)\n",
    "df_fragments=df[df['features']=='fragments']\n",
    "df_fragments.drop(columns='features',inplace=True)\n",
    "df_cnn=df[df['features']=='cnn']\n",
    "df_cnn.drop(columns='features',inplace=True)\n",
    "print(df_fragments.to_latex(index=True,float_format=\"%.3f\"))"
   ]
  },
  {
   "cell_type": "code",
   "execution_count": 33,
   "metadata": {},
   "outputs": [
    {
     "name": "stdout",
     "output_type": "stream",
     "text": [
      "\\begin{tabular}{lllrrrrr}\n",
      "\\toprule\n",
      "            &             &   &  precision &  recall &    f1 &  enrichment &  hit\\_rate \\\\\n",
      "system & model & num\\_feats &            &         &       &             &           \\\\\n",
      "\\midrule\n",
      "Full dataset & model\\_cnn\\_1 & 3 &      0.551 &   0.271 & 0.363 &       1.356 &     0.200 \\\\\n",
      "            &             & 4 &      0.118 &   0.003 & 0.005 &       0.290 &     0.009 \\\\\n",
      "            & model\\_cnn\\_2 & 3 &      0.372 &   0.119 & 0.180 &       0.916 &     0.130 \\\\\n",
      "            &             & 4 &      0.086 &   0.004 & 0.007 &       0.211 &     0.018 \\\\\n",
      "            & model\\_cnn\\_3 & 3 &      0.239 &   0.070 & 0.109 &       0.589 &     0.119 \\\\\n",
      "            &             & 4 &      0.000 &   0.000 & 0.000 &       0.000 &     0.000 \\\\\n",
      "            & model\\_cnn\\_4 & 3 &      0.589 &   0.275 & 0.375 &       1.450 &     0.189 \\\\\n",
      "            &             & 4 &      0.589 &   0.275 & 0.375 &       1.450 &     0.189 \\\\\n",
      "            & model\\_cnn\\_5 & 3 &      0.422 &   0.828 & 0.559 &       1.038 &     0.797 \\\\\n",
      "            &             & 4 &      0.312 &   0.031 & 0.056 &       0.767 &     0.040 \\\\\n",
      "Hit-to-lead & model\\_cnn\\_1 & 3 &      0.081 &   0.200 & 0.115 &       1.326 &     0.151 \\\\\n",
      "            &             & 4 &      0.000 &   0.000 & 0.000 &       0.000 &     0.007 \\\\\n",
      "            & model\\_cnn\\_2 & 3 &      0.065 &   0.033 & 0.044 &       1.055 &     0.032 \\\\\n",
      "            &             & 4 &      0.000 &   0.000 & 0.000 &       0.000 &     0.005 \\\\\n",
      "            & model\\_cnn\\_3 & 3 &      0.087 &   0.033 & 0.048 &       1.422 &     0.023 \\\\\n",
      "            &             & 4 &      0.000 &   0.000 & 0.000 &       0.000 &     0.000 \\\\\n",
      "            & model\\_cnn\\_4 & 3 &      0.073 &   0.050 & 0.059 &       1.196 &     0.042 \\\\\n",
      "            &             & 4 &      0.073 &   0.050 & 0.059 &       1.196 &     0.042 \\\\\n",
      "            & model\\_cnn\\_5 & 3 &      0.077 &   0.800 & 0.141 &       1.264 &     0.633 \\\\\n",
      "            &             & 4 &      0.146 &   0.117 & 0.130 &       2.384 &     0.049 \\\\\n",
      "\\bottomrule\n",
      "\\end{tabular}\n",
      "\n"
     ]
    },
    {
     "name": "stderr",
     "output_type": "stream",
     "text": [
      "/tmp/ipykernel_1501840/2799306820.py:1: FutureWarning: In future versions `DataFrame.to_latex` is expected to utilise the base implementation of `Styler.to_latex` for formatting and rendering. The arguments signature may therefore change. It is recommended instead to use `DataFrame.style.to_latex` which also contains additional functionality.\n",
      "  print(df_cnn.to_latex(index=True,float_format=\"%.3f\"))\n"
     ]
    }
   ],
   "source": [
    "print(df_cnn.to_latex(index=True,float_format=\"%.3f\"))"
   ]
  },
  {
   "cell_type": "markdown",
   "metadata": {},
   "source": [
    "# f1 plots"
   ]
  },
  {
   "cell_type": "code",
   "execution_count": 84,
   "metadata": {},
   "outputs": [
    {
     "name": "stdout",
     "output_type": "stream",
     "text": [
      "data/covid_fragments_pharmacophore_min_3_model_cnn_1_predicted_pharmacophores.json\n"
     ]
    },
    {
     "name": "stderr",
     "output_type": "stream",
     "text": [
      "/tmp/ipykernel_2846682/202681293.py:31: FutureWarning: The frame.append method is deprecated and will be removed from pandas in a future version. Use pandas.concat instead.\n",
      "  df=df.append({'system':'fresco','num_feats':feat,'model':model,'precision':precision,'recall':recall,'f1':f1,'enrichment':enrichment,'hit_rate':hit_rate,'features':pharm_features},ignore_index=True)\n",
      "/tmp/ipykernel_2846682/202681293.py:40: FutureWarning: The frame.append method is deprecated and will be removed from pandas in a future version. Use pandas.concat instead.\n",
      "  df=df.append({'system':'covid','num_feats':feat,'model':model,'precision':precision,'recall':recall,'f1':f1,'enrichment':enrichment,'hit_rate':hit_rate,'features':pharm_features},ignore_index=True)\n"
     ]
    },
    {
     "name": "stdout",
     "output_type": "stream",
     "text": [
      "data/covid_fragments_pharmacophore_min_3_model_cnn_2_predicted_pharmacophores.json\n"
     ]
    },
    {
     "name": "stderr",
     "output_type": "stream",
     "text": [
      "/tmp/ipykernel_2846682/202681293.py:31: FutureWarning: The frame.append method is deprecated and will be removed from pandas in a future version. Use pandas.concat instead.\n",
      "  df=df.append({'system':'fresco','num_feats':feat,'model':model,'precision':precision,'recall':recall,'f1':f1,'enrichment':enrichment,'hit_rate':hit_rate,'features':pharm_features},ignore_index=True)\n",
      "/tmp/ipykernel_2846682/202681293.py:40: FutureWarning: The frame.append method is deprecated and will be removed from pandas in a future version. Use pandas.concat instead.\n",
      "  df=df.append({'system':'covid','num_feats':feat,'model':model,'precision':precision,'recall':recall,'f1':f1,'enrichment':enrichment,'hit_rate':hit_rate,'features':pharm_features},ignore_index=True)\n",
      "/tmp/ipykernel_2846682/202681293.py:31: FutureWarning: The frame.append method is deprecated and will be removed from pandas in a future version. Use pandas.concat instead.\n",
      "  df=df.append({'system':'fresco','num_feats':feat,'model':model,'precision':precision,'recall':recall,'f1':f1,'enrichment':enrichment,'hit_rate':hit_rate,'features':pharm_features},ignore_index=True)\n"
     ]
    },
    {
     "name": "stdout",
     "output_type": "stream",
     "text": [
      "data/covid_fragments_pharmacophore_min_3_model_cnn_3_predicted_pharmacophores.json\n"
     ]
    },
    {
     "name": "stderr",
     "output_type": "stream",
     "text": [
      "/tmp/ipykernel_2846682/202681293.py:40: FutureWarning: The frame.append method is deprecated and will be removed from pandas in a future version. Use pandas.concat instead.\n",
      "  df=df.append({'system':'covid','num_feats':feat,'model':model,'precision':precision,'recall':recall,'f1':f1,'enrichment':enrichment,'hit_rate':hit_rate,'features':pharm_features},ignore_index=True)\n",
      "/tmp/ipykernel_2846682/202681293.py:31: FutureWarning: The frame.append method is deprecated and will be removed from pandas in a future version. Use pandas.concat instead.\n",
      "  df=df.append({'system':'fresco','num_feats':feat,'model':model,'precision':precision,'recall':recall,'f1':f1,'enrichment':enrichment,'hit_rate':hit_rate,'features':pharm_features},ignore_index=True)\n"
     ]
    },
    {
     "name": "stdout",
     "output_type": "stream",
     "text": [
      "data/covid_fragments_pharmacophore_min_3_model_cnn_4_predicted_pharmacophores.json\n"
     ]
    },
    {
     "name": "stderr",
     "output_type": "stream",
     "text": [
      "/tmp/ipykernel_2846682/202681293.py:40: FutureWarning: The frame.append method is deprecated and will be removed from pandas in a future version. Use pandas.concat instead.\n",
      "  df=df.append({'system':'covid','num_feats':feat,'model':model,'precision':precision,'recall':recall,'f1':f1,'enrichment':enrichment,'hit_rate':hit_rate,'features':pharm_features},ignore_index=True)\n"
     ]
    },
    {
     "name": "stdout",
     "output_type": "stream",
     "text": [
      "data/covid_fragments_pharmacophore_min_3_model_cnn_5_predicted_pharmacophores.json\n"
     ]
    },
    {
     "name": "stderr",
     "output_type": "stream",
     "text": [
      "/tmp/ipykernel_2846682/202681293.py:31: FutureWarning: The frame.append method is deprecated and will be removed from pandas in a future version. Use pandas.concat instead.\n",
      "  df=df.append({'system':'fresco','num_feats':feat,'model':model,'precision':precision,'recall':recall,'f1':f1,'enrichment':enrichment,'hit_rate':hit_rate,'features':pharm_features},ignore_index=True)\n",
      "/tmp/ipykernel_2846682/202681293.py:40: FutureWarning: The frame.append method is deprecated and will be removed from pandas in a future version. Use pandas.concat instead.\n",
      "  df=df.append({'system':'covid','num_feats':feat,'model':model,'precision':precision,'recall':recall,'f1':f1,'enrichment':enrichment,'hit_rate':hit_rate,'features':pharm_features},ignore_index=True)\n"
     ]
    },
    {
     "name": "stdout",
     "output_type": "stream",
     "text": [
      "data/covid_fragments_pharmacophore_min_4_model_cnn_1_predicted_pharmacophores.json\n"
     ]
    },
    {
     "name": "stderr",
     "output_type": "stream",
     "text": [
      "/tmp/ipykernel_2846682/202681293.py:31: FutureWarning: The frame.append method is deprecated and will be removed from pandas in a future version. Use pandas.concat instead.\n",
      "  df=df.append({'system':'fresco','num_feats':feat,'model':model,'precision':precision,'recall':recall,'f1':f1,'enrichment':enrichment,'hit_rate':hit_rate,'features':pharm_features},ignore_index=True)\n",
      "/tmp/ipykernel_2846682/202681293.py:40: FutureWarning: The frame.append method is deprecated and will be removed from pandas in a future version. Use pandas.concat instead.\n",
      "  df=df.append({'system':'covid','num_feats':feat,'model':model,'precision':precision,'recall':recall,'f1':f1,'enrichment':enrichment,'hit_rate':hit_rate,'features':pharm_features},ignore_index=True)\n",
      "/tmp/ipykernel_2846682/202681293.py:31: FutureWarning: The frame.append method is deprecated and will be removed from pandas in a future version. Use pandas.concat instead.\n",
      "  df=df.append({'system':'fresco','num_feats':feat,'model':model,'precision':precision,'recall':recall,'f1':f1,'enrichment':enrichment,'hit_rate':hit_rate,'features':pharm_features},ignore_index=True)\n"
     ]
    },
    {
     "name": "stdout",
     "output_type": "stream",
     "text": [
      "data/covid_fragments_pharmacophore_min_4_model_cnn_2_predicted_pharmacophores.json\n"
     ]
    },
    {
     "name": "stderr",
     "output_type": "stream",
     "text": [
      "/tmp/ipykernel_2846682/202681293.py:40: FutureWarning: The frame.append method is deprecated and will be removed from pandas in a future version. Use pandas.concat instead.\n",
      "  df=df.append({'system':'covid','num_feats':feat,'model':model,'precision':precision,'recall':recall,'f1':f1,'enrichment':enrichment,'hit_rate':hit_rate,'features':pharm_features},ignore_index=True)\n",
      "/tmp/ipykernel_2846682/202681293.py:31: FutureWarning: The frame.append method is deprecated and will be removed from pandas in a future version. Use pandas.concat instead.\n",
      "  df=df.append({'system':'fresco','num_feats':feat,'model':model,'precision':precision,'recall':recall,'f1':f1,'enrichment':enrichment,'hit_rate':hit_rate,'features':pharm_features},ignore_index=True)\n"
     ]
    },
    {
     "name": "stdout",
     "output_type": "stream",
     "text": [
      "data/covid_fragments_pharmacophore_min_4_model_cnn_3_predicted_pharmacophores.json\n"
     ]
    },
    {
     "name": "stderr",
     "output_type": "stream",
     "text": [
      "/tmp/ipykernel_2846682/202681293.py:40: FutureWarning: The frame.append method is deprecated and will be removed from pandas in a future version. Use pandas.concat instead.\n",
      "  df=df.append({'system':'covid','num_feats':feat,'model':model,'precision':precision,'recall':recall,'f1':f1,'enrichment':enrichment,'hit_rate':hit_rate,'features':pharm_features},ignore_index=True)\n",
      "/tmp/ipykernel_2846682/202681293.py:31: FutureWarning: The frame.append method is deprecated and will be removed from pandas in a future version. Use pandas.concat instead.\n",
      "  df=df.append({'system':'fresco','num_feats':feat,'model':model,'precision':precision,'recall':recall,'f1':f1,'enrichment':enrichment,'hit_rate':hit_rate,'features':pharm_features},ignore_index=True)\n"
     ]
    },
    {
     "name": "stdout",
     "output_type": "stream",
     "text": [
      "data/covid_fragments_pharmacophore_min_4_model_cnn_4_predicted_pharmacophores.json\n"
     ]
    },
    {
     "name": "stderr",
     "output_type": "stream",
     "text": [
      "/tmp/ipykernel_2846682/202681293.py:40: FutureWarning: The frame.append method is deprecated and will be removed from pandas in a future version. Use pandas.concat instead.\n",
      "  df=df.append({'system':'covid','num_feats':feat,'model':model,'precision':precision,'recall':recall,'f1':f1,'enrichment':enrichment,'hit_rate':hit_rate,'features':pharm_features},ignore_index=True)\n",
      "/tmp/ipykernel_2846682/202681293.py:31: FutureWarning: The frame.append method is deprecated and will be removed from pandas in a future version. Use pandas.concat instead.\n",
      "  df=df.append({'system':'fresco','num_feats':feat,'model':model,'precision':precision,'recall':recall,'f1':f1,'enrichment':enrichment,'hit_rate':hit_rate,'features':pharm_features},ignore_index=True)\n"
     ]
    },
    {
     "name": "stdout",
     "output_type": "stream",
     "text": [
      "data/covid_fragments_pharmacophore_min_4_model_cnn_5_predicted_pharmacophores.json\n"
     ]
    },
    {
     "name": "stderr",
     "output_type": "stream",
     "text": [
      "/tmp/ipykernel_2846682/202681293.py:40: FutureWarning: The frame.append method is deprecated and will be removed from pandas in a future version. Use pandas.concat instead.\n",
      "  df=df.append({'system':'covid','num_feats':feat,'model':model,'precision':precision,'recall':recall,'f1':f1,'enrichment':enrichment,'hit_rate':hit_rate,'features':pharm_features},ignore_index=True)\n",
      "/tmp/ipykernel_2846682/202681293.py:31: FutureWarning: The frame.append method is deprecated and will be removed from pandas in a future version. Use pandas.concat instead.\n",
      "  df=df.append({'system':'fresco','num_feats':feat,'model':model,'precision':precision,'recall':recall,'f1':f1,'enrichment':enrichment,'hit_rate':hit_rate,'features':pharm_features},ignore_index=True)\n"
     ]
    },
    {
     "name": "stdout",
     "output_type": "stream",
     "text": [
      "data/covid_cnn_pharmacophore_min_3_model_cnn_1_predicted_pharmacophores.json\n"
     ]
    },
    {
     "name": "stderr",
     "output_type": "stream",
     "text": [
      "/tmp/ipykernel_2846682/202681293.py:40: FutureWarning: The frame.append method is deprecated and will be removed from pandas in a future version. Use pandas.concat instead.\n",
      "  df=df.append({'system':'covid','num_feats':feat,'model':model,'precision':precision,'recall':recall,'f1':f1,'enrichment':enrichment,'hit_rate':hit_rate,'features':pharm_features},ignore_index=True)\n",
      "/tmp/ipykernel_2846682/202681293.py:31: FutureWarning: The frame.append method is deprecated and will be removed from pandas in a future version. Use pandas.concat instead.\n",
      "  df=df.append({'system':'fresco','num_feats':feat,'model':model,'precision':precision,'recall':recall,'f1':f1,'enrichment':enrichment,'hit_rate':hit_rate,'features':pharm_features},ignore_index=True)\n"
     ]
    },
    {
     "name": "stdout",
     "output_type": "stream",
     "text": [
      "data/covid_cnn_pharmacophore_min_3_model_cnn_2_predicted_pharmacophores.json\n"
     ]
    },
    {
     "name": "stderr",
     "output_type": "stream",
     "text": [
      "/tmp/ipykernel_2846682/202681293.py:40: FutureWarning: The frame.append method is deprecated and will be removed from pandas in a future version. Use pandas.concat instead.\n",
      "  df=df.append({'system':'covid','num_feats':feat,'model':model,'precision':precision,'recall':recall,'f1':f1,'enrichment':enrichment,'hit_rate':hit_rate,'features':pharm_features},ignore_index=True)\n",
      "/tmp/ipykernel_2846682/202681293.py:31: FutureWarning: The frame.append method is deprecated and will be removed from pandas in a future version. Use pandas.concat instead.\n",
      "  df=df.append({'system':'fresco','num_feats':feat,'model':model,'precision':precision,'recall':recall,'f1':f1,'enrichment':enrichment,'hit_rate':hit_rate,'features':pharm_features},ignore_index=True)\n"
     ]
    },
    {
     "name": "stdout",
     "output_type": "stream",
     "text": [
      "data/covid_cnn_pharmacophore_min_3_model_cnn_3_predicted_pharmacophores.json\n"
     ]
    },
    {
     "name": "stderr",
     "output_type": "stream",
     "text": [
      "/tmp/ipykernel_2846682/202681293.py:40: FutureWarning: The frame.append method is deprecated and will be removed from pandas in a future version. Use pandas.concat instead.\n",
      "  df=df.append({'system':'covid','num_feats':feat,'model':model,'precision':precision,'recall':recall,'f1':f1,'enrichment':enrichment,'hit_rate':hit_rate,'features':pharm_features},ignore_index=True)\n",
      "/tmp/ipykernel_2846682/202681293.py:31: FutureWarning: The frame.append method is deprecated and will be removed from pandas in a future version. Use pandas.concat instead.\n",
      "  df=df.append({'system':'fresco','num_feats':feat,'model':model,'precision':precision,'recall':recall,'f1':f1,'enrichment':enrichment,'hit_rate':hit_rate,'features':pharm_features},ignore_index=True)\n"
     ]
    },
    {
     "name": "stdout",
     "output_type": "stream",
     "text": [
      "data/covid_cnn_pharmacophore_min_3_model_cnn_4_predicted_pharmacophores.json\n"
     ]
    },
    {
     "name": "stderr",
     "output_type": "stream",
     "text": [
      "/tmp/ipykernel_2846682/202681293.py:40: FutureWarning: The frame.append method is deprecated and will be removed from pandas in a future version. Use pandas.concat instead.\n",
      "  df=df.append({'system':'covid','num_feats':feat,'model':model,'precision':precision,'recall':recall,'f1':f1,'enrichment':enrichment,'hit_rate':hit_rate,'features':pharm_features},ignore_index=True)\n"
     ]
    },
    {
     "name": "stdout",
     "output_type": "stream",
     "text": [
      "data/covid_cnn_pharmacophore_min_3_model_cnn_5_predicted_pharmacophores.json\n"
     ]
    },
    {
     "name": "stderr",
     "output_type": "stream",
     "text": [
      "/tmp/ipykernel_2846682/202681293.py:31: FutureWarning: The frame.append method is deprecated and will be removed from pandas in a future version. Use pandas.concat instead.\n",
      "  df=df.append({'system':'fresco','num_feats':feat,'model':model,'precision':precision,'recall':recall,'f1':f1,'enrichment':enrichment,'hit_rate':hit_rate,'features':pharm_features},ignore_index=True)\n",
      "/tmp/ipykernel_2846682/202681293.py:40: FutureWarning: The frame.append method is deprecated and will be removed from pandas in a future version. Use pandas.concat instead.\n",
      "  df=df.append({'system':'covid','num_feats':feat,'model':model,'precision':precision,'recall':recall,'f1':f1,'enrichment':enrichment,'hit_rate':hit_rate,'features':pharm_features},ignore_index=True)\n",
      "/tmp/ipykernel_2846682/202681293.py:31: FutureWarning: The frame.append method is deprecated and will be removed from pandas in a future version. Use pandas.concat instead.\n",
      "  df=df.append({'system':'fresco','num_feats':feat,'model':model,'precision':precision,'recall':recall,'f1':f1,'enrichment':enrichment,'hit_rate':hit_rate,'features':pharm_features},ignore_index=True)\n"
     ]
    },
    {
     "name": "stdout",
     "output_type": "stream",
     "text": [
      "data/covid_cnn_pharmacophore_min_4_model_cnn_1_predicted_pharmacophores.json\n"
     ]
    },
    {
     "name": "stderr",
     "output_type": "stream",
     "text": [
      "/tmp/ipykernel_2846682/202681293.py:40: FutureWarning: The frame.append method is deprecated and will be removed from pandas in a future version. Use pandas.concat instead.\n",
      "  df=df.append({'system':'covid','num_feats':feat,'model':model,'precision':precision,'recall':recall,'f1':f1,'enrichment':enrichment,'hit_rate':hit_rate,'features':pharm_features},ignore_index=True)\n",
      "/tmp/ipykernel_2846682/202681293.py:31: FutureWarning: The frame.append method is deprecated and will be removed from pandas in a future version. Use pandas.concat instead.\n",
      "  df=df.append({'system':'fresco','num_feats':feat,'model':model,'precision':precision,'recall':recall,'f1':f1,'enrichment':enrichment,'hit_rate':hit_rate,'features':pharm_features},ignore_index=True)\n"
     ]
    },
    {
     "name": "stdout",
     "output_type": "stream",
     "text": [
      "data/covid_cnn_pharmacophore_min_4_model_cnn_2_predicted_pharmacophores.json\n"
     ]
    },
    {
     "name": "stderr",
     "output_type": "stream",
     "text": [
      "/tmp/ipykernel_2846682/202681293.py:40: FutureWarning: The frame.append method is deprecated and will be removed from pandas in a future version. Use pandas.concat instead.\n",
      "  df=df.append({'system':'covid','num_feats':feat,'model':model,'precision':precision,'recall':recall,'f1':f1,'enrichment':enrichment,'hit_rate':hit_rate,'features':pharm_features},ignore_index=True)\n",
      "/tmp/ipykernel_2846682/202681293.py:31: FutureWarning: The frame.append method is deprecated and will be removed from pandas in a future version. Use pandas.concat instead.\n",
      "  df=df.append({'system':'fresco','num_feats':feat,'model':model,'precision':precision,'recall':recall,'f1':f1,'enrichment':enrichment,'hit_rate':hit_rate,'features':pharm_features},ignore_index=True)\n"
     ]
    },
    {
     "name": "stdout",
     "output_type": "stream",
     "text": [
      "data/covid_cnn_pharmacophore_min_4_model_cnn_3_predicted_pharmacophores.json\n"
     ]
    },
    {
     "name": "stderr",
     "output_type": "stream",
     "text": [
      "/tmp/ipykernel_2846682/202681293.py:40: FutureWarning: The frame.append method is deprecated and will be removed from pandas in a future version. Use pandas.concat instead.\n",
      "  df=df.append({'system':'covid','num_feats':feat,'model':model,'precision':precision,'recall':recall,'f1':f1,'enrichment':enrichment,'hit_rate':hit_rate,'features':pharm_features},ignore_index=True)\n",
      "/tmp/ipykernel_2846682/202681293.py:31: FutureWarning: The frame.append method is deprecated and will be removed from pandas in a future version. Use pandas.concat instead.\n",
      "  df=df.append({'system':'fresco','num_feats':feat,'model':model,'precision':precision,'recall':recall,'f1':f1,'enrichment':enrichment,'hit_rate':hit_rate,'features':pharm_features},ignore_index=True)\n"
     ]
    },
    {
     "name": "stdout",
     "output_type": "stream",
     "text": [
      "data/covid_cnn_pharmacophore_min_4_model_cnn_4_predicted_pharmacophores.json\n"
     ]
    },
    {
     "name": "stderr",
     "output_type": "stream",
     "text": [
      "/tmp/ipykernel_2846682/202681293.py:40: FutureWarning: The frame.append method is deprecated and will be removed from pandas in a future version. Use pandas.concat instead.\n",
      "  df=df.append({'system':'covid','num_feats':feat,'model':model,'precision':precision,'recall':recall,'f1':f1,'enrichment':enrichment,'hit_rate':hit_rate,'features':pharm_features},ignore_index=True)\n"
     ]
    },
    {
     "name": "stdout",
     "output_type": "stream",
     "text": [
      "data/covid_cnn_pharmacophore_min_4_model_cnn_5_predicted_pharmacophores.json\n"
     ]
    },
    {
     "name": "stderr",
     "output_type": "stream",
     "text": [
      "/tmp/ipykernel_2846682/202681293.py:31: FutureWarning: The frame.append method is deprecated and will be removed from pandas in a future version. Use pandas.concat instead.\n",
      "  df=df.append({'system':'fresco','num_feats':feat,'model':model,'precision':precision,'recall':recall,'f1':f1,'enrichment':enrichment,'hit_rate':hit_rate,'features':pharm_features},ignore_index=True)\n",
      "/tmp/ipykernel_2846682/202681293.py:40: FutureWarning: The frame.append method is deprecated and will be removed from pandas in a future version. Use pandas.concat instead.\n",
      "  df=df.append({'system':'covid','num_feats':feat,'model':model,'precision':precision,'recall':recall,'f1':f1,'enrichment':enrichment,'hit_rate':hit_rate,'features':pharm_features},ignore_index=True)\n"
     ]
    }
   ],
   "source": [
    "import numpy as np\n",
    "import pandas as pd\n",
    "import subprocess\n",
    "import matplotlib\n",
    "import matplotlib.pyplot as plt\n",
    "\n",
    "df=pd.DataFrame(columns=['system','num_feats','model','precision','recall','f1','enrichment','hit_rate','features'])\n",
    "num_feats=[3,4]\n",
    "prefixes=['covid_fragments_pharmacophore_min_','covid_cnn_pharmacophore_min_']\n",
    "for prefix in prefixes:\n",
    "    if 'fragments' in prefix:\n",
    "        pharm_features='fragments'\n",
    "    else:\n",
    "        pharm_features='cnn'\n",
    "    for feat in num_feats:\n",
    "        model_list=[]\n",
    "        # if 'fragments' in prefix:\n",
    "        #     model_list.append('model_ligand')\n",
    "        model_list+=['model_cnn_1','model_cnn_2','model_cnn_3','model_cnn_4','model_cnn_5']\n",
    "        for model in model_list:\n",
    "            pharmacophore_file='data/'+prefix+str(feat)+'_'+model+'_predicted_pharmacophores.json'\n",
    "            print(pharmacophore_file)\n",
    "            output=subprocess.check_output('python getf1.py '+pharmacophore_file+ ' data/fresco_moonshot/fresco_moonshot  --actives data/fresco_moonshot/actives_smiles.ism --decoys data/fresco_moonshot/decoys_smiles.ism ' ,shell=True)\n",
    "            output=output.decode('utf-8')\n",
    "            results=output.split()\n",
    "            f1=float(results[1])\n",
    "            recall=float(results[3])\n",
    "            precision=float(results[5])\n",
    "            hit_rate=float(results[8])\n",
    "            enrichment=float(results[11])\n",
    "            df=df.append({'system':'fresco','num_feats':feat,'model':model,'precision':precision,'recall':recall,'f1':f1,'enrichment':enrichment,'hit_rate':hit_rate,'features':pharm_features},ignore_index=True)\n",
    "            output=subprocess.check_output('python getf1.py '+pharmacophore_file+ ' data/covid_moonshot/covid_moonshot  --actives data/covid_moonshot/actives_smiles.ism --decoys data/covid_moonshot/decoys_smiles.ism ' ,shell=True)\n",
    "            output=output.decode('utf-8')\n",
    "            results=output.split()\n",
    "            f1=float(results[1])\n",
    "            recall=float(results[3])\n",
    "            precision=float(results[5])\n",
    "            hit_rate=float(results[8])\n",
    "            enrichment=float(results[11])\n",
    "            df=df.append({'system':'covid','num_feats':feat,'model':model,'precision':precision,'recall':recall,'f1':f1,'enrichment':enrichment,'hit_rate':hit_rate,'features':pharm_features},ignore_index=True)\n",
    "        "
   ]
  },
  {
   "cell_type": "code",
   "execution_count": 85,
   "metadata": {},
   "outputs": [],
   "source": [
    "df=pd.concat([df,pd.DataFrame({'system':['fresco','fresco','covid','covid','fresco','fresco','covid','covid'],'f1':[0.010905257799999998,0.207547,0.004909029800000001,0.636595,0.010905257799999998,0.207547,0.004909029800000001,0.636595],'model':['Fragment_mean','Fragment_max','Fragment_mean','Fragment_max','Fragment_mean','Fragment_max','Fragment_mean','Fragment_max'],'features':['fragments','fragments','fragments','fragments','cnn','cnn','cnn','cnn']})],ignore_index=True)"
   ]
  },
  {
   "cell_type": "code",
   "execution_count": 86,
   "metadata": {},
   "outputs": [],
   "source": [
    "import seaborn as sns\n",
    "import matplotlib.pyplot as plt\n",
    "from matplotlib.legend_handler import HandlerTuple"
   ]
  },
  {
   "cell_type": "code",
   "execution_count": 87,
   "metadata": {},
   "outputs": [
    {
     "name": "stdout",
     "output_type": "stream",
     "text": [
      "    system num_feats          model precision    recall        f1 enrichment  \\\n",
      "0   fresco         3  PharmRL_CNN_1  0.083779  0.783333  0.151369   1.369786   \n",
      "1    covid         3  PharmRL_CNN_1  0.450909  0.950192  0.611591   1.110284   \n",
      "2   fresco         3  PharmRL_CNN_2  0.076246  0.866667  0.140162   1.246628   \n",
      "3    covid         3  PharmRL_CNN_2  0.424985  0.908046   0.57899   1.046451   \n",
      "4   fresco         3  PharmRL_CNN_3  0.067797  0.133333  0.089888   1.108475   \n",
      "5    covid         3  PharmRL_CNN_3  0.298611  0.054917  0.092772   0.735277   \n",
      "6   fresco         3  PharmRL_CNN_4  0.071749  0.266667  0.113074   1.173094   \n",
      "7    covid         3  PharmRL_CNN_4  0.377285  0.369093  0.373144   0.928997   \n",
      "8   fresco         3  PharmRL_CNN_5       0.0       0.0       0.0        0.0   \n",
      "9    covid         3  PharmRL_CNN_5       0.0       0.0       0.0        0.0   \n",
      "10  fresco         4  PharmRL_CNN_1  0.083779  0.783333  0.151369   1.369786   \n",
      "11   covid         4  PharmRL_CNN_1  0.450909  0.950192  0.611591   1.110284   \n",
      "12  fresco         4  PharmRL_CNN_2   0.11215       0.2  0.143713   1.833645   \n",
      "13   covid         4  PharmRL_CNN_2   0.29572  0.097063  0.146154   0.728158   \n",
      "14  fresco         4  PharmRL_CNN_3  0.067797  0.133333  0.089888   1.108475   \n",
      "15   covid         4  PharmRL_CNN_3  0.298611  0.054917  0.092772   0.735277   \n",
      "16  fresco         4  PharmRL_CNN_4   0.05641  0.183333  0.086275   0.922308   \n",
      "17   covid         4  PharmRL_CNN_4  0.370543  0.305236  0.334734   0.912396   \n",
      "18  fresco         4  PharmRL_CNN_5       0.0       0.0       0.0        0.0   \n",
      "19   covid         4  PharmRL_CNN_5       0.0       0.0       0.0        0.0   \n",
      "20  fresco         3  PharmRL_CNN_1  0.081081       0.2  0.115385   1.325676   \n",
      "21   covid         3  PharmRL_CNN_1  0.550649  0.270754  0.363014   1.355877   \n",
      "22  fresco         3  PharmRL_CNN_2  0.064516  0.033333  0.043956   1.054839   \n",
      "23   covid         3  PharmRL_CNN_2     0.372  0.118774  0.180058   0.915985   \n",
      "24  fresco         3  PharmRL_CNN_3  0.086957  0.033333  0.048193   1.421739   \n",
      "25   covid         3  PharmRL_CNN_3   0.23913  0.070243  0.108588   0.588817   \n",
      "26  fresco         3  PharmRL_CNN_4  0.073171      0.05  0.059406   1.196341   \n",
      "27   covid         3  PharmRL_CNN_4  0.589041  0.274585  0.374564    1.45041   \n",
      "28  fresco         3  PharmRL_CNN_5  0.077295       0.8  0.140969   1.263768   \n",
      "29   covid         3  PharmRL_CNN_5  0.421601  0.827586  0.558621   1.038117   \n",
      "30  fresco         4  PharmRL_CNN_1       0.0       0.0       0.0        0.0   \n",
      "31   covid         4  PharmRL_CNN_1  0.117647  0.002554     0.005   0.289685   \n",
      "32  fresco         4  PharmRL_CNN_2       0.0       0.0       0.0        0.0   \n",
      "33   covid         4  PharmRL_CNN_2  0.085714  0.003831  0.007335   0.211056   \n",
      "34  fresco         4  PharmRL_CNN_3       0.0       0.0       0.0        0.0   \n",
      "35   covid         4  PharmRL_CNN_3       0.0       0.0       0.0        0.0   \n",
      "36  fresco         4  PharmRL_CNN_4  0.073171      0.05  0.059406   1.196341   \n",
      "37   covid         4  PharmRL_CNN_4  0.589041  0.274585  0.374564    1.45041   \n",
      "38  fresco         4  PharmRL_CNN_5  0.145833  0.116667   0.12963   2.384375   \n",
      "39   covid         4  PharmRL_CNN_5  0.311688  0.030651  0.055814   0.767478   \n",
      "40  fresco       NaN  Fragment_mean       NaN       NaN  0.010905        NaN   \n",
      "41  fresco       NaN   Fragment_max       NaN       NaN  0.207547        NaN   \n",
      "42   covid       NaN  Fragment_mean       NaN       NaN  0.004909        NaN   \n",
      "43   covid       NaN   Fragment_max       NaN       NaN  0.636595        NaN   \n",
      "44  fresco       NaN  Fragment_mean       NaN       NaN  0.010905        NaN   \n",
      "45  fresco       NaN   Fragment_max       NaN       NaN  0.207547        NaN   \n",
      "46   covid       NaN  Fragment_mean       NaN       NaN  0.004909        NaN   \n",
      "47   covid       NaN   Fragment_max       NaN       NaN  0.636595        NaN   \n",
      "\n",
      "    hit_rate   features  \n",
      "0   0.571865  fragments  \n",
      "1   0.855809  fragments  \n",
      "2   0.695209  fragments  \n",
      "3   0.867739  fragments  \n",
      "4   0.120285  fragments  \n",
      "5   0.074689  fragments  \n",
      "6   0.227319  fragments  \n",
      "7   0.397303  fragments  \n",
      "8        0.0  fragments  \n",
      "9        0.0  fragments  \n",
      "10  0.571865  fragments  \n",
      "11  0.855809  fragments  \n",
      "12  0.109072  fragments  \n",
      "13  0.133299  fragments  \n",
      "14  0.120285  fragments  \n",
      "15  0.074689  fragments  \n",
      "16  0.198777  fragments  \n",
      "17  0.334544  fragments  \n",
      "18       0.0  fragments  \n",
      "19       0.0  fragments  \n",
      "20  0.150866        cnn  \n",
      "21  0.199689        cnn  \n",
      "22    0.0316        cnn  \n",
      "23  0.129668        cnn  \n",
      "24  0.023445        cnn  \n",
      "25  0.119295        cnn  \n",
      "26  0.041794        cnn  \n",
      "27  0.189315        cnn  \n",
      "28  0.633028        cnn  \n",
      "29  0.797199        cnn  \n",
      "30  0.007136        cnn  \n",
      "31  0.008817        cnn  \n",
      "32  0.005097        cnn  \n",
      "33  0.018154        cnn  \n",
      "34       0.0        cnn  \n",
      "35       0.0        cnn  \n",
      "36  0.041794        cnn  \n",
      "37  0.189315        cnn  \n",
      "38   0.04893        cnn  \n",
      "39  0.039938        cnn  \n",
      "40       NaN  fragments  \n",
      "41       NaN  fragments  \n",
      "42       NaN  fragments  \n",
      "43       NaN  fragments  \n",
      "44       NaN        cnn  \n",
      "45       NaN        cnn  \n",
      "46       NaN        cnn  \n",
      "47       NaN        cnn  \n"
     ]
    }
   ],
   "source": [
    "#df.loc[df.model.str.contains('model_cnn'),'model']='PharmRL_CNN'\n",
    "df.loc[df.model.str.contains('model_cnn'),'model']=df.loc[df.model.str.contains('model_cnn'),'model'].str.replace('model_cnn_','PharmRL_CNN_')\n",
    "print(df)\n",
    "df.loc[df.system=='fresco','system']='Hit-to-lead'\n",
    "df.loc[df.system=='covid','system']='Full Dataset'\n",
    "df_fresco=df[df['system']=='fresco']\n",
    "df_fresco_fragment=df_fresco[df_fresco['features']=='fragments']\n",
    "df_fresco_cnn=df_fresco[df_fresco['features']=='cnn']\n",
    "df_covid=df[df['system']=='covid']\n",
    "df_covid_fragment=df_covid[df_covid['features']=='fragments']\n",
    "df_covid_cnn=df_covid[df_covid['features']=='cnn']\n",
    "df_fragments=df[df['features']=='fragments']\n",
    "df_cnn=df[df['features']=='cnn']"
   ]
  },
  {
   "cell_type": "code",
   "execution_count": 88,
   "metadata": {},
   "outputs": [
    {
     "data": {
      "text/plain": [
       "[Text(0.5, 0, '')]"
      ]
     },
     "execution_count": 88,
     "metadata": {},
     "output_type": "execute_result"
    },
    {
     "data": {
      "image/png": "[encoded data removed]",
      "text/plain": [
       "<Figure size 640x480 with 1 Axes>"
      ]
     },
     "metadata": {},
     "output_type": "display_data"
    }
   ],
   "source": [
    "ax = sns.barplot(x=\"system\", y=\"f1\", hue=\"model\", data=df_fragments)\n",
    "handles, labels = ax.get_legend_handles_labels()\n",
    "ax.legend(handles=handles, labels=labels)\n",
    "ax.set_ylabel('F1 Score')\n",
    "ax.set_title('F1 Score for features extracted from fragments')\n",
    "ax.set(xlabel=None)"
   ]
  },
  {
   "cell_type": "code",
   "execution_count": 89,
   "metadata": {},
   "outputs": [
    {
     "name": "stderr",
     "output_type": "stream",
     "text": [
      "/tmp/ipykernel_2846682/2135741555.py:2: SettingWithCopyWarning: \n",
      "A value is trying to be set on a copy of a slice from a DataFrame\n",
      "\n",
      "See the caveats in the documentation: https://pandas.pydata.org/pandas-docs/stable/user_guide/indexing.html#returning-a-view-versus-a-copy\n",
      "  df_fragments.loc[df_fragments.model.str.contains('PharmRL_CNN'),'model']='PharmRL_CNN'\n"
     ]
    },
    {
     "data": {
      "image/png": "[encoded data removed]",
      "text/plain": [
       "<Figure size 640x480 with 1 Axes>"
      ]
     },
     "metadata": {},
     "output_type": "display_data"
    }
   ],
   "source": [
    "matplotlib.rcParams.update({'font.size': 12})\n",
    "df_fragments.loc[df_fragments.model.str.contains('PharmRL_CNN'),'model']='PharmRL_CNN'\n",
    "#df_cnn.loc[df_cnn.num_feats==3,'model']='PharmRL_CNN_3'\n",
    "#ax=sns.boxplot(x='system',y='f1',hue='model',data=df_cnn[df_cnn.model.str.contains('PharmRL_CNN')])\n",
    "ax=sns.swarmplot(x='system',y='f1',hue='model',data=df_fragments[df_fragments.model.str.contains('PharmRL_CNN')])\n",
    "\n",
    "#ax=sns.boxplot(x='system',y='f1',hue='model',data=df_cnn[df_cnn['model']=='Fragment_mean'])\n",
    "#ax=sns.boxplot(x='system',y='f1',hue='model',data=df_cnn[df_cnn['model']=='Fragment_max'])\n",
    "df_fragments_hit=df_fragments[df_fragments['system']=='Hit-to-lead']\n",
    "df_fragments_full=df_fragments[df_fragments['system']=='Full Dataset']\n",
    "#plot horizontal lines for mean and max for each system\n",
    "ax.hlines(y=df_fragments_hit[df_fragments_hit['model']=='Fragment_max']['f1'],xmin=-0.25,xmax=0.25,linestyles='dashed',label='Fragment Max',color='#ff7f0e')\n",
    "ax.hlines(y=df_fragments_full[df_fragments_full['model']=='Fragment_max']['f1'],xmin=0.75,xmax=1.25,linestyles='dashed',label='Fragment Max',color='#ff7f0e')\n",
    "ax.hlines(y=df_fragments_hit[df_fragments_hit['model']=='Fragment_mean']['f1'],xmin=-0.25,xmax=0.25,linestyles='dashed',label='Fragment Mean',color='#2ca02c')\n",
    "ax.hlines(y=df_fragments_full[df_fragments_full['model']=='Fragment_mean']['f1'],xmin=0.75,xmax=1.25,linestyles='dashed',label='Fragment Mean',color='#2ca02c')\n",
    "\n",
    "#ax.hlines(y=df_cnn_hit[df_cnn_hit['model']=='Fragment_mean']['f1'],xmin=0,xmax=1,linestyles='dashed',label='Fragment Mean',color='red')\n",
    "handles, labels = ax.get_legend_handles_labels()\n",
    "ax.legend(handles=handles[:2]+[handles[3]], labels=labels[:2]+[labels[3]])\n",
    "ax.set_ylabel('F1 Score')\n",
    "ax.set(xlabel=None)\n",
    "plt.savefig('covid_f1_fragments.png',bbox_inches='tight')"
   ]
  },
  {
   "cell_type": "code",
   "execution_count": 90,
   "metadata": {},
   "outputs": [
    {
     "name": "stdout",
     "output_type": "stream",
     "text": [
      "data/covid_fragments_pharmacophore_min_3_model_ligand_predicted_pharmacophores.json\n",
      "data/covid_fragments_pharmacophore_min_3_model_cnn_1_predicted_pharmacophores.json\n"
     ]
    },
    {
     "name": "stderr",
     "output_type": "stream",
     "text": [
      "/tmp/ipykernel_2846682/1435562439.py:28: FutureWarning: The frame.append method is deprecated and will be removed from pandas in a future version. Use pandas.concat instead.\n",
      "  df=df.append({'system':'fresco','num_feats':feat,'model':model,'precision':precision,'recall':recall,'f1':f1,'enrichment':enrichment,'hit_rate':hit_rate,'features':pharm_features},ignore_index=True)\n",
      "/tmp/ipykernel_2846682/1435562439.py:37: FutureWarning: The frame.append method is deprecated and will be removed from pandas in a future version. Use pandas.concat instead.\n",
      "  df=df.append({'system':'covid','num_feats':feat,'model':model,'precision':precision,'recall':recall,'f1':f1,'enrichment':enrichment,'hit_rate':hit_rate,'features':pharm_features},ignore_index=True)\n",
      "/tmp/ipykernel_2846682/1435562439.py:28: FutureWarning: The frame.append method is deprecated and will be removed from pandas in a future version. Use pandas.concat instead.\n",
      "  df=df.append({'system':'fresco','num_feats':feat,'model':model,'precision':precision,'recall':recall,'f1':f1,'enrichment':enrichment,'hit_rate':hit_rate,'features':pharm_features},ignore_index=True)\n",
      "/tmp/ipykernel_2846682/1435562439.py:37: FutureWarning: The frame.append method is deprecated and will be removed from pandas in a future version. Use pandas.concat instead.\n",
      "  df=df.append({'system':'covid','num_feats':feat,'model':model,'precision':precision,'recall':recall,'f1':f1,'enrichment':enrichment,'hit_rate':hit_rate,'features':pharm_features},ignore_index=True)\n",
      "/tmp/ipykernel_2846682/1435562439.py:28: FutureWarning: The frame.append method is deprecated and will be removed from pandas in a future version. Use pandas.concat instead.\n",
      "  df=df.append({'system':'fresco','num_feats':feat,'model':model,'precision':precision,'recall':recall,'f1':f1,'enrichment':enrichment,'hit_rate':hit_rate,'features':pharm_features},ignore_index=True)\n"
     ]
    },
    {
     "name": "stdout",
     "output_type": "stream",
     "text": [
      "data/covid_fragments_pharmacophore_min_3_model_cnn_2_predicted_pharmacophores.json\n"
     ]
    },
    {
     "name": "stderr",
     "output_type": "stream",
     "text": [
      "/tmp/ipykernel_2846682/1435562439.py:37: FutureWarning: The frame.append method is deprecated and will be removed from pandas in a future version. Use pandas.concat instead.\n",
      "  df=df.append({'system':'covid','num_feats':feat,'model':model,'precision':precision,'recall':recall,'f1':f1,'enrichment':enrichment,'hit_rate':hit_rate,'features':pharm_features},ignore_index=True)\n",
      "/tmp/ipykernel_2846682/1435562439.py:28: FutureWarning: The frame.append method is deprecated and will be removed from pandas in a future version. Use pandas.concat instead.\n",
      "  df=df.append({'system':'fresco','num_feats':feat,'model':model,'precision':precision,'recall':recall,'f1':f1,'enrichment':enrichment,'hit_rate':hit_rate,'features':pharm_features},ignore_index=True)\n"
     ]
    },
    {
     "name": "stdout",
     "output_type": "stream",
     "text": [
      "data/covid_fragments_pharmacophore_min_3_model_cnn_3_predicted_pharmacophores.json\n"
     ]
    },
    {
     "name": "stderr",
     "output_type": "stream",
     "text": [
      "/tmp/ipykernel_2846682/1435562439.py:37: FutureWarning: The frame.append method is deprecated and will be removed from pandas in a future version. Use pandas.concat instead.\n",
      "  df=df.append({'system':'covid','num_feats':feat,'model':model,'precision':precision,'recall':recall,'f1':f1,'enrichment':enrichment,'hit_rate':hit_rate,'features':pharm_features},ignore_index=True)\n",
      "/tmp/ipykernel_2846682/1435562439.py:28: FutureWarning: The frame.append method is deprecated and will be removed from pandas in a future version. Use pandas.concat instead.\n",
      "  df=df.append({'system':'fresco','num_feats':feat,'model':model,'precision':precision,'recall':recall,'f1':f1,'enrichment':enrichment,'hit_rate':hit_rate,'features':pharm_features},ignore_index=True)\n"
     ]
    },
    {
     "name": "stdout",
     "output_type": "stream",
     "text": [
      "data/covid_fragments_pharmacophore_min_3_model_cnn_4_predicted_pharmacophores.json\n"
     ]
    },
    {
     "name": "stderr",
     "output_type": "stream",
     "text": [
      "/tmp/ipykernel_2846682/1435562439.py:37: FutureWarning: The frame.append method is deprecated and will be removed from pandas in a future version. Use pandas.concat instead.\n",
      "  df=df.append({'system':'covid','num_feats':feat,'model':model,'precision':precision,'recall':recall,'f1':f1,'enrichment':enrichment,'hit_rate':hit_rate,'features':pharm_features},ignore_index=True)\n"
     ]
    },
    {
     "name": "stdout",
     "output_type": "stream",
     "text": [
      "data/covid_fragments_pharmacophore_min_3_model_cnn_5_predicted_pharmacophores.json\n"
     ]
    },
    {
     "name": "stderr",
     "output_type": "stream",
     "text": [
      "/tmp/ipykernel_2846682/1435562439.py:28: FutureWarning: The frame.append method is deprecated and will be removed from pandas in a future version. Use pandas.concat instead.\n",
      "  df=df.append({'system':'fresco','num_feats':feat,'model':model,'precision':precision,'recall':recall,'f1':f1,'enrichment':enrichment,'hit_rate':hit_rate,'features':pharm_features},ignore_index=True)\n",
      "/tmp/ipykernel_2846682/1435562439.py:37: FutureWarning: The frame.append method is deprecated and will be removed from pandas in a future version. Use pandas.concat instead.\n",
      "  df=df.append({'system':'covid','num_feats':feat,'model':model,'precision':precision,'recall':recall,'f1':f1,'enrichment':enrichment,'hit_rate':hit_rate,'features':pharm_features},ignore_index=True)\n",
      "/tmp/ipykernel_2846682/1435562439.py:28: FutureWarning: The frame.append method is deprecated and will be removed from pandas in a future version. Use pandas.concat instead.\n",
      "  df=df.append({'system':'fresco','num_feats':feat,'model':model,'precision':precision,'recall':recall,'f1':f1,'enrichment':enrichment,'hit_rate':hit_rate,'features':pharm_features},ignore_index=True)\n",
      "/tmp/ipykernel_2846682/1435562439.py:37: FutureWarning: The frame.append method is deprecated and will be removed from pandas in a future version. Use pandas.concat instead.\n",
      "  df=df.append({'system':'covid','num_feats':feat,'model':model,'precision':precision,'recall':recall,'f1':f1,'enrichment':enrichment,'hit_rate':hit_rate,'features':pharm_features},ignore_index=True)\n"
     ]
    },
    {
     "name": "stdout",
     "output_type": "stream",
     "text": [
      "data/covid_fragments_pharmacophore_min_4_model_ligand_predicted_pharmacophores.json\n",
      "data/covid_fragments_pharmacophore_min_4_model_cnn_1_predicted_pharmacophores.json\n"
     ]
    },
    {
     "name": "stderr",
     "output_type": "stream",
     "text": [
      "/tmp/ipykernel_2846682/1435562439.py:28: FutureWarning: The frame.append method is deprecated and will be removed from pandas in a future version. Use pandas.concat instead.\n",
      "  df=df.append({'system':'fresco','num_feats':feat,'model':model,'precision':precision,'recall':recall,'f1':f1,'enrichment':enrichment,'hit_rate':hit_rate,'features':pharm_features},ignore_index=True)\n",
      "/tmp/ipykernel_2846682/1435562439.py:37: FutureWarning: The frame.append method is deprecated and will be removed from pandas in a future version. Use pandas.concat instead.\n",
      "  df=df.append({'system':'covid','num_feats':feat,'model':model,'precision':precision,'recall':recall,'f1':f1,'enrichment':enrichment,'hit_rate':hit_rate,'features':pharm_features},ignore_index=True)\n",
      "/tmp/ipykernel_2846682/1435562439.py:28: FutureWarning: The frame.append method is deprecated and will be removed from pandas in a future version. Use pandas.concat instead.\n",
      "  df=df.append({'system':'fresco','num_feats':feat,'model':model,'precision':precision,'recall':recall,'f1':f1,'enrichment':enrichment,'hit_rate':hit_rate,'features':pharm_features},ignore_index=True)\n"
     ]
    },
    {
     "name": "stdout",
     "output_type": "stream",
     "text": [
      "data/covid_fragments_pharmacophore_min_4_model_cnn_2_predicted_pharmacophores.json\n"
     ]
    },
    {
     "name": "stderr",
     "output_type": "stream",
     "text": [
      "/tmp/ipykernel_2846682/1435562439.py:37: FutureWarning: The frame.append method is deprecated and will be removed from pandas in a future version. Use pandas.concat instead.\n",
      "  df=df.append({'system':'covid','num_feats':feat,'model':model,'precision':precision,'recall':recall,'f1':f1,'enrichment':enrichment,'hit_rate':hit_rate,'features':pharm_features},ignore_index=True)\n",
      "/tmp/ipykernel_2846682/1435562439.py:28: FutureWarning: The frame.append method is deprecated and will be removed from pandas in a future version. Use pandas.concat instead.\n",
      "  df=df.append({'system':'fresco','num_feats':feat,'model':model,'precision':precision,'recall':recall,'f1':f1,'enrichment':enrichment,'hit_rate':hit_rate,'features':pharm_features},ignore_index=True)\n"
     ]
    },
    {
     "name": "stdout",
     "output_type": "stream",
     "text": [
      "data/covid_fragments_pharmacophore_min_4_model_cnn_3_predicted_pharmacophores.json\n"
     ]
    },
    {
     "name": "stderr",
     "output_type": "stream",
     "text": [
      "/tmp/ipykernel_2846682/1435562439.py:37: FutureWarning: The frame.append method is deprecated and will be removed from pandas in a future version. Use pandas.concat instead.\n",
      "  df=df.append({'system':'covid','num_feats':feat,'model':model,'precision':precision,'recall':recall,'f1':f1,'enrichment':enrichment,'hit_rate':hit_rate,'features':pharm_features},ignore_index=True)\n",
      "/tmp/ipykernel_2846682/1435562439.py:28: FutureWarning: The frame.append method is deprecated and will be removed from pandas in a future version. Use pandas.concat instead.\n",
      "  df=df.append({'system':'fresco','num_feats':feat,'model':model,'precision':precision,'recall':recall,'f1':f1,'enrichment':enrichment,'hit_rate':hit_rate,'features':pharm_features},ignore_index=True)\n"
     ]
    },
    {
     "name": "stdout",
     "output_type": "stream",
     "text": [
      "data/covid_fragments_pharmacophore_min_4_model_cnn_4_predicted_pharmacophores.json\n"
     ]
    },
    {
     "name": "stderr",
     "output_type": "stream",
     "text": [
      "/tmp/ipykernel_2846682/1435562439.py:37: FutureWarning: The frame.append method is deprecated and will be removed from pandas in a future version. Use pandas.concat instead.\n",
      "  df=df.append({'system':'covid','num_feats':feat,'model':model,'precision':precision,'recall':recall,'f1':f1,'enrichment':enrichment,'hit_rate':hit_rate,'features':pharm_features},ignore_index=True)\n",
      "/tmp/ipykernel_2846682/1435562439.py:28: FutureWarning: The frame.append method is deprecated and will be removed from pandas in a future version. Use pandas.concat instead.\n",
      "  df=df.append({'system':'fresco','num_feats':feat,'model':model,'precision':precision,'recall':recall,'f1':f1,'enrichment':enrichment,'hit_rate':hit_rate,'features':pharm_features},ignore_index=True)\n"
     ]
    },
    {
     "name": "stdout",
     "output_type": "stream",
     "text": [
      "data/covid_fragments_pharmacophore_min_4_model_cnn_5_predicted_pharmacophores.json\n"
     ]
    },
    {
     "name": "stderr",
     "output_type": "stream",
     "text": [
      "/tmp/ipykernel_2846682/1435562439.py:37: FutureWarning: The frame.append method is deprecated and will be removed from pandas in a future version. Use pandas.concat instead.\n",
      "  df=df.append({'system':'covid','num_feats':feat,'model':model,'precision':precision,'recall':recall,'f1':f1,'enrichment':enrichment,'hit_rate':hit_rate,'features':pharm_features},ignore_index=True)\n",
      "/tmp/ipykernel_2846682/1435562439.py:28: FutureWarning: The frame.append method is deprecated and will be removed from pandas in a future version. Use pandas.concat instead.\n",
      "  df=df.append({'system':'fresco','num_feats':feat,'model':model,'precision':precision,'recall':recall,'f1':f1,'enrichment':enrichment,'hit_rate':hit_rate,'features':pharm_features},ignore_index=True)\n"
     ]
    },
    {
     "name": "stdout",
     "output_type": "stream",
     "text": [
      "data/covid_cnn_pharmacophore_min_3_model_cnn_1_predicted_pharmacophores.json\n"
     ]
    },
    {
     "name": "stderr",
     "output_type": "stream",
     "text": [
      "/tmp/ipykernel_2846682/1435562439.py:37: FutureWarning: The frame.append method is deprecated and will be removed from pandas in a future version. Use pandas.concat instead.\n",
      "  df=df.append({'system':'covid','num_feats':feat,'model':model,'precision':precision,'recall':recall,'f1':f1,'enrichment':enrichment,'hit_rate':hit_rate,'features':pharm_features},ignore_index=True)\n",
      "/tmp/ipykernel_2846682/1435562439.py:28: FutureWarning: The frame.append method is deprecated and will be removed from pandas in a future version. Use pandas.concat instead.\n",
      "  df=df.append({'system':'fresco','num_feats':feat,'model':model,'precision':precision,'recall':recall,'f1':f1,'enrichment':enrichment,'hit_rate':hit_rate,'features':pharm_features},ignore_index=True)\n"
     ]
    },
    {
     "name": "stdout",
     "output_type": "stream",
     "text": [
      "data/covid_cnn_pharmacophore_min_3_model_cnn_2_predicted_pharmacophores.json\n"
     ]
    },
    {
     "name": "stderr",
     "output_type": "stream",
     "text": [
      "/tmp/ipykernel_2846682/1435562439.py:37: FutureWarning: The frame.append method is deprecated and will be removed from pandas in a future version. Use pandas.concat instead.\n",
      "  df=df.append({'system':'covid','num_feats':feat,'model':model,'precision':precision,'recall':recall,'f1':f1,'enrichment':enrichment,'hit_rate':hit_rate,'features':pharm_features},ignore_index=True)\n",
      "/tmp/ipykernel_2846682/1435562439.py:28: FutureWarning: The frame.append method is deprecated and will be removed from pandas in a future version. Use pandas.concat instead.\n",
      "  df=df.append({'system':'fresco','num_feats':feat,'model':model,'precision':precision,'recall':recall,'f1':f1,'enrichment':enrichment,'hit_rate':hit_rate,'features':pharm_features},ignore_index=True)\n"
     ]
    },
    {
     "name": "stdout",
     "output_type": "stream",
     "text": [
      "data/covid_cnn_pharmacophore_min_3_model_cnn_3_predicted_pharmacophores.json\n"
     ]
    },
    {
     "name": "stderr",
     "output_type": "stream",
     "text": [
      "/tmp/ipykernel_2846682/1435562439.py:37: FutureWarning: The frame.append method is deprecated and will be removed from pandas in a future version. Use pandas.concat instead.\n",
      "  df=df.append({'system':'covid','num_feats':feat,'model':model,'precision':precision,'recall':recall,'f1':f1,'enrichment':enrichment,'hit_rate':hit_rate,'features':pharm_features},ignore_index=True)\n",
      "/tmp/ipykernel_2846682/1435562439.py:28: FutureWarning: The frame.append method is deprecated and will be removed from pandas in a future version. Use pandas.concat instead.\n",
      "  df=df.append({'system':'fresco','num_feats':feat,'model':model,'precision':precision,'recall':recall,'f1':f1,'enrichment':enrichment,'hit_rate':hit_rate,'features':pharm_features},ignore_index=True)\n"
     ]
    },
    {
     "name": "stdout",
     "output_type": "stream",
     "text": [
      "data/covid_cnn_pharmacophore_min_3_model_cnn_4_predicted_pharmacophores.json\n"
     ]
    },
    {
     "name": "stderr",
     "output_type": "stream",
     "text": [
      "/tmp/ipykernel_2846682/1435562439.py:37: FutureWarning: The frame.append method is deprecated and will be removed from pandas in a future version. Use pandas.concat instead.\n",
      "  df=df.append({'system':'covid','num_feats':feat,'model':model,'precision':precision,'recall':recall,'f1':f1,'enrichment':enrichment,'hit_rate':hit_rate,'features':pharm_features},ignore_index=True)\n"
     ]
    },
    {
     "name": "stdout",
     "output_type": "stream",
     "text": [
      "data/covid_cnn_pharmacophore_min_3_model_cnn_5_predicted_pharmacophores.json\n"
     ]
    },
    {
     "name": "stderr",
     "output_type": "stream",
     "text": [
      "/tmp/ipykernel_2846682/1435562439.py:28: FutureWarning: The frame.append method is deprecated and will be removed from pandas in a future version. Use pandas.concat instead.\n",
      "  df=df.append({'system':'fresco','num_feats':feat,'model':model,'precision':precision,'recall':recall,'f1':f1,'enrichment':enrichment,'hit_rate':hit_rate,'features':pharm_features},ignore_index=True)\n",
      "/tmp/ipykernel_2846682/1435562439.py:37: FutureWarning: The frame.append method is deprecated and will be removed from pandas in a future version. Use pandas.concat instead.\n",
      "  df=df.append({'system':'covid','num_feats':feat,'model':model,'precision':precision,'recall':recall,'f1':f1,'enrichment':enrichment,'hit_rate':hit_rate,'features':pharm_features},ignore_index=True)\n",
      "/tmp/ipykernel_2846682/1435562439.py:28: FutureWarning: The frame.append method is deprecated and will be removed from pandas in a future version. Use pandas.concat instead.\n",
      "  df=df.append({'system':'fresco','num_feats':feat,'model':model,'precision':precision,'recall':recall,'f1':f1,'enrichment':enrichment,'hit_rate':hit_rate,'features':pharm_features},ignore_index=True)\n"
     ]
    },
    {
     "name": "stdout",
     "output_type": "stream",
     "text": [
      "data/covid_cnn_pharmacophore_min_4_model_cnn_1_predicted_pharmacophores.json\n"
     ]
    },
    {
     "name": "stderr",
     "output_type": "stream",
     "text": [
      "/tmp/ipykernel_2846682/1435562439.py:37: FutureWarning: The frame.append method is deprecated and will be removed from pandas in a future version. Use pandas.concat instead.\n",
      "  df=df.append({'system':'covid','num_feats':feat,'model':model,'precision':precision,'recall':recall,'f1':f1,'enrichment':enrichment,'hit_rate':hit_rate,'features':pharm_features},ignore_index=True)\n",
      "/tmp/ipykernel_2846682/1435562439.py:28: FutureWarning: The frame.append method is deprecated and will be removed from pandas in a future version. Use pandas.concat instead.\n",
      "  df=df.append({'system':'fresco','num_feats':feat,'model':model,'precision':precision,'recall':recall,'f1':f1,'enrichment':enrichment,'hit_rate':hit_rate,'features':pharm_features},ignore_index=True)\n"
     ]
    },
    {
     "name": "stdout",
     "output_type": "stream",
     "text": [
      "data/covid_cnn_pharmacophore_min_4_model_cnn_2_predicted_pharmacophores.json\n"
     ]
    },
    {
     "name": "stderr",
     "output_type": "stream",
     "text": [
      "/tmp/ipykernel_2846682/1435562439.py:37: FutureWarning: The frame.append method is deprecated and will be removed from pandas in a future version. Use pandas.concat instead.\n",
      "  df=df.append({'system':'covid','num_feats':feat,'model':model,'precision':precision,'recall':recall,'f1':f1,'enrichment':enrichment,'hit_rate':hit_rate,'features':pharm_features},ignore_index=True)\n",
      "/tmp/ipykernel_2846682/1435562439.py:28: FutureWarning: The frame.append method is deprecated and will be removed from pandas in a future version. Use pandas.concat instead.\n",
      "  df=df.append({'system':'fresco','num_feats':feat,'model':model,'precision':precision,'recall':recall,'f1':f1,'enrichment':enrichment,'hit_rate':hit_rate,'features':pharm_features},ignore_index=True)\n"
     ]
    },
    {
     "name": "stdout",
     "output_type": "stream",
     "text": [
      "data/covid_cnn_pharmacophore_min_4_model_cnn_3_predicted_pharmacophores.json\n"
     ]
    },
    {
     "name": "stderr",
     "output_type": "stream",
     "text": [
      "/tmp/ipykernel_2846682/1435562439.py:37: FutureWarning: The frame.append method is deprecated and will be removed from pandas in a future version. Use pandas.concat instead.\n",
      "  df=df.append({'system':'covid','num_feats':feat,'model':model,'precision':precision,'recall':recall,'f1':f1,'enrichment':enrichment,'hit_rate':hit_rate,'features':pharm_features},ignore_index=True)\n",
      "/tmp/ipykernel_2846682/1435562439.py:28: FutureWarning: The frame.append method is deprecated and will be removed from pandas in a future version. Use pandas.concat instead.\n",
      "  df=df.append({'system':'fresco','num_feats':feat,'model':model,'precision':precision,'recall':recall,'f1':f1,'enrichment':enrichment,'hit_rate':hit_rate,'features':pharm_features},ignore_index=True)\n"
     ]
    },
    {
     "name": "stdout",
     "output_type": "stream",
     "text": [
      "data/covid_cnn_pharmacophore_min_4_model_cnn_4_predicted_pharmacophores.json\n"
     ]
    },
    {
     "name": "stderr",
     "output_type": "stream",
     "text": [
      "/tmp/ipykernel_2846682/1435562439.py:37: FutureWarning: The frame.append method is deprecated and will be removed from pandas in a future version. Use pandas.concat instead.\n",
      "  df=df.append({'system':'covid','num_feats':feat,'model':model,'precision':precision,'recall':recall,'f1':f1,'enrichment':enrichment,'hit_rate':hit_rate,'features':pharm_features},ignore_index=True)\n"
     ]
    },
    {
     "name": "stdout",
     "output_type": "stream",
     "text": [
      "data/covid_cnn_pharmacophore_min_4_model_cnn_5_predicted_pharmacophores.json\n"
     ]
    },
    {
     "name": "stderr",
     "output_type": "stream",
     "text": [
      "/tmp/ipykernel_2846682/1435562439.py:28: FutureWarning: The frame.append method is deprecated and will be removed from pandas in a future version. Use pandas.concat instead.\n",
      "  df=df.append({'system':'fresco','num_feats':feat,'model':model,'precision':precision,'recall':recall,'f1':f1,'enrichment':enrichment,'hit_rate':hit_rate,'features':pharm_features},ignore_index=True)\n",
      "/tmp/ipykernel_2846682/1435562439.py:37: FutureWarning: The frame.append method is deprecated and will be removed from pandas in a future version. Use pandas.concat instead.\n",
      "  df=df.append({'system':'covid','num_feats':feat,'model':model,'precision':precision,'recall':recall,'f1':f1,'enrichment':enrichment,'hit_rate':hit_rate,'features':pharm_features},ignore_index=True)\n"
     ]
    }
   ],
   "source": [
    "import numpy as np\n",
    "import pandas as pd\n",
    "\n",
    "df=pd.DataFrame(columns=['system','num_feats','model','precision','recall','f1','enrichment','hit_rate','features'])\n",
    "num_feats=[3,4]\n",
    "prefixes=['covid_fragments_pharmacophore_min_','covid_cnn_pharmacophore_min_']\n",
    "for prefix in prefixes:\n",
    "    if 'fragments' in prefix:\n",
    "        pharm_features='fragments'\n",
    "    else:\n",
    "        pharm_features='cnn'\n",
    "    for feat in num_feats:\n",
    "        model_list=[]\n",
    "        if 'fragments' in prefix:\n",
    "            model_list.append('model_ligand')\n",
    "        model_list+=['model_cnn_1','model_cnn_2','model_cnn_3','model_cnn_4','model_cnn_5']\n",
    "        for model in model_list:\n",
    "            pharmacophore_file='data/'+prefix+str(feat)+'_'+model+'_predicted_pharmacophores.json'\n",
    "            print(pharmacophore_file)\n",
    "            output=subprocess.check_output('python getf1.py '+pharmacophore_file+ ' data/fresco_moonshot/fresco_moonshot  --actives data/fresco_moonshot/actives_smiles.ism --decoys data/fresco_moonshot/decoys_smiles.ism ' ,shell=True)\n",
    "            output=output.decode('utf-8')\n",
    "            results=output.split()\n",
    "            f1=float(results[1])\n",
    "            recall=float(results[3])\n",
    "            precision=float(results[5])\n",
    "            hit_rate=float(results[8])\n",
    "            enrichment=float(results[11])\n",
    "            df=df.append({'system':'fresco','num_feats':feat,'model':model,'precision':precision,'recall':recall,'f1':f1,'enrichment':enrichment,'hit_rate':hit_rate,'features':pharm_features},ignore_index=True)\n",
    "            output=subprocess.check_output('python getf1.py '+pharmacophore_file+ ' data/covid_moonshot/covid_moonshot  --actives data/covid_moonshot/actives_smiles.ism --decoys data/covid_moonshot/decoys_smiles.ism ' ,shell=True)\n",
    "            output=output.decode('utf-8')\n",
    "            results=output.split()\n",
    "            f1=float(results[1])\n",
    "            recall=float(results[3])\n",
    "            precision=float(results[5])\n",
    "            hit_rate=float(results[8])\n",
    "            enrichment=float(results[11])\n",
    "            df=df.append({'system':'covid','num_feats':feat,'model':model,'precision':precision,'recall':recall,'f1':f1,'enrichment':enrichment,'hit_rate':hit_rate,'features':pharm_features},ignore_index=True)\n",
    "        "
   ]
  },
  {
   "cell_type": "code",
   "execution_count": 91,
   "metadata": {},
   "outputs": [
    {
     "data": {
      "text/plain": [
       "[Text(0.5, 0, '')]"
      ]
     },
     "execution_count": 91,
     "metadata": {},
     "output_type": "execute_result"
    },
    {
     "data": {
      "image/png": "[encoded data removed]",
      "text/plain": [
       "<Figure size 640x480 with 1 Axes>"
      ]
     },
     "metadata": {},
     "output_type": "display_data"
    }
   ],
   "source": [
    "ax = sns.barplot(x=\"system\", y=\"f1\", hue=\"model\", data=df_cnn)\n",
    "handles, labels = ax.get_legend_handles_labels()\n",
    "ax.legend(handles=handles, labels=labels)\n",
    "ax.set_ylabel('F1 Score')\n",
    "ax.set_title('F1 Score for features extracted from CNN')\n",
    "ax.set(xlabel=None)"
   ]
  },
  {
   "cell_type": "code",
   "execution_count": 92,
   "metadata": {},
   "outputs": [
    {
     "data": {
      "image/png": "[encoded data removed]",
      "text/plain": [
       "<Figure size 640x480 with 1 Axes>"
      ]
     },
     "metadata": {},
     "output_type": "display_data"
    }
   ],
   "source": [
    "df_cnn.loc[df_cnn.model.str.contains('PharmRL_CNN'),'model']='PharmRL_CNN'\n",
    "#df_cnn.loc[df_cnn.num_feats==3,'model']='PharmRL_CNN_3'\n",
    "#ax=sns.boxplot(x='system',y='f1',hue='model',data=df_cnn[df_cnn.model.str.contains('PharmRL_CNN')])\n",
    "ax=sns.swarmplot(x='system',y='f1',hue='model',data=df_cnn[df_cnn.model.str.contains('PharmRL_CNN')])\n",
    "\n",
    "#ax=sns.boxplot(x='system',y='f1',hue='model',data=df_cnn[df_cnn['model']=='Fragment_mean'])\n",
    "#ax=sns.boxplot(x='system',y='f1',hue='model',data=df_cnn[df_cnn['model']=='Fragment_max'])\n",
    "df_cnn_hit=df_cnn[df_cnn['system']=='Hit-to-lead']\n",
    "df_cnn_full=df_cnn[df_cnn['system']=='Full Dataset']\n",
    "#plot horizontal lines for mean and max for each system\n",
    "ax.hlines(y=df_cnn_hit[df_cnn_hit['model']=='Fragment_max']['f1'],xmin=-0.25,xmax=0.25,linestyles='dashed',label='Fragment Max',color='#ff7f0e')\n",
    "ax.hlines(y=df_cnn_full[df_cnn_full['model']=='Fragment_max']['f1'],xmin=0.75,xmax=1.25,linestyles='dashed',label='Fragment Max',color='#ff7f0e')\n",
    "ax.hlines(y=df_cnn_hit[df_cnn_hit['model']=='Fragment_mean']['f1'],xmin=-0.25,xmax=0.25,linestyles='dashed',label='Fragment Mean',color='#2ca02c')\n",
    "ax.hlines(y=df_cnn_full[df_cnn_full['model']=='Fragment_mean']['f1'],xmin=0.75,xmax=1.25,linestyles='dashed',label='Fragment Mean',color='#2ca02c')\n",
    "\n",
    "#ax.hlines(y=df_cnn_hit[df_cnn_hit['model']=='Fragment_mean']['f1'],xmin=0,xmax=1,linestyles='dashed',label='Fragment Mean',color='red')\n",
    "handles, labels = ax.get_legend_handles_labels()\n",
    "ax.legend(handles=handles[:2]+[handles[3]], labels=labels[:2]+[labels[3]])\n",
    "ax.set_ylabel('F1 Score')\n",
    "ax.set(xlabel=None)\n",
    "plt.savefig('covid_f1_cnn.png',bbox_inches='tight')"
   ]
  },
  {
   "cell_type": "code",
   "execution_count": null,
   "metadata": {},
   "outputs": [],
   "source": []
  }
 ],
 "metadata": {
  "kernelspec": {
   "display_name": "Python 3",
   "language": "python",
   "name": "python3"
  },
  "language_info": {
   "codemirror_mode": {
    "name": "ipython",
    "version": 3
   },
   "file_extension": ".py",
   "mimetype": "text/x-python",
   "name": "python",
   "nbconvert_exporter": "python",
   "pygments_lexer": "ipython3",
   "version": "3.9.18"
  }
 },
 "nbformat": 4,
 "nbformat_minor": 2
}
