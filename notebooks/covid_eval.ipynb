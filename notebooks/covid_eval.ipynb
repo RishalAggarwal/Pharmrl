{
 "cells": [
  {
   "cell_type": "markdown",
   "metadata": {},
   "source": [
    "Setup covid dataset"
   ]
  },
  {
   "cell_type": "code",
   "execution_count": 1,
   "metadata": {},
   "outputs": [],
   "source": [
    "import os\n",
    "os.chdir('../')\n",
    "import pandas as pd"
   ]
  },
  {
   "cell_type": "code",
   "execution_count": 2,
   "metadata": {},
   "outputs": [
    {
     "data": {
      "text/html": [
       "<div>\n",
       "<style scoped>\n",
       "    .dataframe tbody tr th:only-of-type {\n",
       "        vertical-align: middle;\n",
       "    }\n",
       "\n",
       "    .dataframe tbody tr th {\n",
       "        vertical-align: top;\n",
       "    }\n",
       "\n",
       "    .dataframe thead th {\n",
       "        text-align: right;\n",
       "    }\n",
       "</style>\n",
       "<table border=\"1\" class=\"dataframe\">\n",
       "  <thead>\n",
       "    <tr style=\"text-align: right;\">\n",
       "      <th></th>\n",
       "      <th>SMILES</th>\n",
       "      <th>CID</th>\n",
       "      <th>canonical_CID</th>\n",
       "      <th>r_inhibition_at_20_uM</th>\n",
       "      <th>r_inhibition_at_50_uM</th>\n",
       "      <th>r_avg_IC50</th>\n",
       "      <th>f_inhibition_at_20_uM</th>\n",
       "      <th>f_inhibition_at_50_uM</th>\n",
       "      <th>f_avg_IC50</th>\n",
       "      <th>f_avg_pIC50</th>\n",
       "      <th>relative_solubility_at_20_uM</th>\n",
       "      <th>relative_solubility_at_100_uM</th>\n",
       "      <th>trypsin_IC50</th>\n",
       "      <th>NMR_std_ratio</th>\n",
       "      <th>acrylamide</th>\n",
       "      <th>chloroacetamide</th>\n",
       "      <th>series</th>\n",
       "      <th>frag_id</th>\n",
       "    </tr>\n",
       "  </thead>\n",
       "  <tbody>\n",
       "    <tr>\n",
       "      <th>0</th>\n",
       "      <td>CCNC(=O)CN1CC2(CCN(c3cncc4ccccc34)C2=O)c2cc(Cl...</td>\n",
       "      <td>LUO-POS-e1dab717-11</td>\n",
       "      <td>LUO-POS-e1dab717-11</td>\n",
       "      <td>NaN</td>\n",
       "      <td>NaN</td>\n",
       "      <td>NaN</td>\n",
       "      <td>NaN</td>\n",
       "      <td>NaN</td>\n",
       "      <td>0.275118</td>\n",
       "      <td>NaN</td>\n",
       "      <td>NaN</td>\n",
       "      <td>NaN</td>\n",
       "      <td>NaN</td>\n",
       "      <td>NaN</td>\n",
       "      <td>False</td>\n",
       "      <td>False</td>\n",
       "      <td>3-aminopyridine-like</td>\n",
       "      <td>NaN</td>\n",
       "    </tr>\n",
       "    <tr>\n",
       "      <th>1</th>\n",
       "      <td>O=C(CN1CC2(CCN(c3cncc4ccccc34)C2=O)c2cc(Cl)ccc...</td>\n",
       "      <td>LUO-POS-e1dab717-12</td>\n",
       "      <td>LUO-POS-e1dab717-12</td>\n",
       "      <td>NaN</td>\n",
       "      <td>NaN</td>\n",
       "      <td>NaN</td>\n",
       "      <td>NaN</td>\n",
       "      <td>NaN</td>\n",
       "      <td>0.202767</td>\n",
       "      <td>NaN</td>\n",
       "      <td>NaN</td>\n",
       "      <td>NaN</td>\n",
       "      <td>NaN</td>\n",
       "      <td>NaN</td>\n",
       "      <td>False</td>\n",
       "      <td>False</td>\n",
       "      <td>3-aminopyridine-like</td>\n",
       "      <td>NaN</td>\n",
       "    </tr>\n",
       "    <tr>\n",
       "      <th>2</th>\n",
       "      <td>CNC(=O)C1(N2C[C@]3(CCN(c4cncc5ccccc45)C3=O)c3c...</td>\n",
       "      <td>MAT-POS-e48723dc-1</td>\n",
       "      <td>MAT-POS-e48723dc-1</td>\n",
       "      <td>NaN</td>\n",
       "      <td>NaN</td>\n",
       "      <td>NaN</td>\n",
       "      <td>NaN</td>\n",
       "      <td>NaN</td>\n",
       "      <td>55.453947</td>\n",
       "      <td>NaN</td>\n",
       "      <td>NaN</td>\n",
       "      <td>NaN</td>\n",
       "      <td>NaN</td>\n",
       "      <td>NaN</td>\n",
       "      <td>False</td>\n",
       "      <td>False</td>\n",
       "      <td>Ugi</td>\n",
       "      <td>NaN</td>\n",
       "    </tr>\n",
       "    <tr>\n",
       "      <th>3</th>\n",
       "      <td>CNC(=O)C1(N2C[C@@]3(CCN(c4cncc5ccccc45)C3=O)c3...</td>\n",
       "      <td>MAT-POS-e48723dc-2</td>\n",
       "      <td>MAT-POS-e48723dc-2</td>\n",
       "      <td>NaN</td>\n",
       "      <td>NaN</td>\n",
       "      <td>NaN</td>\n",
       "      <td>NaN</td>\n",
       "      <td>NaN</td>\n",
       "      <td>0.050000</td>\n",
       "      <td>NaN</td>\n",
       "      <td>NaN</td>\n",
       "      <td>NaN</td>\n",
       "      <td>NaN</td>\n",
       "      <td>NaN</td>\n",
       "      <td>False</td>\n",
       "      <td>False</td>\n",
       "      <td>Ugi</td>\n",
       "      <td>NaN</td>\n",
       "    </tr>\n",
       "    <tr>\n",
       "      <th>4</th>\n",
       "      <td>CNC(=O)CN1C[C@@]2(CCN(c3cncc4ccccc34)C2=O)c2cc...</td>\n",
       "      <td>LUO-POS-9931618f-2</td>\n",
       "      <td>LUO-POS-9931618f-2</td>\n",
       "      <td>NaN</td>\n",
       "      <td>NaN</td>\n",
       "      <td>NaN</td>\n",
       "      <td>NaN</td>\n",
       "      <td>NaN</td>\n",
       "      <td>0.052757</td>\n",
       "      <td>NaN</td>\n",
       "      <td>NaN</td>\n",
       "      <td>NaN</td>\n",
       "      <td>NaN</td>\n",
       "      <td>NaN</td>\n",
       "      <td>False</td>\n",
       "      <td>False</td>\n",
       "      <td>Ugi</td>\n",
       "      <td>NaN</td>\n",
       "    </tr>\n",
       "  </tbody>\n",
       "</table>\n",
       "</div>"
      ],
      "text/plain": [
       "                                              SMILES                  CID  \\\n",
       "0  CCNC(=O)CN1CC2(CCN(c3cncc4ccccc34)C2=O)c2cc(Cl...  LUO-POS-e1dab717-11   \n",
       "1  O=C(CN1CC2(CCN(c3cncc4ccccc34)C2=O)c2cc(Cl)ccc...  LUO-POS-e1dab717-12   \n",
       "2  CNC(=O)C1(N2C[C@]3(CCN(c4cncc5ccccc45)C3=O)c3c...   MAT-POS-e48723dc-1   \n",
       "3  CNC(=O)C1(N2C[C@@]3(CCN(c4cncc5ccccc45)C3=O)c3...   MAT-POS-e48723dc-2   \n",
       "4  CNC(=O)CN1C[C@@]2(CCN(c3cncc4ccccc34)C2=O)c2cc...   LUO-POS-9931618f-2   \n",
       "\n",
       "         canonical_CID  r_inhibition_at_20_uM  r_inhibition_at_50_uM  \\\n",
       "0  LUO-POS-e1dab717-11                    NaN                    NaN   \n",
       "1  LUO-POS-e1dab717-12                    NaN                    NaN   \n",
       "2   MAT-POS-e48723dc-1                    NaN                    NaN   \n",
       "3   MAT-POS-e48723dc-2                    NaN                    NaN   \n",
       "4   LUO-POS-9931618f-2                    NaN                    NaN   \n",
       "\n",
       "   r_avg_IC50  f_inhibition_at_20_uM  f_inhibition_at_50_uM  f_avg_IC50  \\\n",
       "0         NaN                    NaN                    NaN    0.275118   \n",
       "1         NaN                    NaN                    NaN    0.202767   \n",
       "2         NaN                    NaN                    NaN   55.453947   \n",
       "3         NaN                    NaN                    NaN    0.050000   \n",
       "4         NaN                    NaN                    NaN    0.052757   \n",
       "\n",
       "   f_avg_pIC50  relative_solubility_at_20_uM  relative_solubility_at_100_uM  \\\n",
       "0          NaN                           NaN                            NaN   \n",
       "1          NaN                           NaN                            NaN   \n",
       "2          NaN                           NaN                            NaN   \n",
       "3          NaN                           NaN                            NaN   \n",
       "4          NaN                           NaN                            NaN   \n",
       "\n",
       "   trypsin_IC50  NMR_std_ratio acrylamide chloroacetamide  \\\n",
       "0           NaN            NaN      False           False   \n",
       "1           NaN            NaN      False           False   \n",
       "2           NaN            NaN      False           False   \n",
       "3           NaN            NaN      False           False   \n",
       "4           NaN            NaN      False           False   \n",
       "\n",
       "                 series frag_id  \n",
       "0  3-aminopyridine-like     NaN  \n",
       "1  3-aminopyridine-like     NaN  \n",
       "2                   Ugi     NaN  \n",
       "3                   Ugi     NaN  \n",
       "4                   Ugi     NaN  "
      ]
     },
     "execution_count": 2,
     "metadata": {},
     "output_type": "execute_result"
    }
   ],
   "source": [
    "df=pd.read_csv('data/covid_moonshot/activity_data.csv')\n",
    "df.head()"
   ]
  },
  {
   "cell_type": "code",
   "execution_count": 3,
   "metadata": {},
   "outputs": [
    {
     "name": "stdout",
     "output_type": "stream",
     "text": [
      "37.92434529582929\n"
     ]
    }
   ],
   "source": [
    "df_actives_smiles=df[['SMILES','CID']][df['f_avg_IC50']<=5]\n",
    "df_actives_smiles.head()\n",
    "print(len(df_actives_smiles)/len(df)*100)"
   ]
  },
  {
   "cell_type": "code",
   "execution_count": null,
   "metadata": {},
   "outputs": [],
   "source": [
    "df_actives_smiles.to_csv('data/covid_moonshot/actives_smiles.ism',index=False,sep=' ')\n",
    "df_decoys_smiles=df[['SMILES','CID']][df['f_avg_IC50']>5]\n",
    "df_decoys_smiles.to_csv('data/covid_moonshot/decoys_smiles.ism',index=False,sep=' ')"
   ]
  },
  {
   "cell_type": "code",
   "execution_count": null,
   "metadata": {},
   "outputs": [],
   "source": [
    "import prody\n",
    "import os"
   ]
  },
  {
   "cell_type": "code",
   "execution_count": null,
   "metadata": {},
   "outputs": [],
   "source": [
    "pdb_dir='/home/rishal/pharmnn_rl/data/Mpro_XChem_screen_active_site_11-May-2020'\n",
    "for file in os.listdir(pdb_dir):\n",
    "    pdb=prody.parsePDB(pdb_dir+'/'+file)\n",
    "    #remove water\n",
    "    pdb=pdb.select('not water')\n",
    "    #write out ligand to different pdb file\n",
    "    ligand=pdb.select('resname LIG')\n",
    "    prody.writePDB(pdb_dir+'/'+file.split('.pdb')[0]+'_lig.pdb',ligand)\n",
    "    pdb=pdb.select('not resname LIG')\n",
    "    prody.writePDB(pdb_dir+'/'+file.split('.pdb')[0]+'_nowat.pdb',pdb)"
   ]
  },
  {
   "cell_type": "code",
   "execution_count": null,
   "metadata": {},
   "outputs": [],
   "source": [
    "from rdkit.Chem import AllChem\n",
    "from rdkit import Chem\n",
    "\n",
    "def fix_bond_order(template, pdb_ligand):\n",
    "    #load molecule from template smiles\n",
    "    template_mol=Chem.MolFromSmiles(template)\n",
    "    #load molecule from pdb ligand\n",
    "    pdb_ligand_mol=Chem.MolFromPDBFile(pdb_ligand)\n",
    "    fixed_mol=AllChem.AssignBondOrdersFromTemplate(template_mol,pdb_ligand_mol)\n",
    "    with Chem.SDWriter(pdb_ligand.split('.pdb')[0]+'_fixed.sdf') as w:\n",
    "        w.write(fixed_mol)"
   ]
  },
  {
   "cell_type": "code",
   "execution_count": null,
   "metadata": {},
   "outputs": [],
   "source": [
    "dataset_df=pd.read_excel('/home/rishal/pharmnn_rl/data/Mpro full XChem screen - hits summary - ver-2020-06-12.xlsx')\n",
    "dataset_df.head()"
   ]
  },
  {
   "cell_type": "code",
   "execution_count": null,
   "metadata": {},
   "outputs": [],
   "source": [
    "for file in os.listdir(pdb_dir):\n",
    "    if file.endswith('lig.pdb'):\n",
    "        mpro_id=file.split('_')[0]\n",
    "        smiles=dataset_df['Compound SMILES'][dataset_df['Dataset']==mpro_id].values[0]\n",
    "        try:\n",
    "            fix_bond_order(smiles,pdb_dir+'/'+file)\n",
    "        except:\n",
    "            print(file)"
   ]
  },
  {
   "cell_type": "code",
   "execution_count": null,
   "metadata": {},
   "outputs": [],
   "source": [
    "import openbabel as ob\n",
    "from openbabel import pybel"
   ]
  },
  {
   "cell_type": "code",
   "execution_count": null,
   "metadata": {},
   "outputs": [],
   "source": [
    "\n",
    "#infer aromaticity from molecules in sdf file\n",
    "def infer_aromaticity(sdf_file):\n",
    "    mol=pybel.readfile('sdf',sdf_file)\n",
    "    for m in mol:\n",
    "        m.write('sdf',sdf_file.split('.sdf')[0]+'_arom.sdf',overwrite=True)"
   ]
  },
  {
   "cell_type": "code",
   "execution_count": null,
   "metadata": {},
   "outputs": [],
   "source": [
    "for file in os.listdir(pdb_dir):\n",
    "    if file.endswith('fixed.sdf'):\n",
    "        infer_aromaticity(pdb_dir+'/'+file)"
   ]
  },
  {
   "cell_type": "markdown",
   "metadata": {},
   "source": [
    "Extract pharmacophores from all the ligand files"
   ]
  },
  {
   "cell_type": "code",
   "execution_count": null,
   "metadata": {},
   "outputs": [],
   "source": [
    "pdb_dir='/home/rishal/pharmnn_rl/data/Mpro_XChem_screen_active_site_11-May-2020'\n",
    "for file in os.listdir(pdb_dir):\n",
    "    if file.endswith('arom.sdf'):\n",
    "        os.system(pdb_dir+'/pharmit.2023 pharma -in '+pdb_dir+'/'+file+' -out '+pdb_dir+'/'+file.split('.sdf')[0]+'.json')"
   ]
  },
  {
   "cell_type": "code",
   "execution_count": null,
   "metadata": {},
   "outputs": [],
   "source": [
    "import json\n",
    "import pandas as pd"
   ]
  },
  {
   "cell_type": "code",
   "execution_count": null,
   "metadata": {},
   "outputs": [],
   "source": [
    "def extract_json(json_file):\n",
    "    \"\"\"Takes a json files as input and returns a pandas dataframe with the headers as the keys of the json file\"\"\"\n",
    "    with open(json_file) as f:\n",
    "        data = json.load(f)\n",
    "    data=data['points']\n",
    "    df = pd.DataFrame(data)\n",
    "    return df"
   ]
  },
  {
   "cell_type": "code",
   "execution_count": null,
   "metadata": {},
   "outputs": [],
   "source": [
    "df_big=None\n",
    "for file in os.listdir(pdb_dir):\n",
    "    if file.endswith('.json'):\n",
    "        df=extract_json(pdb_dir+'/'+file)\n",
    "        if df_big is None:\n",
    "            df_big=df\n",
    "        else:\n",
    "            df_big=df_big.append(df)"
   ]
  },
  {
   "cell_type": "code",
   "execution_count": null,
   "metadata": {},
   "outputs": [],
   "source": [
    "print(df_big.head())"
   ]
  },
  {
   "cell_type": "markdown",
   "metadata": {},
   "source": [
    "Cluster extracted pharmacophore points"
   ]
  },
  {
   "cell_type": "code",
   "execution_count": null,
   "metadata": {},
   "outputs": [],
   "source": [
    "from sklearn.cluster import AgglomerativeClustering\n",
    "import numpy as np"
   ]
  },
  {
   "cell_type": "code",
   "execution_count": null,
   "metadata": {},
   "outputs": [],
   "source": [
    "def cluster_xyz(feat_to_coords,distance_threshold=1.5):\n",
    "\n",
    "    clustering = AgglomerativeClustering(n_clusters=None,compute_full_tree=True,linkage='average',distance_threshold=distance_threshold)\n",
    "    for category in feat_to_coords.keys():\n",
    "        if len(feat_to_coords[category])<2:\n",
    "            continue\n",
    "        final_xyz=[]\n",
    "        coord_array=np.array(feat_to_coords[category])\n",
    "        clustering.fit(coord_array)\n",
    "        clusters=clustering.labels_\n",
    "        for n in np.unique(clusters):\n",
    "            cluster_center=coord_array[clusters==n].mean(axis=0)\n",
    "            final_xyz.append(cluster_center)\n",
    "        feat_to_coords[category]=final_xyz\n",
    "    return feat_to_coords"
   ]
  },
  {
   "cell_type": "code",
   "execution_count": null,
   "metadata": {},
   "outputs": [],
   "source": [
    "def write_xyz(feat_to_coords,xyz_file_name,pdb_dir):\n",
    "    for feat in feat_to_coords:\n",
    "        with open(pdb_dir+'/'+feat+'_'+xyz_file_name,'w') as f:\n",
    "            for coord in feat_to_coords[feat]:\n",
    "                f.write('H '+str(coord[0])+' '+str(coord[1])+' '+str(coord[2])+'\\n')"
   ]
  },
  {
   "cell_type": "code",
   "execution_count": null,
   "metadata": {},
   "outputs": [],
   "source": [
    "feat_to_coords={}\n",
    "for feat,x,y,z in zip(df_big['name'],df_big['x'],df_big['y'],df_big['z']):\n",
    "    if feat not in feat_to_coords.keys():\n",
    "        feat_to_coords[feat]=[]\n",
    "    coords=np.array([x,y,z])\n",
    "    feat_to_coords[feat].append(coords)"
   ]
  },
  {
   "cell_type": "code",
   "execution_count": null,
   "metadata": {},
   "outputs": [],
   "source": [
    "write_xyz(feat_to_coords,'original_unclustered.xyz',pdb_dir)"
   ]
  },
  {
   "cell_type": "code",
   "execution_count": null,
   "metadata": {},
   "outputs": [],
   "source": [
    "print(feat_to_coords.keys())\n",
    "print(len(feat_to_coords['Hydrophobic']))"
   ]
  },
  {
   "cell_type": "code",
   "execution_count": null,
   "metadata": {},
   "outputs": [],
   "source": [
    "feat_to_coords=cluster_xyz(feat_to_coords,distance_threshold=1.5)\n",
    "print(len(feat_to_coords['Aromatic']))"
   ]
  },
  {
   "cell_type": "code",
   "execution_count": null,
   "metadata": {},
   "outputs": [],
   "source": [
    "write_xyz(feat_to_coords,'original_clustered.xyz',pdb_dir)"
   ]
  },
  {
   "cell_type": "code",
   "execution_count": null,
   "metadata": {},
   "outputs": [],
   "source": [
    "print(len(feat_to_coords['Hydrophobic']))"
   ]
  },
  {
   "cell_type": "code",
   "execution_count": null,
   "metadata": {},
   "outputs": [],
   "source": [
    "pdb_dir='/home/rishal/pharmnn_rl/data/Mpro_XChem_screen_active_site_11-May-2020'\n",
    "lines=[]\n",
    "file_write=open('data/covid_moonshot.txt','w')\n",
    "for file in os.listdir(pdb_dir):\n",
    "    if 'json' in file:\n",
    "        if 'query' in file:\n",
    "            continue\n",
    "        df=extract_json(pdb_dir+'/'+file)\n",
    "        for name,x,y,z in zip(df['name'],df['x'],df['y'],df['z']):\n",
    "            file_write.write(name+','+str(x)+','+str(y)+','+str(z)+','+file.split('.json')[0] + '.sdf,' +file.split('_lig')[0]+'_nowat.pdb'+'\\n')"
   ]
  },
  {
   "cell_type": "code",
   "execution_count": 6,
   "metadata": {},
   "outputs": [],
   "source": [
    "example_ligand='Mpro-x0354_0_lig_fixed_arom.sdf'\n",
    "example_protein='Mpro-x0354_0_nowat.pdb'"
   ]
  },
  {
   "cell_type": "code",
   "execution_count": null,
   "metadata": {},
   "outputs": [],
   "source": [
    "def get_points_from_xyz(file):\n",
    "    points=[]\n",
    "    with open(file) as f:\n",
    "        for line in f:\n",
    "            points.append(line.split())\n",
    "    return points"
   ]
  },
  {
   "cell_type": "code",
   "execution_count": null,
   "metadata": {},
   "outputs": [],
   "source": [
    "file_write=open('data/covid_moonshot_clustered.txt','w')\n",
    "for file in os.listdir(pdb_dir):\n",
    "    if \"orginal_clustered.xyz\" in file:\n",
    "        feature=file.split('_')[0]\n",
    "        points=get_points_from_xyz(pdb_dir+'/'+file)\n",
    "        for point in points:\n",
    "            file_write.write(feature+','+point[1]+','+point[2]+','+point[3]+','+example_ligand+','+example_protein+'\\n')"
   ]
  },
  {
   "cell_type": "markdown",
   "metadata": {},
   "source": [
    "Put clustered points into a single json file"
   ]
  },
  {
   "cell_type": "code",
   "execution_count": 4,
   "metadata": {},
   "outputs": [
    {
     "data": {
      "text/html": [
       "<div>\n",
       "<style scoped>\n",
       "    .dataframe tbody tr th:only-of-type {\n",
       "        vertical-align: middle;\n",
       "    }\n",
       "\n",
       "    .dataframe tbody tr th {\n",
       "        vertical-align: top;\n",
       "    }\n",
       "\n",
       "    .dataframe thead th {\n",
       "        text-align: right;\n",
       "    }\n",
       "</style>\n",
       "<table border=\"1\" class=\"dataframe\">\n",
       "  <thead>\n",
       "    <tr style=\"text-align: right;\">\n",
       "      <th></th>\n",
       "      <th>feature</th>\n",
       "      <th>x</th>\n",
       "      <th>y</th>\n",
       "      <th>z</th>\n",
       "      <th>ligand</th>\n",
       "      <th>protein</th>\n",
       "    </tr>\n",
       "  </thead>\n",
       "  <tbody>\n",
       "    <tr>\n",
       "      <th>0</th>\n",
       "      <td>HydrogenDonor</td>\n",
       "      <td>6.1575</td>\n",
       "      <td>0.556</td>\n",
       "      <td>17.348500</td>\n",
       "      <td>Mpro-x0072_0_lig_fixed_arom.sdf</td>\n",
       "      <td>Mpro-x0072_0_nowat.pdb</td>\n",
       "    </tr>\n",
       "    <tr>\n",
       "      <th>1</th>\n",
       "      <td>HydrogenDonor</td>\n",
       "      <td>11.4465</td>\n",
       "      <td>5.834</td>\n",
       "      <td>23.068500</td>\n",
       "      <td>Mpro-x0072_0_lig_fixed_arom.sdf</td>\n",
       "      <td>Mpro-x0072_0_nowat.pdb</td>\n",
       "    </tr>\n",
       "    <tr>\n",
       "      <th>2</th>\n",
       "      <td>HydrogenDonor</td>\n",
       "      <td>3.6965</td>\n",
       "      <td>2.460</td>\n",
       "      <td>22.820000</td>\n",
       "      <td>Mpro-x0072_0_lig_fixed_arom.sdf</td>\n",
       "      <td>Mpro-x0072_0_nowat.pdb</td>\n",
       "    </tr>\n",
       "    <tr>\n",
       "      <th>3</th>\n",
       "      <td>HydrogenDonor</td>\n",
       "      <td>10.3530</td>\n",
       "      <td>1.571</td>\n",
       "      <td>24.379000</td>\n",
       "      <td>Mpro-x0072_0_lig_fixed_arom.sdf</td>\n",
       "      <td>Mpro-x0072_0_nowat.pdb</td>\n",
       "    </tr>\n",
       "    <tr>\n",
       "      <th>4</th>\n",
       "      <td>HydrogenDonor</td>\n",
       "      <td>7.5940</td>\n",
       "      <td>-0.516</td>\n",
       "      <td>21.114667</td>\n",
       "      <td>Mpro-x0072_0_lig_fixed_arom.sdf</td>\n",
       "      <td>Mpro-x0072_0_nowat.pdb</td>\n",
       "    </tr>\n",
       "  </tbody>\n",
       "</table>\n",
       "</div>"
      ],
      "text/plain": [
       "         feature        x      y          z                           ligand  \\\n",
       "0  HydrogenDonor   6.1575  0.556  17.348500  Mpro-x0072_0_lig_fixed_arom.sdf   \n",
       "1  HydrogenDonor  11.4465  5.834  23.068500  Mpro-x0072_0_lig_fixed_arom.sdf   \n",
       "2  HydrogenDonor   3.6965  2.460  22.820000  Mpro-x0072_0_lig_fixed_arom.sdf   \n",
       "3  HydrogenDonor  10.3530  1.571  24.379000  Mpro-x0072_0_lig_fixed_arom.sdf   \n",
       "4  HydrogenDonor   7.5940 -0.516  21.114667  Mpro-x0072_0_lig_fixed_arom.sdf   \n",
       "\n",
       "                  protein  \n",
       "0  Mpro-x0072_0_nowat.pdb  \n",
       "1  Mpro-x0072_0_nowat.pdb  \n",
       "2  Mpro-x0072_0_nowat.pdb  \n",
       "3  Mpro-x0072_0_nowat.pdb  \n",
       "4  Mpro-x0072_0_nowat.pdb  "
      ]
     },
     "execution_count": 4,
     "metadata": {},
     "output_type": "execute_result"
    }
   ],
   "source": [
    "file_with_points='data/covid_moonshot_clustered.txt'\n",
    "df=pd.read_csv(file_with_points,header=None)\n",
    "df.columns=['feature','x','y','z','ligand','protein']\n",
    "df.head()"
   ]
  },
  {
   "cell_type": "code",
   "execution_count": 11,
   "metadata": {},
   "outputs": [],
   "source": [
    "import json\n",
    "json_file='data/covid_moonshot_clustered.json'\n",
    "json_dict={}\n",
    "json_dict['points']=[]\n",
    "for row in df.iterrows():\n",
    "    points_dict={}\n",
    "    points_dict['name']=row[1]['feature']\n",
    "    points_dict['x']=row[1]['x']\n",
    "    points_dict['y']=row[1]['y']\n",
    "    points_dict['z']=row[1]['z']\n",
    "    points_dict['enabled']=True\n",
    "    points_dict['radius']=1\n",
    "    json_dict['points'].append(points_dict)\n",
    "\n",
    "ligand=open('data/Mpro_XChem_screen_active_site_11-May-2020/'+ example_ligand).read()\n",
    "protein=open('data/Mpro_XChem_screen_active_site_11-May-2020/'+example_protein).read()\n",
    "json_dict['ligand']=ligand\n",
    "json_dict['receptor']=protein\n",
    "json_dict['recname']=example_protein\n",
    "json_dict['ligname']=example_ligand\n",
    "json_dict['ligandFormat']='sdf'\n",
    "json.dump(json_dict,open(json_file,'w'))"
   ]
  },
  {
   "cell_type": "markdown",
   "metadata": {},
   "source": [
    "Generate pharmacophore Queries"
   ]
  },
  {
   "cell_type": "code",
   "execution_count": null,
   "metadata": {},
   "outputs": [],
   "source": [
    "import json, sys, os\n",
    "from itertools import combinations\n",
    "\n",
    "def genqueries(fname):\n",
    "    prefix,ext = os.path.splitext(fname)\n",
    "    q = json.load(open(fname))\n",
    "    features = [feat for feat in q['points']]\n",
    "\n",
    "    for i in range(3,len(features)+1):\n",
    "        for j,combo in enumerate(combinations(features,i)):\n",
    "            query = {\"points\": combo}\n",
    "            json.dump(query, open(f'{prefix}_{i}_{j}.json','w'))"
   ]
  },
  {
   "cell_type": "code",
   "execution_count": null,
   "metadata": {},
   "outputs": [],
   "source": [
    "pdb_dir='/home/rishal/pharmnn_rl/data/Mpro_XChem_screen_active_site_11-May-2020'\n",
    "\n",
    "for file in os.listdir(pdb_dir):\n",
    "    if 'json' in file:\n",
    "        if 'query' in file:\n",
    "            continue\n",
    "        genqueries(pdb_dir+'/'+file)"
   ]
  },
  {
   "cell_type": "markdown",
   "metadata": {},
   "source": [
    "##TODO Setup Fresco benchmark"
   ]
  },
  {
   "cell_type": "code",
   "execution_count": null,
   "metadata": {},
   "outputs": [],
   "source": [
    "import pandas as pd\n",
    "df_activity =pd.read_csv('data/fresco_moonshot/covid_moonshot_activity_data.csv')\n",
    "df_activity.tail()"
   ]
  },
  {
   "cell_type": "code",
   "execution_count": null,
   "metadata": {},
   "outputs": [],
   "source": [
    "len(df_activity)"
   ]
  },
  {
   "cell_type": "code",
   "execution_count": null,
   "metadata": {},
   "outputs": [],
   "source": [
    "df_dates=pd.read_csv('data/fresco_moonshot/covid_moonshot_submission_dates.csv')\n",
    "df_dates.head()\n",
    "len(df_dates)"
   ]
  },
  {
   "cell_type": "code",
   "execution_count": null,
   "metadata": {},
   "outputs": [],
   "source": [
    "\n",
    "df_dates=df_dates.sort_values(by='date')\n",
    "df_dates.head()"
   ]
  },
  {
   "cell_type": "code",
   "execution_count": null,
   "metadata": {},
   "outputs": [],
   "source": [
    "df_dates=df_dates[df_dates['date']<=20200901]\n",
    "print(len(df_dates))"
   ]
  },
  {
   "cell_type": "code",
   "execution_count": null,
   "metadata": {},
   "outputs": [],
   "source": [
    "df_dates=df_dates[df_dates['year']<=2020]\n",
    "print(len(df_dates))"
   ]
  },
  {
   "cell_type": "code",
   "execution_count": null,
   "metadata": {},
   "outputs": [],
   "source": [
    "df_dates=df_dates[df_dates['month']<=9]\n",
    "print(len(df_dates))"
   ]
  },
  {
   "cell_type": "code",
   "execution_count": null,
   "metadata": {},
   "outputs": [],
   "source": [
    "print(df_dates.head())\n",
    "print(df_dates.tail())"
   ]
  },
  {
   "cell_type": "code",
   "execution_count": null,
   "metadata": {},
   "outputs": [],
   "source": [
    "df_activity.head()\n",
    "df_activity['canonical_CID']=df_activity['canonical_CID'].apply(lambda x: '-'.join(x.split('-')[:-1]))\n",
    "df_activity.head()\n"
   ]
  },
  {
   "cell_type": "code",
   "execution_count": null,
   "metadata": {},
   "outputs": [],
   "source": [
    "print(df_dates.head())"
   ]
  },
  {
   "cell_type": "code",
   "execution_count": null,
   "metadata": {},
   "outputs": [],
   "source": [
    "df_activity_final=None\n",
    "for submission in df_dates['submission_id']:\n",
    "    df_temp=df_activity[df_activity['canonical_CID'].str.contains(submission)]\n",
    "    if df_activity_final is None:\n",
    "        df_activity_final=df_temp\n",
    "    else:\n",
    "        df_activity_final=df_activity_final.append(df_temp)"
   ]
  },
  {
   "cell_type": "code",
   "execution_count": null,
   "metadata": {},
   "outputs": [],
   "source": [
    "df_activity_final.head()"
   ]
  },
  {
   "cell_type": "code",
   "execution_count": null,
   "metadata": {},
   "outputs": [],
   "source": [
    "len(df_activity_final)"
   ]
  },
  {
   "cell_type": "code",
   "execution_count": null,
   "metadata": {},
   "outputs": [],
   "source": [
    "print(len(df_activity_final[df_activity_final['f_avg_IC50']<=0.5]))"
   ]
  },
  {
   "cell_type": "code",
   "execution_count": null,
   "metadata": {},
   "outputs": [],
   "source": [
    "print(df_activity_final[df_activity_final['canonical_CID']=='DAR-DIA-23aa0b97'])"
   ]
  },
  {
   "cell_type": "code",
   "execution_count": null,
   "metadata": {},
   "outputs": [],
   "source": [
    "from rdkit.Chem import PandasTools\n",
    "\n",
    "sdfFile = 'data/fresco_moonshot/covid_moonshot_docked_mols.sdf'\n",
    "df_docking = PandasTools.LoadSDF(\n",
    "    sdfFile, idName='canonical_CID', smilesName='SMILES', molColName='mol')"
   ]
  },
  {
   "cell_type": "code",
   "execution_count": null,
   "metadata": {},
   "outputs": [],
   "source": [
    "from distutils.util import strtobool\n",
    "df_docking = df_docking.dropna(subset=['acrylamide'])\n",
    "df_docking['acrylamide'] = df_docking['acrylamide'].apply(\n",
    "    strtobool).astype(bool)\n",
    "df_docking['chloroacetamide'] = df_docking['chloroacetamide'].apply(\n",
    "    strtobool).astype(bool)\n",
    "\n",
    "df_docking = df_docking.query('~chloroacetamide & ~acrylamide').reset_index()\n",
    "df_docking"
   ]
  },
  {
   "cell_type": "code",
   "execution_count": null,
   "metadata": {},
   "outputs": [],
   "source": [
    "\n",
    "df_docking.f_avg_IC50 = df_docking.f_avg_IC50.astype(float)\n",
    "df_docking['Chemgauss4 Score'] = df_docking['Chemgauss4 Score'].astype(float)\n",
    "\n",
    "columns_to_keep = ['canonical_CID', 'Chemgauss4 Score', 'f_avg_IC50','SMILES']\n",
    "df_docking = df_docking[columns_to_keep]\n",
    "df_docking_grouped = df_docking.groupby(by=df_docking.canonical_CID)\n",
    "df_docking_grouped = df_docking_grouped.agg({'SMILES':'first', 'Chemgauss4 Score':'mean', 'f_avg_IC50':'mean'})\n",
    "df_docking_grouped['canonical_CID'] = df_docking_grouped.index\n",
    "\n",
    "df_docking_grouped['hit'] = df_docking_grouped['f_avg_IC50'] < 5"
   ]
  },
  {
   "cell_type": "code",
   "execution_count": null,
   "metadata": {},
   "outputs": [],
   "source": [
    "print(len(df_docking_grouped[df_docking_grouped['hit'] == True]))"
   ]
  },
  {
   "cell_type": "code",
   "execution_count": null,
   "metadata": {},
   "outputs": [],
   "source": [
    "print(len(df_docking_grouped))"
   ]
  },
  {
   "cell_type": "code",
   "execution_count": null,
   "metadata": {},
   "outputs": [],
   "source": [
    "print(df_docking_grouped.head())"
   ]
  },
  {
   "cell_type": "code",
   "execution_count": null,
   "metadata": {},
   "outputs": [],
   "source": [
    "def remove_suffix(id):\n",
    "    id_separated = id.split('-')[:-1]\n",
    "    new_id = '-'.join(id_separated)\n",
    "    return new_id\n",
    "df_docking_grouped['submission_id'] = df_docking_grouped['canonical_CID'].apply(remove_suffix)\n",
    "df_merged = df_docking_grouped.merge(df_dates, on='submission_id')\n",
    "df_merged['Neg Dock Score'] = df_merged['Chemgauss4 Score']*-1"
   ]
  },
  {
   "cell_type": "code",
   "execution_count": null,
   "metadata": {},
   "outputs": [],
   "source": [
    "print(len(df_docking_grouped))"
   ]
  },
  {
   "cell_type": "code",
   "execution_count": null,
   "metadata": {},
   "outputs": [],
   "source": [
    "print(df_merged.head())\n",
    "print(df_merged.tail())"
   ]
  },
  {
   "cell_type": "code",
   "execution_count": null,
   "metadata": {},
   "outputs": [],
   "source": [
    "df_merged.sort_values(by='date', ascending=False).head()"
   ]
  },
  {
   "cell_type": "code",
   "execution_count": null,
   "metadata": {},
   "outputs": [],
   "source": [
    "print(len(df_merged))"
   ]
  },
  {
   "cell_type": "code",
   "execution_count": null,
   "metadata": {},
   "outputs": [],
   "source": [
    "year = '2020'\n",
    "month = '09'\n",
    "day = '01'\n",
    "date_to_plot = int(f'{year}{month}{day}')\n",
    "ic50_threshold = 5\n",
    "\n",
    "#df_filtered_by_date = df_merged.query('date < @date_to_plot').copy()\n",
    "df_filtered_by_date=df_merged[df_merged['date']<20200901]\n",
    "df_filtered_by_date['hit'] = df_filtered_by_date['f_avg_IC50'] < ic50_threshold\n",
    "print(len(df_filtered_by_date))"
   ]
  },
  {
   "cell_type": "code",
   "execution_count": null,
   "metadata": {},
   "outputs": [],
   "source": [
    "print(len(df_filtered_by_date[df_filtered_by_date['hit'] == True]))"
   ]
  },
  {
   "cell_type": "code",
   "execution_count": null,
   "metadata": {},
   "outputs": [],
   "source": [
    "df_actives=df_filtered_by_date[df_filtered_by_date['hit'] == True]\n",
    "df_actives.head()"
   ]
  },
  {
   "cell_type": "code",
   "execution_count": null,
   "metadata": {},
   "outputs": [],
   "source": [
    "df_actives=df_actives[['SMILES','canonical_CID']]\n",
    "df_actives.head()"
   ]
  },
  {
   "cell_type": "code",
   "execution_count": null,
   "metadata": {},
   "outputs": [],
   "source": [
    "df_actives.to_csv('data/fresco_moonshot/actives_smiles.ism',index=False,sep=' ')"
   ]
  },
  {
   "cell_type": "code",
   "execution_count": null,
   "metadata": {},
   "outputs": [],
   "source": [
    "df_decoys=df_filtered_by_date[df_filtered_by_date['hit'] == False]\n",
    "df_decoys=df_decoys[['SMILES','canonical_CID']]\n",
    "df_decoys.to_csv('data/fresco_moonshot/decoys_smiles.ism',index=False,sep=' ')"
   ]
  },
  {
   "cell_type": "markdown",
   "metadata": {},
   "source": [
    "Evaluate generated pharmacophores"
   ]
  },
  {
   "cell_type": "code",
   "execution_count": null,
   "metadata": {},
   "outputs": [],
   "source": [
    "import subprocess\n",
    "import pandas as pd\n",
    "systems=[]\n",
    "for file in os.listdir(pdb_dir):\n",
    "    system=file.split('_')[0]\n",
    "    if system not in systems:\n",
    "        systems.append(system)\n",
    "        scores={}\n",
    "        for file in os.listdir(pdb_dir):\n",
    "            if system in file:\n",
    "                if 'json' in file:\n",
    "                    output=subprocess.check_output('python getf1.py '+pdb_dir+'/'+file+' data/covid_moonshot/covid_moonshot/ --actives data/covid_moonshot/actives_smiles.ism --decoys data/covid_moonshot/decoys_smiles.ism',shell=True)\n",
    "                    output=output.decode()\n",
    "                    output=output.split(' ')\n",
    "                    f1=output[1]\n",
    "                    scores[file]=f1   \n",
    "            else:\n",
    "                continue\n",
    "        df=pd.DataFrame.from_dict(scores,orient='index')\n",
    "        df.to_csv(pdb_dir+'/'+system+'_scores.csv')\n",
    "        print(system)\n",
    "    else:\n",
    "        continue"
   ]
  },
  {
   "cell_type": "code",
   "execution_count": null,
   "metadata": {},
   "outputs": [],
   "source": [
    "import os\n",
    "import pandas as pd\n",
    "pdb_dir='/home/rishal/pharmnn_rl/data/Mpro_XChem_screen_active_site_11-May-2020'\n",
    "for file in os.listdir(pdb_dir):\n",
    "    if \"scores.csv\" in file:\n",
    "        df=pd.read_csv(pdb_dir+'/'+file)\n",
    "        try:\n",
    "            df=df.sort_values(by='0',ascending=False)\n",
    "        except:\n",
    "            continue\n",
    "        print(df.head())\n",
    "        print(len(df[df['0']>0.46]),len(df))"
   ]
  },
  {
   "cell_type": "code",
   "execution_count": null,
   "metadata": {},
   "outputs": [],
   "source": []
  }
 ],
 "metadata": {
  "kernelspec": {
   "display_name": "Python 3",
   "language": "python",
   "name": "python3"
  },
  "language_info": {
   "codemirror_mode": {
    "name": "ipython",
    "version": 3
   },
   "file_extension": ".py",
   "mimetype": "text/x-python",
   "name": "python",
   "nbconvert_exporter": "python",
   "pygments_lexer": "ipython3",
   "version": "3.9.18"
  }
 },
 "nbformat": 4,
 "nbformat_minor": 2
}
